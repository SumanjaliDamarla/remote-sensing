{
 "cells": [
  {
   "cell_type": "code",
   "execution_count": 1,
   "metadata": {},
   "outputs": [],
   "source": [
    "import os\n",
    "import shutil\n",
    "from glob import glob\n",
    "from osgeo import gdal\n",
    "from statistics import mode\n",
    "from PIL import Image\n",
    "import numpy as np\n",
    "import matplotlib.pyplot as plt"
   ]
  },
  {
   "cell_type": "code",
   "execution_count": 2,
   "metadata": {},
   "outputs": [],
   "source": [
    "if not os.path.exists(os.getcwd()+\"\\\\mosaic_images\"):\n",
    "    stack_folder = os.makedirs(os.getcwd()+\"\\\\mosaic_images\")"
   ]
  },
  {
   "cell_type": "code",
   "execution_count": 3,
   "metadata": {},
   "outputs": [
    {
     "data": {
      "text/plain": [
       "['C:\\\\Users\\\\Hello\\\\Documents\\\\remote-sensing\\\\APIs\\\\SentinelSat\\\\stacked_images\\\\Godavari2016_archive',\n",
       " 'C:\\\\Users\\\\Hello\\\\Documents\\\\remote-sensing\\\\APIs\\\\SentinelSat\\\\stacked_images\\\\Godavari2017_archive',\n",
       " 'C:\\\\Users\\\\Hello\\\\Documents\\\\remote-sensing\\\\APIs\\\\SentinelSat\\\\stacked_images\\\\Godavari2018_archive',\n",
       " 'C:\\\\Users\\\\Hello\\\\Documents\\\\remote-sensing\\\\APIs\\\\SentinelSat\\\\stacked_images\\\\Krishna2016_archive',\n",
       " 'C:\\\\Users\\\\Hello\\\\Documents\\\\remote-sensing\\\\APIs\\\\SentinelSat\\\\stacked_images\\\\Krishna2017_archive',\n",
       " 'C:\\\\Users\\\\Hello\\\\Documents\\\\remote-sensing\\\\APIs\\\\SentinelSat\\\\stacked_images\\\\Krishna2018_archive']"
      ]
     },
     "execution_count": 3,
     "metadata": {},
     "output_type": "execute_result"
    }
   ],
   "source": [
    "stacked_images = os.getcwd() + \"\\\\stacked_images\"\n",
    "month_list = glob(stacked_images+\"\\\\*_archive\")\n",
    "month_list"
   ]
  },
  {
   "cell_type": "code",
   "execution_count": 4,
   "metadata": {},
   "outputs": [],
   "source": [
    "#curating files w.r.t date\n",
    "paths = {}\n",
    "for month in month_list:\n",
    "    stacks = glob(month+\"\\\\*.tif\")\n",
    "    for stack in stacks:\n",
    "        date = month.split('\\\\')[-1].split('_')[0][:-4]+(stack.split(\"\\\\\")[-1].split('.')[0].split('_')[-1][:8])\n",
    "        value = []\n",
    "        if date in paths.keys():\n",
    "            value = paths.get(date)\n",
    "        value.append(stack)\n",
    "        paths.update({date: value})"
   ]
  },
  {
   "cell_type": "code",
   "execution_count": null,
   "metadata": {},
   "outputs": [],
   "source": [
    "#filter by tiles count\n",
    "maxTiles = int(input(\"How many tiles to be merged? \"))\n",
    "pop = []\n",
    "for key, value in paths.items():\n",
    "    if len(value) < maxTiles:\n",
    "        pop.append(key)\n",
    "for key in pop:\n",
    "    paths.pop(key)"
   ]
  },
  {
   "cell_type": "code",
   "execution_count": null,
   "metadata": {
    "scrolled": false
   },
   "outputs": [],
   "source": [
    "#delete improper scenes\n",
    "for key, value in paths.items():\n",
    "    if len(value) > maxTiles:\n",
    "        print(\"There are extra tiles. Creating the best match \" + str(key) + \"... Recheck the mosaic for this\")\n",
    "        black_counts = []\n",
    "        for path in value:\n",
    "            ds = gdal.Open(path)\n",
    "            nir = np.array(ds.GetRasterBand(1).ReadAsArray())\n",
    "            blue = np.array(ds.GetRasterBand(2).ReadAsArray())\n",
    "            green = np.array(ds.GetRasterBand(3).ReadAsArray())\n",
    "            red = np.array(ds.GetRasterBand(4).ReadAsArray())\n",
    "            stacked_array = np.dstack((nir, blue, green, red))\n",
    "            print(path.split('\\\\')[-1].split('.')[0])\n",
    "            black_count = 0\n",
    "            black = [0,0,0,0]\n",
    "            for row in stacked_array:\n",
    "                black_count = black_count + row.tolist().count(black)    \n",
    "            black_counts.append(black_count)\n",
    "        zipped = zip(value, black_counts)\n",
    "        res = list(sorted(zipped, key = lambda x: x[1]))\n",
    "        vals = []\n",
    "        for file in res:\n",
    "            vals.append(file[0])\n",
    "        paths[key] = vals[:maxTiles]"
   ]
  },
  {
   "cell_type": "code",
   "execution_count": 6,
   "metadata": {},
   "outputs": [
    {
     "name": "stdout",
     "output_type": "stream",
     "text": [
      "(1/3) Godavari20180225 - saved to mosaic_images...\n",
      "(2/3) Krishna20170210 - saved to mosaic_images...\n",
      "Mosaicing C:\\Users\\Hello\\Documents\\remote-sensing\\APIs\\SentinelSat\\mosaic_images\\Krishna20180302.tif\n",
      "(3/3) Krishna20180302 - saved to mosaic_images...\n"
     ]
    }
   ],
   "source": [
    "#Mosaic\n",
    "\n",
    "tot = len(paths.keys())\n",
    "i = 1\n",
    "for key, value in paths.items():\n",
    "    dst = os.getcwd() + \"\\\\mosaic_images\\\\\" + str(key) + \".tif\"\n",
    "    srcs = \" \".join(value)\n",
    "    print(\"Mosaicing \" + dst)\n",
    "    os.system(\"gdal_merge.py -v \" + srcs + \" -o \" + dst)\n",
    "    if os.path.exists(dst):\n",
    "        print(\"(\" + str(i) + \"/\" + str(tot) + \") \" + str(key)+\" - saved to mosaic_images...\")  \n",
    "    i = i + 1"
   ]
  },
  {
   "cell_type": "code",
   "execution_count": null,
   "metadata": {},
   "outputs": [],
   "source": [
    "#show, show all images in folder"
   ]
  },
  {
   "cell_type": "code",
   "execution_count": null,
   "metadata": {},
   "outputs": [],
   "source": [
    "#cleanup"
   ]
  }
 ],
 "metadata": {
  "kernelspec": {
   "display_name": "Python 3",
   "language": "python",
   "name": "python3"
  },
  "language_info": {
   "codemirror_mode": {
    "name": "ipython",
    "version": 3
   },
   "file_extension": ".py",
   "mimetype": "text/x-python",
   "name": "python",
   "nbconvert_exporter": "python",
   "pygments_lexer": "ipython3",
   "version": "3.7.6"
  }
 },
 "nbformat": 4,
 "nbformat_minor": 4
}
