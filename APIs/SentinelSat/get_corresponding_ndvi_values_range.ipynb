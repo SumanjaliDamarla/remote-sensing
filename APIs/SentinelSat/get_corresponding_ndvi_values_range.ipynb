{
 "cells": [
  {
   "cell_type": "code",
   "execution_count": 1,
   "metadata": {},
   "outputs": [],
   "source": [
    "import os\n",
    "from glob import glob\n",
    "import earthpy.plot as ep"
   ]
  },
  {
   "cell_type": "code",
   "execution_count": 2,
   "metadata": {},
   "outputs": [],
   "source": [
    "import gdal\n",
    "import numpy as np"
   ]
  },
  {
   "cell_type": "code",
   "execution_count": 3,
   "metadata": {},
   "outputs": [],
   "source": [
    "import matplotlib.pyplot as plt"
   ]
  },
  {
   "cell_type": "code",
   "execution_count": 4,
   "metadata": {},
   "outputs": [
    {
     "data": {
      "text/plain": [
       "['C:\\\\Users\\\\Hello\\\\Documents\\\\remote-sensing\\\\APIs\\\\SentinelSat\\\\ndvi_images\\\\Godavari20180225.tif',\n",
       " 'C:\\\\Users\\\\Hello\\\\Documents\\\\remote-sensing\\\\APIs\\\\SentinelSat\\\\ndvi_images\\\\Godavari20190215.tif',\n",
       " 'C:\\\\Users\\\\Hello\\\\Documents\\\\remote-sensing\\\\APIs\\\\SentinelSat\\\\ndvi_images\\\\Krishna20170210.tif',\n",
       " 'C:\\\\Users\\\\Hello\\\\Documents\\\\remote-sensing\\\\APIs\\\\SentinelSat\\\\ndvi_images\\\\Krishna20180302.tif',\n",
       " 'C:\\\\Users\\\\Hello\\\\Documents\\\\remote-sensing\\\\APIs\\\\SentinelSat\\\\ndvi_images\\\\Krishna20190210.tif',\n",
       " 'C:\\\\Users\\\\Hello\\\\Documents\\\\remote-sensing\\\\APIs\\\\SentinelSat\\\\ndvi_images\\\\Krishna20200215.tif']"
      ]
     },
     "execution_count": 4,
     "metadata": {},
     "output_type": "execute_result"
    }
   ],
   "source": [
    "path = os.getcwd()\n",
    "path = path + \"\\\\ndvi_images\"\n",
    "orig_scenes = glob(path+\"\\\\*.tif\")\n",
    "orig_scenes"
   ]
  },
  {
   "cell_type": "code",
   "execution_count": 5,
   "metadata": {},
   "outputs": [
    {
     "data": {
      "text/plain": [
       "['C:\\\\Users\\\\Hello\\\\Documents\\\\remote-sensing\\\\APIs\\\\SentinelSat\\\\rsgislib_clusters\\\\Godavari20180225_sub_four_clusters_ndvi.tif',\n",
       " 'C:\\\\Users\\\\Hello\\\\Documents\\\\remote-sensing\\\\APIs\\\\SentinelSat\\\\rsgislib_clusters\\\\Godavari20190215_sub_four_clusters_ndvi.tif',\n",
       " 'C:\\\\Users\\\\Hello\\\\Documents\\\\remote-sensing\\\\APIs\\\\SentinelSat\\\\rsgislib_clusters\\\\Krishna20170210_sub_four_clusters_ndvi.tif',\n",
       " 'C:\\\\Users\\\\Hello\\\\Documents\\\\remote-sensing\\\\APIs\\\\SentinelSat\\\\rsgislib_clusters\\\\Krishna20180302_sub_four_clusters_ndvi.tif',\n",
       " 'C:\\\\Users\\\\Hello\\\\Documents\\\\remote-sensing\\\\APIs\\\\SentinelSat\\\\rsgislib_clusters\\\\Krishna20190210_sub_four_clusters_ndvi.tif',\n",
       " 'C:\\\\Users\\\\Hello\\\\Documents\\\\remote-sensing\\\\APIs\\\\SentinelSat\\\\rsgislib_clusters\\\\Krishna20200215_sub_four_clusters_ndvi.tif']"
      ]
     },
     "execution_count": 5,
     "metadata": {},
     "output_type": "execute_result"
    }
   ],
   "source": [
    "data = os.getcwd() + \"\\\\rsgislib_clusters\"\n",
    "scenes = glob(data+\"\\\\*_four_clusters_ndvi.tif\")\n",
    "scenes"
   ]
  },
  {
   "cell_type": "code",
   "execution_count": 6,
   "metadata": {},
   "outputs": [],
   "source": [
    "def filterCluster(clusters, num, ndvi_orig, empty):\n",
    "    cls = np.where(clusters == num, ndvi_orig, empty)\n",
    "    minimum = np.nanmin(cls)\n",
    "    maximum = np.nanmax(cls)\n",
    "    return [num, minimum, maximum]"
   ]
  },
  {
   "cell_type": "code",
   "execution_count": 7,
   "metadata": {
    "scrolled": false
   },
   "outputs": [
    {
     "name": "stdout",
     "output_type": "stream",
     "text": [
      "Godavari20180225\n",
      "[1, 0.6090932845570943, 0.8625719769673704]\n",
      "[2, 0.00930381777350016, 0.3074418604651163]\n",
      "[3, 0.3074433656957929, 0.6090931554237707]\n",
      "[4, -0.6267696267696268, 0.009302325581395349]\n",
      "Godavari20190215\n",
      "[1, 0.7038167938931298, 0.9995544664736021]\n",
      "[2, -0.014127144298688193, 0.3910806174957118]\n",
      "[3, 0.3910811677895412, 0.70381602223907]\n",
      "[4, -1.0, -0.0141287284144427]\n",
      "Krishna20170210\n",
      "[1, -0.45745322872661437, 0.11025517573423206]\n",
      "[2, 0.3371868978805395, 0.5299847792998478]\n",
      "[3, 0.11025537089582489, 0.33718604134252056]\n",
      "[4, 0.5299850074962519, 0.7816863100634632]\n",
      "Krishna20180302\n",
      "[1, 0.2957393483709273, 0.49638095238095237]\n",
      "[2, 0.06473988439306358, 0.2957388170447318]\n",
      "[3, -0.5078610603290676, 0.06473953628425173]\n",
      "[4, 0.49638118214716526, 0.7931895168479229]\n",
      "Krishna20190210\n",
      "[1, 0.12958963282937366, 0.3727126805778491]\n",
      "[2, 0.5825968728755948, 0.8892128279883382]\n",
      "[3, -0.9952941176470588, 0.12958867757629366]\n",
      "[4, 0.37271301620491376, 0.5825963919349133]\n",
      "Krishna20200215\n",
      "[1, 0.38305322128851543, 0.6896282817780088]\n",
      "[2, -1.0, 0.000855431993156544]\n",
      "[3, 0.6896284829721362, 0.9996265172735761]\n",
      "[4, 0.000856898029134533, 0.3830529990479213]\n",
      "{'Godavari20180225': [[1, 0.6090932845570943, 0.8625719769673704], [2, 0.00930381777350016, 0.3074418604651163], [3, 0.3074433656957929, 0.6090931554237707], [4, -0.6267696267696268, 0.009302325581395349]], 'Godavari20190215': [[1, 0.7038167938931298, 0.9995544664736021], [2, -0.014127144298688193, 0.3910806174957118], [3, 0.3910811677895412, 0.70381602223907], [4, -1.0, -0.0141287284144427]], 'Krishna20170210': [[1, -0.45745322872661437, 0.11025517573423206], [2, 0.3371868978805395, 0.5299847792998478], [3, 0.11025537089582489, 0.33718604134252056], [4, 0.5299850074962519, 0.7816863100634632]], 'Krishna20180302': [[1, 0.2957393483709273, 0.49638095238095237], [2, 0.06473988439306358, 0.2957388170447318], [3, -0.5078610603290676, 0.06473953628425173], [4, 0.49638118214716526, 0.7931895168479229]], 'Krishna20190210': [[1, 0.12958963282937366, 0.3727126805778491], [2, 0.5825968728755948, 0.8892128279883382], [3, -0.9952941176470588, 0.12958867757629366], [4, 0.37271301620491376, 0.5825963919349133]], 'Krishna20200215': [[1, 0.38305322128851543, 0.6896282817780088], [2, -1.0, 0.000855431993156544], [3, 0.6896284829721362, 0.9996265172735761], [4, 0.000856898029134533, 0.3830529990479213]]}\n"
     ]
    }
   ],
   "source": [
    "date_bands = {}\n",
    "for i in range(len(orig_scenes)):\n",
    "    date = orig_scenes[i].split('\\\\')[-1].split('.')[0]\n",
    "    ndvi_image = gdal.Open(orig_scenes[i])\n",
    "    ndvi_orig = np.array(ndvi_image.GetRasterBand(1).ReadAsArray())\n",
    "    clustered_image = gdal.Open(scenes[i])\n",
    "    clusters = np.array(clustered_image.GetRasterBand(1).ReadAsArray())\n",
    "    band_values = []\n",
    "    for num in range(1,5):\n",
    "        band_values.append(filterCluster(clusters, num, ndvi_orig, np.nan))\n",
    "    date_bands[date] = band_values\n",
    "    print(date)\n",
    "    for band in band_values:\n",
    "        print(band)\n",
    "print(date_bands)"
   ]
  },
  {
   "cell_type": "code",
   "execution_count": null,
   "metadata": {},
   "outputs": [],
   "source": []
  }
 ],
 "metadata": {
  "kernelspec": {
   "display_name": "Python 3",
   "language": "python",
   "name": "python3"
  },
  "language_info": {
   "codemirror_mode": {
    "name": "ipython",
    "version": 3
   },
   "file_extension": ".py",
   "mimetype": "text/x-python",
   "name": "python",
   "nbconvert_exporter": "python",
   "pygments_lexer": "ipython3",
   "version": "3.7.6"
  }
 },
 "nbformat": 4,
 "nbformat_minor": 4
}
