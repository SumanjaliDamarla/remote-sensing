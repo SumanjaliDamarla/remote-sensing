{
 "cells": [
  {
   "cell_type": "code",
   "execution_count": null,
   "metadata": {},
   "outputs": [],
   "source": [
    "import geoio\n",
    "import os\n",
    "from glob import glob\n",
    "import numpy  as np\n",
    "import gdal\n",
    "from tifffile import imsave"
   ]
  },
  {
   "cell_type": "code",
   "execution_count": null,
   "metadata": {},
   "outputs": [],
   "source": [
    "filename = os.getcwd()+\"\\\\stacked_images\\\\\"\n",
    "month_list = glob(filename+\"*\")\n",
    "month_list"
   ]
  },
  {
   "cell_type": "code",
   "execution_count": null,
   "metadata": {},
   "outputs": [],
   "source": [
    "#curating files w.r.t date\n",
    "paths = {}\n",
    "for month in month_list:\n",
    "    stacks = glob(month+\"\\\\*.tif\")\n",
    "    for stack in stacks:\n",
    "        date = int(stack.split(\"\\\\\")[-1].split('.')[0].split('_')[-1][:8])\n",
    "        value = []\n",
    "        if date in paths.keys():\n",
    "            value = paths.get(date)\n",
    "        value.append(stack)\n",
    "        paths.update({date: value})"
   ]
  },
  {
   "cell_type": "code",
   "execution_count": null,
   "metadata": {},
   "outputs": [],
   "source": [
    "#filter by tiles count\n",
    "maxTiles = int(input(\"How many tiles to be merged? \"))\n",
    "pop = []\n",
    "for key, value in paths.items():\n",
    "    if len(value) < maxTiles:\n",
    "        pop.append(key)\n",
    "for key in pop:\n",
    "    paths.pop(key)"
   ]
  },
  {
   "cell_type": "code",
   "execution_count": null,
   "metadata": {},
   "outputs": [],
   "source": [
    "def getStackedArray(file_path):\n",
    "    print(file_path.split('\\\\')[-1])\n",
    "    ds = gdal.Open(file_path)\n",
    "    nir = np.array(ds.GetRasterBand(1).ReadAsArray())\n",
    "    blue = np.array(ds.GetRasterBand(2).ReadAsArray())\n",
    "    green = np.array(ds.GetRasterBand(3).ReadAsArray())\n",
    "    red = np.array(ds.GetRasterBand(4).ReadAsArray())\n",
    "    image = np.dstack((nir, blue, green, red))\n",
    "    return image"
   ]
  },
  {
   "cell_type": "code",
   "execution_count": null,
   "metadata": {
    "scrolled": false
   },
   "outputs": [],
   "source": [
    "#delete improper scenes\n",
    "for key, value in paths.items():\n",
    "    if len(value) > maxTiles:\n",
    "        print(\"There are extra tiles. Creating the best match \" + str(key) + \"... Recheck the mosaic for this\")\n",
    "        coordinates = []\n",
    "        for path in value:\n",
    "            img = geoio.GeoImage(path)\n",
    "            pos = img.raster_to_proj(0,0)\n",
    "            coordinates.append(pos)\n",
    "        commons = {}\n",
    "        i = 0\n",
    "        for coordinate in coordinates:\n",
    "            ls = []\n",
    "            if coordinate in commons.keys():\n",
    "                ls = commons.get(coordinate)\n",
    "            ls.append(value[i])\n",
    "            i = i + 1\n",
    "            commons.update({coordinate: ls})\n",
    "        for key in commons.keys():\n",
    "            files = commons[key]\n",
    "            tiles = len(files)\n",
    "            stacked_arrays = []\n",
    "            for image_path in files:\n",
    "                stacked_arrays.append(getStackedArray(image_path))\n",
    "            if tiles  >  1:\n",
    "                black = np.zeros(4, dtype = int)\n",
    "                for i in range(stacked_arrays[0].shape[0]):\n",
    "                    for j in range(stacked_arrays[0].shape[1]):\n",
    "                        if np.array_equal(stacked_arrays[0][i][j], black):\n",
    "                            next_image = 1\n",
    "                            while(next_image < tiles):\n",
    "                                print(str(i) + \" \" + str(j))\n",
    "                                if not np.array_equal(stacked_arrays[next_image][i][j], black):\n",
    "                                    np.copyto(stacked_arrays[0][i][j], stacked_arrays[next_image][i][j])\n",
    "                                next_image = next_image + 1\n",
    "            imsave(\"tile.tif\", stacked_arrays[0])\n",
    "            print(\"saved...\")"
   ]
  },
  {
   "cell_type": "code",
   "execution_count": null,
   "metadata": {},
   "outputs": [],
   "source": []
  }
 ],
 "metadata": {
  "kernelspec": {
   "display_name": "Python 3",
   "language": "python",
   "name": "python3"
  },
  "language_info": {
   "codemirror_mode": {
    "name": "ipython",
    "version": 3
   },
   "file_extension": ".py",
   "mimetype": "text/x-python",
   "name": "python",
   "nbconvert_exporter": "python",
   "pygments_lexer": "ipython3",
   "version": "3.7.6"
  }
 },
 "nbformat": 4,
 "nbformat_minor": 4
}
