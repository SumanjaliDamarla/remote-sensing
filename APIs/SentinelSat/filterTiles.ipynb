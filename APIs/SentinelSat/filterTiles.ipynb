{
 "cells": [
  {
   "cell_type": "code",
   "execution_count": 1,
   "metadata": {},
   "outputs": [],
   "source": [
    "import geoio\n",
    "import os\n",
    "from glob import glob\n",
    "import numpy  as np\n",
    "import gdal\n",
    "from tifffile import imsave"
   ]
  },
  {
   "cell_type": "code",
   "execution_count": 2,
   "metadata": {},
   "outputs": [
    {
     "data": {
      "text/plain": [
       "['C:\\\\Users\\\\Hello\\\\Documents\\\\remote-sensing\\\\APIs\\\\SentinelSat\\\\stacked_images\\\\dec_data',\n",
       " 'C:\\\\Users\\\\Hello\\\\Documents\\\\remote-sensing\\\\APIs\\\\SentinelSat\\\\stacked_images\\\\jan_data']"
      ]
     },
     "execution_count": 2,
     "metadata": {},
     "output_type": "execute_result"
    }
   ],
   "source": [
    "filename = os.getcwd()+\"\\\\stacked_images\\\\\"\n",
    "month_list = glob(filename+\"*\")\n",
    "month_list"
   ]
  },
  {
   "cell_type": "code",
   "execution_count": 3,
   "metadata": {},
   "outputs": [],
   "source": [
    "#curating files w.r.t date\n",
    "paths = {}\n",
    "for month in month_list:\n",
    "    stacks = glob(month+\"\\\\*.tif\")\n",
    "    for stack in stacks:\n",
    "        date = int(stack.split(\"\\\\\")[-1].split('.')[0].split('_')[-1][:8])\n",
    "        value = []\n",
    "        if date in paths.keys():\n",
    "            value = paths.get(date)\n",
    "        value.append(stack)\n",
    "        paths.update({date: value})"
   ]
  },
  {
   "cell_type": "code",
   "execution_count": 4,
   "metadata": {},
   "outputs": [
    {
     "name": "stdout",
     "output_type": "stream",
     "text": [
      "How many tiles to be merged? 5\n"
     ]
    }
   ],
   "source": [
    "#filter by tiles count\n",
    "maxTiles = int(input(\"How many tiles to be merged? \"))\n",
    "pop = []\n",
    "for key, value in paths.items():\n",
    "    if len(value) < maxTiles:\n",
    "        pop.append(key)\n",
    "for key in pop:\n",
    "    paths.pop(key)"
   ]
  },
  {
   "cell_type": "code",
   "execution_count": 5,
   "metadata": {},
   "outputs": [],
   "source": [
    "def getStackedArray(file_path):\n",
    "    print(file_path.split('\\\\')[-1])\n",
    "    ds = gdal.Open(file_path)\n",
    "    nir = np.array(ds.GetRasterBand(1).ReadAsArray())\n",
    "    blue = np.array(ds.GetRasterBand(2).ReadAsArray())\n",
    "    green = np.array(ds.GetRasterBand(3).ReadAsArray())\n",
    "    red = np.array(ds.GetRasterBand(4).ReadAsArray())\n",
    "    image = np.dstack((nir, blue, green, red))\n",
    "    print(red)\n",
    "    return image"
   ]
  },
  {
   "cell_type": "code",
   "execution_count": 6,
   "metadata": {
    "scrolled": false
   },
   "outputs": [
    {
     "name": "stdout",
     "output_type": "stream",
     "text": [
      "There are extra tiles. Creating the best match 20190106... Recheck the mosaic for this\n",
      "S2B_MSIL2A_20190106T050209_N0211_R119_T44PLC_20190106T101624.tif\n",
      "[[   0    0    0 ... 1274 1260 1260]\n",
      " [   0    0    0 ... 1274 1294 1288]\n",
      " [   0    0    0 ... 1278 1302 1266]\n",
      " ...\n",
      " [   0    0    0 ... 1542 1538 1510]\n",
      " [   0    0    0 ... 1522 1504 1490]\n",
      " [   0    0    0 ... 1528 1516 1476]]\n",
      "saved...\n",
      "S2B_MSIL2A_20190106T050209_N0211_R119_T44PMC_20190106T093021.tif\n",
      "[[1430 1426 1462 ... 1112 1134 1142]\n",
      " [1414 1406 1414 ... 1168 1154 1152]\n",
      " [1414 1420 1428 ... 1166 1110 1120]\n",
      " ...\n",
      " [   0    0    0 ...    0    0    0]\n",
      " [   0    0    0 ...    0    0    0]\n",
      " [   0    0    0 ...    0    0    0]]\n",
      "S2B_MSIL2A_20190106T050209_N0211_R119_T44PMC_20190106T101624.tif\n"
     ]
    },
    {
     "ename": "KeyboardInterrupt",
     "evalue": "",
     "output_type": "error",
     "traceback": [
      "\u001b[1;31m---------------------------------------------------------------------------\u001b[0m",
      "\u001b[1;31mKeyboardInterrupt\u001b[0m                         Traceback (most recent call last)",
      "\u001b[1;32m<ipython-input-6-df2506b105ea>\u001b[0m in \u001b[0;36m<module>\u001b[1;34m\u001b[0m\n\u001b[0;32m     22\u001b[0m             \u001b[0mstacked_arrays\u001b[0m \u001b[1;33m=\u001b[0m \u001b[1;33m[\u001b[0m\u001b[1;33m]\u001b[0m\u001b[1;33m\u001b[0m\u001b[1;33m\u001b[0m\u001b[0m\n\u001b[0;32m     23\u001b[0m             \u001b[1;32mfor\u001b[0m \u001b[0mimage_path\u001b[0m \u001b[1;32min\u001b[0m \u001b[0mfiles\u001b[0m\u001b[1;33m:\u001b[0m\u001b[1;33m\u001b[0m\u001b[1;33m\u001b[0m\u001b[0m\n\u001b[1;32m---> 24\u001b[1;33m                 \u001b[0mstacked_arrays\u001b[0m\u001b[1;33m.\u001b[0m\u001b[0mappend\u001b[0m\u001b[1;33m(\u001b[0m\u001b[0mgetStackedArray\u001b[0m\u001b[1;33m(\u001b[0m\u001b[0mimage_path\u001b[0m\u001b[1;33m)\u001b[0m\u001b[1;33m)\u001b[0m\u001b[1;33m\u001b[0m\u001b[1;33m\u001b[0m\u001b[0m\n\u001b[0m\u001b[0;32m     25\u001b[0m             \u001b[1;32mif\u001b[0m \u001b[0mtiles\u001b[0m  \u001b[1;33m>\u001b[0m  \u001b[1;36m1\u001b[0m\u001b[1;33m:\u001b[0m\u001b[1;33m\u001b[0m\u001b[1;33m\u001b[0m\u001b[0m\n\u001b[0;32m     26\u001b[0m                 \u001b[0mblack\u001b[0m \u001b[1;33m=\u001b[0m \u001b[0mnp\u001b[0m\u001b[1;33m.\u001b[0m\u001b[0mzeros\u001b[0m\u001b[1;33m(\u001b[0m\u001b[1;36m4\u001b[0m\u001b[1;33m,\u001b[0m \u001b[0mdtype\u001b[0m \u001b[1;33m=\u001b[0m \u001b[0mint\u001b[0m\u001b[1;33m)\u001b[0m\u001b[1;33m\u001b[0m\u001b[1;33m\u001b[0m\u001b[0m\n",
      "\u001b[1;32m<ipython-input-5-353d2e469984>\u001b[0m in \u001b[0;36mgetStackedArray\u001b[1;34m(file_path)\u001b[0m\n\u001b[0;32m      2\u001b[0m     \u001b[0mprint\u001b[0m\u001b[1;33m(\u001b[0m\u001b[0mfile_path\u001b[0m\u001b[1;33m.\u001b[0m\u001b[0msplit\u001b[0m\u001b[1;33m(\u001b[0m\u001b[1;34m'\\\\'\u001b[0m\u001b[1;33m)\u001b[0m\u001b[1;33m[\u001b[0m\u001b[1;33m-\u001b[0m\u001b[1;36m1\u001b[0m\u001b[1;33m]\u001b[0m\u001b[1;33m)\u001b[0m\u001b[1;33m\u001b[0m\u001b[1;33m\u001b[0m\u001b[0m\n\u001b[0;32m      3\u001b[0m     \u001b[0mds\u001b[0m \u001b[1;33m=\u001b[0m \u001b[0mgdal\u001b[0m\u001b[1;33m.\u001b[0m\u001b[0mOpen\u001b[0m\u001b[1;33m(\u001b[0m\u001b[0mfile_path\u001b[0m\u001b[1;33m)\u001b[0m\u001b[1;33m\u001b[0m\u001b[1;33m\u001b[0m\u001b[0m\n\u001b[1;32m----> 4\u001b[1;33m     \u001b[0mnir\u001b[0m \u001b[1;33m=\u001b[0m \u001b[0mnp\u001b[0m\u001b[1;33m.\u001b[0m\u001b[0marray\u001b[0m\u001b[1;33m(\u001b[0m\u001b[0mds\u001b[0m\u001b[1;33m.\u001b[0m\u001b[0mGetRasterBand\u001b[0m\u001b[1;33m(\u001b[0m\u001b[1;36m1\u001b[0m\u001b[1;33m)\u001b[0m\u001b[1;33m.\u001b[0m\u001b[0mReadAsArray\u001b[0m\u001b[1;33m(\u001b[0m\u001b[1;33m)\u001b[0m\u001b[1;33m)\u001b[0m\u001b[1;33m\u001b[0m\u001b[1;33m\u001b[0m\u001b[0m\n\u001b[0m\u001b[0;32m      5\u001b[0m     \u001b[0mblue\u001b[0m \u001b[1;33m=\u001b[0m \u001b[0mnp\u001b[0m\u001b[1;33m.\u001b[0m\u001b[0marray\u001b[0m\u001b[1;33m(\u001b[0m\u001b[0mds\u001b[0m\u001b[1;33m.\u001b[0m\u001b[0mGetRasterBand\u001b[0m\u001b[1;33m(\u001b[0m\u001b[1;36m2\u001b[0m\u001b[1;33m)\u001b[0m\u001b[1;33m.\u001b[0m\u001b[0mReadAsArray\u001b[0m\u001b[1;33m(\u001b[0m\u001b[1;33m)\u001b[0m\u001b[1;33m)\u001b[0m\u001b[1;33m\u001b[0m\u001b[1;33m\u001b[0m\u001b[0m\n\u001b[0;32m      6\u001b[0m     \u001b[0mgreen\u001b[0m \u001b[1;33m=\u001b[0m \u001b[0mnp\u001b[0m\u001b[1;33m.\u001b[0m\u001b[0marray\u001b[0m\u001b[1;33m(\u001b[0m\u001b[0mds\u001b[0m\u001b[1;33m.\u001b[0m\u001b[0mGetRasterBand\u001b[0m\u001b[1;33m(\u001b[0m\u001b[1;36m3\u001b[0m\u001b[1;33m)\u001b[0m\u001b[1;33m.\u001b[0m\u001b[0mReadAsArray\u001b[0m\u001b[1;33m(\u001b[0m\u001b[1;33m)\u001b[0m\u001b[1;33m)\u001b[0m\u001b[1;33m\u001b[0m\u001b[1;33m\u001b[0m\u001b[0m\n",
      "\u001b[1;32m~\\.conda\\envs\\pro\\lib\\site-packages\\osgeo\\gdal.py\u001b[0m in \u001b[0;36mReadAsArray\u001b[1;34m(self, xoff, yoff, win_xsize, win_ysize, buf_xsize, buf_ysize, buf_type, buf_obj, resample_alg, callback, callback_data)\u001b[0m\n\u001b[0;32m   2821\u001b[0m                                            \u001b[0mresample_alg\u001b[0m\u001b[1;33m=\u001b[0m\u001b[0mresample_alg\u001b[0m\u001b[1;33m,\u001b[0m\u001b[1;33m\u001b[0m\u001b[1;33m\u001b[0m\u001b[0m\n\u001b[0;32m   2822\u001b[0m                                            \u001b[0mcallback\u001b[0m\u001b[1;33m=\u001b[0m\u001b[0mcallback\u001b[0m\u001b[1;33m,\u001b[0m\u001b[1;33m\u001b[0m\u001b[1;33m\u001b[0m\u001b[0m\n\u001b[1;32m-> 2823\u001b[1;33m                                            callback_data=callback_data)\n\u001b[0m\u001b[0;32m   2824\u001b[0m \u001b[1;33m\u001b[0m\u001b[0m\n\u001b[0;32m   2825\u001b[0m     def WriteArray(self, array, xoff=0, yoff=0,\n",
      "\u001b[1;32m~\\.conda\\envs\\pro\\lib\\site-packages\\osgeo\\gdal_array.py\u001b[0m in \u001b[0;36mBandReadAsArray\u001b[1;34m(band, xoff, yoff, win_xsize, win_ysize, buf_xsize, buf_ysize, buf_type, buf_obj, resample_alg, callback, callback_data)\u001b[0m\n\u001b[0;32m    392\u001b[0m \u001b[1;33m\u001b[0m\u001b[0m\n\u001b[0;32m    393\u001b[0m     if BandRasterIONumPy(band, 0, xoff, yoff, win_xsize, win_ysize,\n\u001b[1;32m--> 394\u001b[1;33m                          buf_obj, buf_type, resample_alg, callback, callback_data) != 0:\n\u001b[0m\u001b[0;32m    395\u001b[0m         \u001b[0m_RaiseException\u001b[0m\u001b[1;33m(\u001b[0m\u001b[1;33m)\u001b[0m\u001b[1;33m\u001b[0m\u001b[1;33m\u001b[0m\u001b[0m\n\u001b[0;32m    396\u001b[0m         \u001b[1;32mreturn\u001b[0m \u001b[1;32mNone\u001b[0m\u001b[1;33m\u001b[0m\u001b[1;33m\u001b[0m\u001b[0m\n",
      "\u001b[1;32m~\\.conda\\envs\\pro\\lib\\site-packages\\osgeo\\gdal_array.py\u001b[0m in \u001b[0;36mBandRasterIONumPy\u001b[1;34m(band, bWrite, xoff, yoff, xsize, ysize, psArray, buf_type, resample_alg, callback, callback_data)\u001b[0m\n\u001b[0;32m    145\u001b[0m \u001b[1;32mdef\u001b[0m \u001b[0mBandRasterIONumPy\u001b[0m\u001b[1;33m(\u001b[0m\u001b[0mband\u001b[0m\u001b[1;33m,\u001b[0m \u001b[0mbWrite\u001b[0m\u001b[1;33m,\u001b[0m \u001b[0mxoff\u001b[0m\u001b[1;33m,\u001b[0m \u001b[0myoff\u001b[0m\u001b[1;33m,\u001b[0m \u001b[0mxsize\u001b[0m\u001b[1;33m,\u001b[0m \u001b[0mysize\u001b[0m\u001b[1;33m,\u001b[0m \u001b[0mpsArray\u001b[0m\u001b[1;33m,\u001b[0m \u001b[0mbuf_type\u001b[0m\u001b[1;33m,\u001b[0m \u001b[0mresample_alg\u001b[0m\u001b[1;33m,\u001b[0m \u001b[0mcallback\u001b[0m\u001b[1;33m=\u001b[0m\u001b[1;36m0\u001b[0m\u001b[1;33m,\u001b[0m \u001b[0mcallback_data\u001b[0m\u001b[1;33m=\u001b[0m\u001b[1;32mNone\u001b[0m\u001b[1;33m)\u001b[0m\u001b[1;33m:\u001b[0m\u001b[1;33m\u001b[0m\u001b[1;33m\u001b[0m\u001b[0m\n\u001b[0;32m    146\u001b[0m     \u001b[1;34m\"\"\"BandRasterIONumPy(Band band, int bWrite, double xoff, double yoff, double xsize, double ysize, PyArrayObject * psArray, int buf_type, GDALRIOResampleAlg resample_alg, GDALProgressFunc callback=0, void * callback_data=None) -> CPLErr\"\"\"\u001b[0m\u001b[1;33m\u001b[0m\u001b[1;33m\u001b[0m\u001b[0m\n\u001b[1;32m--> 147\u001b[1;33m     \u001b[1;32mreturn\u001b[0m \u001b[0m_gdal_array\u001b[0m\u001b[1;33m.\u001b[0m\u001b[0mBandRasterIONumPy\u001b[0m\u001b[1;33m(\u001b[0m\u001b[0mband\u001b[0m\u001b[1;33m,\u001b[0m \u001b[0mbWrite\u001b[0m\u001b[1;33m,\u001b[0m \u001b[0mxoff\u001b[0m\u001b[1;33m,\u001b[0m \u001b[0myoff\u001b[0m\u001b[1;33m,\u001b[0m \u001b[0mxsize\u001b[0m\u001b[1;33m,\u001b[0m \u001b[0mysize\u001b[0m\u001b[1;33m,\u001b[0m \u001b[0mpsArray\u001b[0m\u001b[1;33m,\u001b[0m \u001b[0mbuf_type\u001b[0m\u001b[1;33m,\u001b[0m \u001b[0mresample_alg\u001b[0m\u001b[1;33m,\u001b[0m \u001b[0mcallback\u001b[0m\u001b[1;33m,\u001b[0m \u001b[0mcallback_data\u001b[0m\u001b[1;33m)\u001b[0m\u001b[1;33m\u001b[0m\u001b[1;33m\u001b[0m\u001b[0m\n\u001b[0m\u001b[0;32m    148\u001b[0m \u001b[1;33m\u001b[0m\u001b[0m\n\u001b[0;32m    149\u001b[0m \u001b[1;32mdef\u001b[0m \u001b[0mDatasetIONumPy\u001b[0m\u001b[1;33m(\u001b[0m\u001b[0mds\u001b[0m\u001b[1;33m,\u001b[0m \u001b[0mbWrite\u001b[0m\u001b[1;33m,\u001b[0m \u001b[0mxoff\u001b[0m\u001b[1;33m,\u001b[0m \u001b[0myoff\u001b[0m\u001b[1;33m,\u001b[0m \u001b[0mxsize\u001b[0m\u001b[1;33m,\u001b[0m \u001b[0mysize\u001b[0m\u001b[1;33m,\u001b[0m \u001b[0mpsArray\u001b[0m\u001b[1;33m,\u001b[0m \u001b[0mbuf_type\u001b[0m\u001b[1;33m,\u001b[0m \u001b[0mresample_alg\u001b[0m\u001b[1;33m,\u001b[0m \u001b[0mcallback\u001b[0m\u001b[1;33m=\u001b[0m\u001b[1;36m0\u001b[0m\u001b[1;33m,\u001b[0m \u001b[0mcallback_data\u001b[0m\u001b[1;33m=\u001b[0m\u001b[1;32mNone\u001b[0m\u001b[1;33m,\u001b[0m \u001b[0mbinterleave\u001b[0m\u001b[1;33m=\u001b[0m\u001b[1;32mTrue\u001b[0m\u001b[1;33m)\u001b[0m\u001b[1;33m:\u001b[0m\u001b[1;33m\u001b[0m\u001b[1;33m\u001b[0m\u001b[0m\n",
      "\u001b[1;31mKeyboardInterrupt\u001b[0m: "
     ]
    }
   ],
   "source": [
    "#delete improper scenes\n",
    "for key, value in paths.items():\n",
    "    if len(value) > maxTiles:\n",
    "        print(\"There are extra tiles. Creating the best match \" + str(key) + \"... Recheck the mosaic for this\")\n",
    "        coordinates = []\n",
    "        for path in value:\n",
    "            img = geoio.GeoImage(path)\n",
    "            pos = img.raster_to_proj(0,0)\n",
    "            coordinates.append(pos)\n",
    "        commons = {}\n",
    "        i = 0\n",
    "        for coordinate in coordinates:\n",
    "            ls = []\n",
    "            if coordinate in commons.keys():\n",
    "                ls = commons.get(coordinate)\n",
    "            ls.append(value[i])\n",
    "            i = i + 1\n",
    "            commons.update({coordinate: ls})\n",
    "        for key in commons.keys():\n",
    "            files = commons[key]\n",
    "            tiles = len(files)\n",
    "            stacked_arrays = []\n",
    "            for image_path in files:\n",
    "                stacked_arrays.append(getStackedArray(image_path))\n",
    "            if tiles  >  1:\n",
    "                black = np.zeros(4, dtype = int)\n",
    "                for i in range(stacked_arrays[0].shape[0]):\n",
    "                    for j in range(stacked_arrays[0].shape[1]):\n",
    "                        if np.array_equal(stacked_arrays[0][i][j], black):\n",
    "                            next_image = 1\n",
    "                            while(next_image < tiles):\n",
    "                                print(str(i) + \" \" + str(j))\n",
    "                                if not np.array_equal(stacked_arrays[next_image][i][j], black):\n",
    "                                    np.copyto(stacked_arrays[0][i][j], stacked_arrays[next_image][i][j])\n",
    "                                next_image = next_image + 1\n",
    "            imsave(\"tile.tif\", stacked_arrays[0])\n",
    "            print(\"saved...\")"
   ]
  },
  {
   "cell_type": "code",
   "execution_count": null,
   "metadata": {},
   "outputs": [],
   "source": []
  }
 ],
 "metadata": {
  "kernelspec": {
   "display_name": "Python 3",
   "language": "python",
   "name": "python3"
  },
  "language_info": {
   "codemirror_mode": {
    "name": "ipython",
    "version": 3
   },
   "file_extension": ".py",
   "mimetype": "text/x-python",
   "name": "python",
   "nbconvert_exporter": "python",
   "pygments_lexer": "ipython3",
   "version": "3.7.6"
  }
 },
 "nbformat": 4,
 "nbformat_minor": 4
}
