{
 "cells": [
  {
   "cell_type": "code",
   "execution_count": 1,
   "metadata": {},
   "outputs": [],
   "source": [
    "import os\n",
    "import shutil\n",
    "import rasterio\n",
    "from glob import glob"
   ]
  },
  {
   "cell_type": "code",
   "execution_count": 2,
   "metadata": {},
   "outputs": [
    {
     "data": {
      "text/plain": [
       "['C:\\\\Users\\\\Hello\\\\Documents\\\\remote-sensing\\\\APIs\\\\SentinelSat\\\\other-data\\\\data\\\\jan_data']"
      ]
     },
     "execution_count": 2,
     "metadata": {},
     "output_type": "execute_result"
    }
   ],
   "source": [
    "data = os.getcwd() + \"\\\\data\"\n",
    "months_list = glob(data+\"\\\\*_data\")\n",
    "months_list"
   ]
  },
  {
   "cell_type": "code",
   "execution_count": 3,
   "metadata": {},
   "outputs": [],
   "source": [
    "if not os.path.exists(os.getcwd()+\"\\\\stacked_images\"):\n",
    "    stack_folder = os.makedirs(os.getcwd()+\"\\\\stacked_images\")\n",
    "for month in months_list:\n",
    "    dst = month.split('\\\\')[-1]\n",
    "    if not os.path.exists(os.getcwd()+\"\\\\stacked_images\\\\\"+dst):\n",
    "        os.makedirs(os.getcwd()+\"\\\\stacked_images\\\\\"+dst)"
   ]
  },
  {
   "cell_type": "code",
   "execution_count": 4,
   "metadata": {},
   "outputs": [
    {
     "name": "stdout",
     "output_type": "stream",
     "text": [
      "C:\\Users\\Hello\\Documents\\remote-sensing\\APIs\\SentinelSat\\other-data\\data\\jan_data\n",
      "(1/5) Stacked T44PLC_20190101T050211.tif...\n",
      "(1/5) Copied to stacked_data ...\n",
      "(2/5) Stacked T44PMC_20190101T050211.tif...\n",
      "(2/5) Copied to stacked_data ...\n",
      "(3/5) Stacked T44PNC_20190101T050211.tif...\n",
      "(3/5) Copied to stacked_data ...\n",
      "(4/5) Stacked T44QMD_20190101T050211.tif...\n",
      "(4/5) Copied to stacked_data ...\n",
      "(5/5) Stacked T44QND_20190101T050211.tif...\n",
      "(5/5) Copied to stacked_data ...\n"
     ]
    }
   ],
   "source": [
    "#stacking\n",
    "for month in months_list:\n",
    "    print(month)\n",
    "    data_list = glob(month+\"\\\\*\")\n",
    "    num_scenes = len(data_list)\n",
    "    i = 0\n",
    "    for scene in data_list:\n",
    "        i = i + 1\n",
    "        path  =  scene + \"\\\\GRANULE\"\n",
    "        data_folder = glob(path + \"\\\\*\")\n",
    "        data_folder[0] =  data_folder[0] + \"\\\\IMG_DATA\\\\R10m\"\n",
    "        tifFiles = []\n",
    "        tifFiles.append(glob(data_folder[0] + \"\\\\*B08_10m.tif\")[0])\n",
    "        tifFiles.append(glob(data_folder[0] + \"\\\\*B04_10m.tif\")[0])\n",
    "        tifFiles.append(glob(data_folder[0] + \"\\\\*B03_10m.tif\")[0])\n",
    "        tifFiles.append(glob(data_folder[0] + \"\\\\*B02_10m.tif\")[0])\n",
    "        with rasterio.open(tifFiles[0]) as src0:\n",
    "            meta = src0.meta\n",
    "        meta.update(count = len(tifFiles))\n",
    "        dest = tifFiles[0].split('\\\\')[-1].split('.')[0].split('_')[:2]\n",
    "        dest_name = dest[0] + \"_\" + dest[1] + \".tif\"\n",
    "        dest = data_folder[0] +\"\\\\\"+ dest_name\n",
    "        if not os.path.exists(dest):\n",
    "            with rasterio.open(dest, 'w', **meta) as dst:\n",
    "                for id, layer in enumerate(tifFiles, start=1):\n",
    "                    with rasterio.open(layer) as src1:\n",
    "                        dst.write_band(id, src1.read(1))\n",
    "        print(\"(\" + str(i)  + \"/\" + str(num_scenes) + \") Stacked \" + dest_name + \"...\")\n",
    "        stack_dest_name = scene.split(\"\\\\\")[-1].split('.')[0] + \".tif\"\n",
    "        stack_dest = os.getcwd() + \"\\\\stacked_images\\\\\"+ month.split('\\\\')[-1] + \"\\\\\" + stack_dest_name\n",
    "        if not os.path.exists(stack_dest):\n",
    "            shutil.copy2(dest, stack_dest)\n",
    "        print(\"(\" + str(i)  + \"/\" + str(num_scenes) + \") Copied to stacked_data ...\")"
   ]
  },
  {
   "cell_type": "code",
   "execution_count": 5,
   "metadata": {},
   "outputs": [
    {
     "name": "stdout",
     "output_type": "stream",
     "text": [
      "C:\\Users\\Hello\\Documents\\remote-sensing\\APIs\\SentinelSat\\other-data\\data\\jan_data\n",
      "Deleted scene S2A_MSIL2A_20190101T050211_N0211_R119_T44PLC_20190101T085212...\n",
      "Deleted scene S2A_MSIL2A_20190101T050211_N0211_R119_T44PMC_20190101T085212...\n",
      "Deleted scene S2A_MSIL2A_20190101T050211_N0211_R119_T44PNC_20190101T085212...\n",
      "Deleted scene S2A_MSIL2A_20190101T050211_N0211_R119_T44QMD_20190101T085212...\n",
      "Deleted scene S2A_MSIL2A_20190101T050211_N0211_R119_T44QND_20190101T085212...\n"
     ]
    }
   ],
   "source": [
    "#cleanup data folder\n",
    "\n",
    "for month in months_list:\n",
    "    print(month)\n",
    "    data_list = glob(month+\"\\\\*\")\n",
    "    for scene in data_list:\n",
    "        shutil.rmtree(scene)\n",
    "        print(\"Deleted scene \" + scene.split('\\\\')[-1].split('.')[0] + \"...\")"
   ]
  },
  {
   "cell_type": "code",
   "execution_count": null,
   "metadata": {},
   "outputs": [],
   "source": []
  }
 ],
 "metadata": {
  "kernelspec": {
   "display_name": "Python 3",
   "language": "python",
   "name": "python3"
  },
  "language_info": {
   "codemirror_mode": {
    "name": "ipython",
    "version": 3
   },
   "file_extension": ".py",
   "mimetype": "text/x-python",
   "name": "python",
   "nbconvert_exporter": "python",
   "pygments_lexer": "ipython3",
   "version": "3.7.6"
  }
 },
 "nbformat": 4,
 "nbformat_minor": 4
}
