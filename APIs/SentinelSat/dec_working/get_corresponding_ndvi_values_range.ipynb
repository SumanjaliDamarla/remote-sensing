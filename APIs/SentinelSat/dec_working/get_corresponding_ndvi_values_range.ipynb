{
 "cells": [
  {
   "cell_type": "code",
   "execution_count": 1,
   "metadata": {},
   "outputs": [],
   "source": [
    "import os\n",
    "from glob import glob\n",
    "import earthpy.plot as ep"
   ]
  },
  {
   "cell_type": "code",
   "execution_count": 2,
   "metadata": {},
   "outputs": [],
   "source": [
    "import gdal\n",
    "import numpy as np"
   ]
  },
  {
   "cell_type": "code",
   "execution_count": 3,
   "metadata": {},
   "outputs": [],
   "source": [
    "import matplotlib.pyplot as plt"
   ]
  },
  {
   "cell_type": "code",
   "execution_count": 4,
   "metadata": {},
   "outputs": [
    {
     "data": {
      "text/plain": [
       "['C:\\\\Users\\\\Hello\\\\Documents\\\\remote-sensing\\\\APIs\\\\SentinelSat\\\\other-data\\\\ndvi_images\\\\Krishna20190101.tif']"
      ]
     },
     "execution_count": 4,
     "metadata": {},
     "output_type": "execute_result"
    }
   ],
   "source": [
    "path = os.getcwd()\n",
    "path = path + \"\\\\ndvi_images\"\n",
    "orig_scenes = glob(path+\"\\\\*.tif\")\n",
    "orig_scenes"
   ]
  },
  {
   "cell_type": "code",
   "execution_count": 16,
   "metadata": {},
   "outputs": [
    {
     "data": {
      "text/plain": [
       "['C:\\\\Users\\\\Hello\\\\Documents\\\\remote-sensing\\\\APIs\\\\SentinelSat\\\\other-data\\\\rsgislib_clusters\\\\Krishna20190101_sub_five_clusters_ndvi.tif']"
      ]
     },
     "execution_count": 16,
     "metadata": {},
     "output_type": "execute_result"
    }
   ],
   "source": [
    "data = os.getcwd() + \"\\\\rsgislib_clusters\"\n",
    "scenes = glob(data+\"\\\\*_sub_five_clusters_ndvi.tif\")\n",
    "scenes"
   ]
  },
  {
   "cell_type": "code",
   "execution_count": 17,
   "metadata": {},
   "outputs": [],
   "source": [
    "def filterCluster(clusters, num, ndvi_orig, empty):\n",
    "    cls = np.where(clusters == num, ndvi_orig, empty)\n",
    "    minimum = np.nanmin(cls)\n",
    "    maximum = np.nanmax(cls)\n",
    "    return [num, minimum, maximum]"
   ]
  },
  {
   "cell_type": "code",
   "execution_count": 18,
   "metadata": {
    "scrolled": false
   },
   "outputs": [
    {
     "name": "stdout",
     "output_type": "stream",
     "text": [
      "Krishna20190101\n",
      "[1, 0.128680479825518, 0.39475241665022687]\n",
      "[2, 0.394752534287418, 0.6233766233766234]\n",
      "[3, -0.3856103476151981, 0.12867956265769553]\n",
      "[4, 0.6233794770380137, 1.0]\n",
      "[5, -1.0, -0.38562091503267976]\n",
      "{'Krishna20190101': [[1, 0.128680479825518, 0.39475241665022687], [2, 0.394752534287418, 0.6233766233766234], [3, -0.3856103476151981, 0.12867956265769553], [4, 0.6233794770380137, 1.0], [5, -1.0, -0.38562091503267976]]}\n"
     ]
    }
   ],
   "source": [
    "date_bands = {}\n",
    "for i in range(len(orig_scenes)):\n",
    "    date = orig_scenes[i].split('\\\\')[-1].split('.')[0]\n",
    "    ndvi_image = gdal.Open(orig_scenes[i])\n",
    "    ndvi_orig = np.array(ndvi_image.GetRasterBand(1).ReadAsArray())\n",
    "    clustered_image = gdal.Open(scenes[i])\n",
    "    clusters = np.array(clustered_image.GetRasterBand(1).ReadAsArray())\n",
    "    band_values = []\n",
    "    for num in range(1,6):\n",
    "        band_values.append(filterCluster(clusters, num, ndvi_orig, np.nan))\n",
    "    date_bands[date] = band_values\n",
    "    print(date)\n",
    "    for band in band_values:\n",
    "        print(band)\n",
    "print(date_bands)"
   ]
  },
  {
   "cell_type": "code",
   "execution_count": null,
   "metadata": {},
   "outputs": [],
   "source": []
  }
 ],
 "metadata": {
  "kernelspec": {
   "display_name": "Python 3",
   "language": "python",
   "name": "python3"
  },
  "language_info": {
   "codemirror_mode": {
    "name": "ipython",
    "version": 3
   },
   "file_extension": ".py",
   "mimetype": "text/x-python",
   "name": "python",
   "nbconvert_exporter": "python",
   "pygments_lexer": "ipython3",
   "version": "3.7.6"
  }
 },
 "nbformat": 4,
 "nbformat_minor": 4
}
