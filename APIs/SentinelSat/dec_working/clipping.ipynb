{
 "cells": [
  {
   "cell_type": "code",
   "execution_count": 1,
   "metadata": {},
   "outputs": [],
   "source": [
    "import os\n",
    "import shutil\n",
    "from glob import glob\n",
    "from osgeo import gdal\n",
    "from statistics import mode\n",
    "import numpy as np\n",
    "from PIL import Image"
   ]
  },
  {
   "cell_type": "code",
   "execution_count": 2,
   "metadata": {},
   "outputs": [],
   "source": [
    "if not os.path.exists(os.getcwd()+\"\\\\clipped_images\"):\n",
    "    stack_folder = os.makedirs(os.getcwd()+\"\\\\clipped_images\")"
   ]
  },
  {
   "cell_type": "code",
   "execution_count": 3,
   "metadata": {},
   "outputs": [
    {
     "name": "stdout",
     "output_type": "stream",
     "text": [
      "Krishna20190101.tif clipped...\n"
     ]
    }
   ],
   "source": [
    "#clipping\n",
    "\n",
    "krishna = os.getcwd() + \"\\\\StudyAreaExact.geojson\"\n",
    "godavari = os.getcwd() + \"\\\\StudyArea2Exact.geojson\"\n",
    "merged = glob(os.getcwd() + \"\\\\mosaic_images\\\\\" + \"*.tif\")\n",
    "path = os.getcwd() + \"\\\\clipped_images\"\n",
    "for date in merged:\n",
    "    dest = path + \"\\\\\" + date.split('\\\\')[-1]\n",
    "    shp = krishna\n",
    "    if date.split('\\\\')[-1][:-12] == \"Godavari\":\n",
    "        shp = godavari\n",
    "    if not os.path.exists(dest):\n",
    "        os.system(\"gdalwarp -of GTiff -cutline \" + shp + \" -crop_to_cutline \" + date + \" \" + dest)\n",
    "    if os.path.exists(dest):\n",
    "        print(date.split('\\\\')[-1] + \" clipped...\")"
   ]
  },
  {
   "cell_type": "code",
   "execution_count": null,
   "metadata": {},
   "outputs": [],
   "source": []
  }
 ],
 "metadata": {
  "kernelspec": {
   "display_name": "Python [conda env:.conda-pro] *",
   "language": "python",
   "name": "conda-env-.conda-pro-py"
  },
  "language_info": {
   "codemirror_mode": {
    "name": "ipython",
    "version": 3
   },
   "file_extension": ".py",
   "mimetype": "text/x-python",
   "name": "python",
   "nbconvert_exporter": "python",
   "pygments_lexer": "ipython3",
   "version": "3.7.6"
  }
 },
 "nbformat": 4,
 "nbformat_minor": 4
}
