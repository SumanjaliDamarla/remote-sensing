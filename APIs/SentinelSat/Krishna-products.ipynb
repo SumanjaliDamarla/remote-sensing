{
 "cells": [
  {
   "cell_type": "code",
   "execution_count": 1,
   "metadata": {},
   "outputs": [],
   "source": [
    "from sentinelsat import SentinelAPI, read_geojson, geojson_to_wkt\n",
    "from osgeo import gdal"
   ]
  },
  {
   "cell_type": "code",
   "execution_count": 2,
   "metadata": {},
   "outputs": [],
   "source": [
    "import pandas as pd"
   ]
  },
  {
   "cell_type": "code",
   "execution_count": 3,
   "metadata": {},
   "outputs": [],
   "source": [
    "from datetime import date"
   ]
  },
  {
   "cell_type": "code",
   "execution_count": 4,
   "metadata": {},
   "outputs": [],
   "source": [
    "import requests"
   ]
  },
  {
   "cell_type": "code",
   "execution_count": 5,
   "metadata": {},
   "outputs": [],
   "source": [
    "import threading\n",
    "import multiprocessing"
   ]
  },
  {
   "cell_type": "code",
   "execution_count": 6,
   "metadata": {},
   "outputs": [],
   "source": [
    "import os\n",
    "import copy\n",
    "import shutil\n",
    "from pathlib import Path\n",
    "from glob import glob\n",
    "import zipfile"
   ]
  },
  {
   "cell_type": "code",
   "execution_count": 7,
   "metadata": {},
   "outputs": [],
   "source": [
    "def get_credential(id_name):\n",
    "    file_path = os.getcwd() + '/credentials.sh'\n",
    "    f = open(file_path, 'r+')\n",
    "    lines = f.readlines()\n",
    "    for line in lines:\n",
    "        ids = line.strip().split('=')\n",
    "        if ids[0] == id_name:\n",
    "            return ids[1].strip()\n",
    "    return 'Not found'"
   ]
  },
  {
   "cell_type": "code",
   "execution_count": 8,
   "metadata": {},
   "outputs": [],
   "source": [
    "USERNAME = [get_credential(\"username\"), get_credential(\"username1\")]\n",
    "PASSWORD = [get_credential(\"password\"), get_credential(\"password1\")]\n",
    "API_SOURCE = \"https://scihub.copernicus.eu/dhus\"\n",
    "PROCESSING_LEVEL = [\"Level-1\", \"Level-2\"]\n",
    "SATELLITE = \"Sentinel-2\"\n",
    "STUDY_AREA = \"KrishnaNew.geojson\"\n",
    "REGION = \"Krishna\"\n",
    "CWD = \"\"+os.getcwd()"
   ]
  },
  {
   "cell_type": "code",
   "execution_count": 9,
   "metadata": {},
   "outputs": [],
   "source": [
    "FEB_2016 = \"20160209\"\n",
    "FEB_END16 = \"20160308\"\n",
    "\n",
    "FEB_2017 = \"20170209\"\n",
    "FEB_END17 = \"20170308\"\n",
    "\n",
    "FEB_2018 = \"20180209\"\n",
    "FEB_END18 = \"20180308\"\n",
    "\n",
    "FEB_2019 = \"20190209\"\n",
    "FEB_END19 = \"20190308\"\n",
    "\n",
    "FEB_2020 = \"20200209\"\n",
    "FEB_END20 = \"20200308\""
   ]
  },
  {
   "cell_type": "code",
   "execution_count": 10,
   "metadata": {},
   "outputs": [],
   "source": [
    "months = [\n",
    "    \"Feb16\", \"Feb17\", \"Feb18\", \"Feb19\", \"Feb20\"\n",
    "]"
   ]
  },
  {
   "cell_type": "code",
   "execution_count": 11,
   "metadata": {},
   "outputs": [],
   "source": [
    "#dates = [[FEB_2019, FEB_END19], [FEB_2020, FEB_END20]]\n",
    "dates = [[FEB_2016, FEB_END16], [FEB_2017, FEB_END17], [FEB_2018, FEB_END18], [FEB_2019, FEB_END19], [FEB_2020, FEB_END20]]"
   ]
  },
  {
   "cell_type": "code",
   "execution_count": 12,
   "metadata": {},
   "outputs": [],
   "source": [
    "footprint = geojson_to_wkt(read_geojson(STUDY_AREA))"
   ]
  },
  {
   "cell_type": "code",
   "execution_count": 13,
   "metadata": {},
   "outputs": [],
   "source": [
    "api = []\n",
    "for i in range(len(USERNAME)):\n",
    "    api.append(SentinelAPI(USERNAME[i], PASSWORD[i], API_SOURCE))"
   ]
  },
  {
   "cell_type": "code",
   "execution_count": 14,
   "metadata": {},
   "outputs": [],
   "source": [
    "def queryForProducts(footprint, beg, end, sat):\n",
    "    return api[0].query(footprint, date=(beg, end),platformname=sat)"
   ]
  },
  {
   "cell_type": "code",
   "execution_count": 15,
   "metadata": {},
   "outputs": [],
   "source": [
    "def getLevelURLs(df):\n",
    "    level1 = []\n",
    "    for i in range(df.shape[0]):\n",
    "        if PROCESSING_LEVEL[0] in df[\"processinglevel\"][i]:\n",
    "            level1.append(df[\"link\"][i])\n",
    "\n",
    "    level2 = []\n",
    "    for i in range(df.shape[0]):\n",
    "        if PROCESSING_LEVEL[1] in df[\"processinglevel\"][i]:\n",
    "            level2.append(df[\"link\"][i])\n",
    "    \n",
    "    return level1, level2"
   ]
  },
  {
   "cell_type": "code",
   "execution_count": 16,
   "metadata": {},
   "outputs": [],
   "source": [
    "def curateLevelProducts(products, df, level):\n",
    "    keys = list(products.keys())\n",
    "    for i in range(df.shape[0]):\n",
    "        if level not in df[\"processinglevel\"][i]:\n",
    "            products.pop(keys[i])\n",
    "    return products"
   ]
  },
  {
   "cell_type": "code",
   "execution_count": 17,
   "metadata": {},
   "outputs": [],
   "source": [
    "def createDataDirectory(name):\n",
    "    data_dir = os.getcwd()+\"\\\\data\\\\\"+name+\"_data\"\n",
    "    if not os.path.exists(data_dir):\n",
    "        os.mkdir(data_dir)\n",
    "    return data_dir\n",
    "def getDataDirectory(name):\n",
    "    return os.getcwd()+\"\\\\data\\\\\"+name+\"_data\"\n",
    "def createBackupDirectory(name):\n",
    "    backup = \"D:\\\\\"+name+\"_data\"\n",
    "    if not os.path.exists(backup):\n",
    "        os.mkdir(backup)\n",
    "    return backup\n",
    "def getBackupDirectory(name):\n",
    "    return \"D:\\\\\"+name+\"_data\""
   ]
  },
  {
   "cell_type": "code",
   "execution_count": 18,
   "metadata": {},
   "outputs": [],
   "source": [
    "def listDataFiles(data_dir, ext):\n",
    "    paths = glob(data_dir+\"/*\"+ext)\n",
    "    fileNames = []\n",
    "    for path in paths:\n",
    "        fileNames.append(path.split('.')[0].split('\\\\')[-1])\n",
    "    return paths, fileNames"
   ]
  },
  {
   "cell_type": "code",
   "execution_count": 19,
   "metadata": {},
   "outputs": [],
   "source": [
    "def getDesiredFiles(data_det):\n",
    "    product_ids = (list(data_det.keys()))\n",
    "    desired_files = []\n",
    "    for pid in product_ids:\n",
    "        desired_files.append(data_det[pid]['title'])\n",
    "    return desired_files"
   ]
  },
  {
   "cell_type": "code",
   "execution_count": 20,
   "metadata": {},
   "outputs": [],
   "source": [
    "def checkAllFiles(data_det):\n",
    "    desired_files = getDesiredFiles(data_det)\n",
    "    for file_name in desired_files:\n",
    "        date = file_name.split('_')[2][:6]\n",
    "        file_path = getDataDirectory(REGION+str(date))+\"\\\\\"+file_name+\".SAFE\"\n",
    "        if not os.path.exists(file_path):\n",
    "            print(file_path)\n",
    "    print(\"All other files downloaded\")"
   ]
  },
  {
   "cell_type": "code",
   "execution_count": 21,
   "metadata": {},
   "outputs": [],
   "source": [
    "def extractFiles(data_dir):\n",
    "    paths, fileNames = listDataFiles(data_dir, \".zip\")\n",
    "    l = len(paths)\n",
    "    i = 0\n",
    "    for path in paths:\n",
    "        print(str(i)+\"/\"+str(l)+\"  Extracting \"+path.split('.')[0].split('\\\\')[-1]+\"...\")\n",
    "        with zipfile.ZipFile(path, 'r') as zip_ref:\n",
    "            zip_ref.extractall(data_dir)"
   ]
  },
  {
   "cell_type": "code",
   "execution_count": 22,
   "metadata": {},
   "outputs": [],
   "source": [
    "def cleanup(data_dir):\n",
    "    paths, fileNames = listDataFiles(data_dir, \".zip\")\n",
    "    l = len(paths)\n",
    "    i = 0\n",
    "    for path in paths:\n",
    "        print(str(i)+\"/\"+str(l)+\"Deleting \"+path.split('.')[0].split('\\\\')[-1]+\"...\")\n",
    "        os.remove(path)"
   ]
  },
  {
   "cell_type": "code",
   "execution_count": 23,
   "metadata": {},
   "outputs": [],
   "source": [
    "def getFolders(data_dir):\n",
    "    #return all  data folders  list\n",
    "    return\n",
    "def manipualateFolders(data_dir):\n",
    "    #extract  annd cleannn for  all get folders\n",
    "    return"
   ]
  },
  {
   "cell_type": "code",
   "execution_count": 24,
   "metadata": {
    "scrolled": true
   },
   "outputs": [],
   "source": [
    "def getData(products):\n",
    "    CWD = Path(os.getcwd())\n",
    "    try:\n",
    "        date = products[list(products.keys())[0]]['title'].split('_')[2][:4]\n",
    "        path = createDataDirectory(REGION+str(date))\n",
    "        print(\"Changing Directory \" + path)\n",
    "        os.chdir(path)\n",
    "        for prod in products:\n",
    "            if api[0].get_product_odata(prod)['Online'] and (not os.path.exists(path+'\\\\'+products[prod]['title']+'.zip')):\n",
    "                print(prod+\"----\"+products[prod]['title'])\n",
    "                api[0].download(prod)\n",
    "            elif os.path.exists(path+'\\\\'+products[prod]['title']+'.zip'):\n",
    "                print(products[prod]['title'])\n",
    "            else:\n",
    "                print(prod+\" not online. Download using sentinel-hub :)\")\n",
    "                \n",
    "        #path=path+file_name\n",
    "        #backupPath = createBackupDirectory(REGION+str(date))\n",
    "        #print(\"Backup \" + file_name + \" to \" + backupPath)\n",
    "        #shutil.copy2(path,backupPath)\n",
    "        #extractFile(path)\n",
    "        #cleanup(path)\n",
    "        os.chdir(CWD)\n",
    "    except AssertionError:\n",
    "        os.chdir(CWD)\n",
    "        print(os.getcwd())\n",
    "        print(\"Download of specified products done\")\n",
    "    except Exception as e:\n",
    "        os.chdir(CWD)\n",
    "        print(os.getcwd())\n",
    "        print(\"Something went wrong \" + str(e))"
   ]
  },
  {
   "cell_type": "code",
   "execution_count": 25,
   "metadata": {},
   "outputs": [],
   "source": [
    "products = []\n",
    "for date in dates:\n",
    "    products.append(queryForProducts(footprint, date[0], date[1],SATELLITE))"
   ]
  },
  {
   "cell_type": "code",
   "execution_count": 26,
   "metadata": {},
   "outputs": [],
   "source": [
    "products_df  =  []\n",
    "level1 = []\n",
    "level2 = []\n",
    "for product in products:\n",
    "    products_df.append(api[0].to_dataframe(product))\n",
    "    l1, l2 = getLevelURLs(products_df[-1])\n",
    "    level1.append(l1)\n",
    "    level2.append(l2)"
   ]
  },
  {
   "cell_type": "code",
   "execution_count": 27,
   "metadata": {},
   "outputs": [
    {
     "name": "stdout",
     "output_type": "stream",
     "text": [
      "3\n",
      "8\n",
      "24\n",
      "26\n",
      "27\n"
     ]
    }
   ],
   "source": [
    "data_det = []\n",
    "for i in range(len(products_df)):\n",
    "    temp = copy.deepcopy(products[i])\n",
    "    det_l2 = curateLevelProducts(products[i], products_df[i], PROCESSING_LEVEL[1])\n",
    "    det_l1 = curateLevelProducts(temp, products_df[i], PROCESSING_LEVEL[0])\n",
    "    if len(det_l2) >= len(det_l1):\n",
    "        data_det.append(det_l2)\n",
    "    else:\n",
    "        data_det.append(det_l1)\n",
    "    print(len(data_det[-1]))"
   ]
  },
  {
   "cell_type": "code",
   "execution_count": 28,
   "metadata": {
    "scrolled": true
   },
   "outputs": [
    {
     "name": "stdout",
     "output_type": "stream",
     "text": [
      "      Total  L1  L2\n",
      "Feb16   3     3  0\n",
      "Feb17   8     8  0\n",
      "Feb18   24     24  0\n",
      "Feb19   52     26  26\n",
      "Feb20   54     27  27\n"
     ]
    }
   ],
   "source": [
    "levelCount = []\n",
    "\n",
    "for i in range(len(products_df)):\n",
    "    counts = [products_df[i].shape[0], len(level1[i]), len(level2[i])]\n",
    "    levelCount.append(counts)\n",
    "\n",
    "print(\"      Total  L1  L2\")\n",
    "for i in range(len(levelCount)):\n",
    "    print(months[i] + \"   \" + str(levelCount[i][0]) + \"     \" + str(levelCount[i][1]) + \"  \" + str(levelCount[i][2]))"
   ]
  },
  {
   "cell_type": "code",
   "execution_count": 29,
   "metadata": {
    "scrolled": false
   },
   "outputs": [
    {
     "name": "stdout",
     "output_type": "stream",
     "text": [
      "Feb16\n",
      "S2A_MSIL1C_20160219T052342_N0201_R019_T44QMD_20160219T052342\n",
      "S2A_MSIL1C_20160209T050942_N0201_R019_T44QMD_20160209T051853\n",
      "S2A_MSIL1C_20160209T050942_N0201_R019_T44PMC_20160209T051853\n",
      "Feb17\n",
      "S2A_MSIL1C_20170302T045711_N0204_R119_T44PNC_20170302T050237\n",
      "S2A_MSIL1C_20170302T045711_N0204_R119_T44QND_20170302T050237\n",
      "S2A_MSIL1C_20170302T045711_N0204_R119_T44PMC_20170302T050237\n",
      "S2A_MSIL1C_20170302T045711_N0204_R119_T44QMD_20170302T050237\n",
      "S2A_MSIL1C_20170210T045931_N0204_R119_T44QMD_20170210T050445\n",
      "S2A_MSIL1C_20170210T045931_N0204_R119_T44QND_20170210T050445\n",
      "S2A_MSIL1C_20170210T045931_N0204_R119_T44PMC_20170210T050445\n",
      "S2A_MSIL1C_20170210T045931_N0204_R119_T44PNC_20170210T050445\n",
      "Feb18\n",
      "S2A_MSIL1C_20180307T045651_N0206_R119_T44QND_20180307T075359\n",
      "S2A_MSIL1C_20180307T045651_N0206_R119_T44PMC_20180307T075359\n",
      "S2A_MSIL1C_20180307T045651_N0206_R119_T44QMD_20180307T075359\n",
      "S2A_MSIL1C_20180307T045651_N0206_R119_T44PNC_20180307T075359\n",
      "S2B_MSIL1C_20180302T045709_N0206_R119_T44QND_20180302T074504\n",
      "S2B_MSIL1C_20180302T045709_N0206_R119_T44PMC_20180302T074504\n",
      "S2B_MSIL1C_20180302T045709_N0206_R119_T44PNC_20180302T074504\n",
      "S2B_MSIL1C_20180302T045709_N0206_R119_T44QMD_20180302T074504\n",
      "S2A_MSIL1C_20180225T045751_N0206_R119_T44PMC_20180225T102148\n",
      "S2A_MSIL1C_20180225T045751_N0206_R119_T44QND_20180225T102148\n",
      "S2A_MSIL1C_20180225T045751_N0206_R119_T44QMD_20180225T102148\n",
      "S2A_MSIL1C_20180225T045751_N0206_R119_T44PNC_20180225T102148\n",
      "S2A_MSIL1C_20180215T045901_N0206_R119_T44QMD_20180215T074952\n",
      "S2A_MSIL1C_20180215T045901_N0206_R119_T44PNC_20180215T074952\n",
      "S2A_MSIL1C_20180215T045901_N0206_R119_T44PMC_20180215T074952\n",
      "S2A_MSIL1C_20180215T045901_N0206_R119_T44QND_20180215T074952\n",
      "S2B_MSIL1C_20180220T045829_N0206_R119_T44PMC_20180220T102205\n",
      "S2B_MSIL1C_20180220T045829_N0206_R119_T44QND_20180220T102205\n",
      "S2B_MSIL1C_20180220T045829_N0206_R119_T44PNC_20180220T102205\n",
      "S2B_MSIL1C_20180220T045829_N0206_R119_T44QMD_20180220T102205\n",
      "S2B_MSIL1C_20180210T045929_N0206_R119_T44QND_20180210T060929\n",
      "S2B_MSIL1C_20180210T045929_N0206_R119_T44PMC_20180210T060929\n",
      "S2B_MSIL1C_20180210T045929_N0206_R119_T44QMD_20180210T060929\n",
      "S2B_MSIL1C_20180210T045929_N0206_R119_T44PNC_20180210T060929\n",
      "Feb19\n",
      "S2B_MSIL2A_20190307T045659_N0211_R119_T44QND_20190307T093039\n",
      "S2B_MSIL2A_20190307T045659_N0211_R119_T44QMD_20190307T093039\n",
      "S2B_MSIL2A_20190307T045659_N0211_R119_T44PNC_20190307T093039\n",
      "S2B_MSIL2A_20190307T045659_N0211_R119_T44PMC_20190307T093039\n",
      "S2A_MSIL2A_20190302T045721_N0211_R119_T44PNC_20190302T092150\n",
      "S2A_MSIL2A_20190302T045721_N0211_R119_T44QMD_20190302T092150\n",
      "S2A_MSIL2A_20190302T045721_N0211_R119_T44PMC_20190302T092150\n",
      "S2A_MSIL2A_20190302T045721_N0211_R119_T44QND_20190302T092150\n",
      "S2B_MSIL2A_20190225T045759_N0211_R119_T44PNC_20190225T091729\n",
      "S2B_MSIL2A_20190225T045759_N0211_R119_T44PMC_20190225T091729\n",
      "S2B_MSIL2A_20190225T045759_N0211_R119_T44PMC_20190225T090218\n",
      "S2B_MSIL2A_20190225T045759_N0211_R119_T44PNC_20190225T090218\n",
      "S2B_MSIL2A_20190225T045759_N0211_R119_T44QND_20190225T090218\n",
      "S2B_MSIL2A_20190225T045759_N0211_R119_T44QMD_20190225T090218\n",
      "S2A_MSIL2A_20190220T045831_N0211_R119_T44PMC_20190220T084125\n",
      "S2A_MSIL2A_20190220T045831_N0211_R119_T44PNC_20190220T084125\n",
      "S2A_MSIL2A_20190220T045831_N0211_R119_T44QND_20190220T084125\n",
      "S2A_MSIL2A_20190220T045831_N0211_R119_T44QMD_20190220T084125\n",
      "S2B_MSIL2A_20190215T045909_N0211_R119_T44PNC_20190215T090059\n",
      "S2B_MSIL2A_20190215T045909_N0211_R119_T44QND_20190215T090059\n",
      "S2B_MSIL2A_20190215T045909_N0211_R119_T44QMD_20190215T090059\n",
      "S2B_MSIL2A_20190215T045909_N0211_R119_T44PMC_20190215T090059\n",
      "S2A_MSIL2A_20190210T045941_N0211_R119_T44QND_20190210T090457\n",
      "S2A_MSIL2A_20190210T045941_N0211_R119_T44QMD_20190210T090457\n",
      "S2A_MSIL2A_20190210T045941_N0211_R119_T44PNC_20190210T090457\n",
      "S2A_MSIL2A_20190210T045941_N0211_R119_T44PMC_20190210T090457\n",
      "Feb20\n",
      "S2A_MSIL2A_20200306T045651_N0214_R119_T44QND_20200306T090503\n",
      "S2A_MSIL2A_20200306T045651_N0214_R119_T44QMD_20200306T090503\n",
      "S2A_MSIL2A_20200306T045651_N0214_R119_T44PNC_20200306T090503\n",
      "S2A_MSIL2A_20200306T045651_N0214_R119_T44PMC_20200306T090503\n",
      "S2B_MSIL2A_20200301T045719_N0214_R119_T44QND_20200301T092002\n",
      "S2B_MSIL2A_20200301T045719_N0214_R119_T44PMC_20200301T092002\n",
      "S2B_MSIL2A_20200301T045719_N0214_R119_T44QMD_20200301T092002\n",
      "S2B_MSIL2A_20200301T045719_N0214_R119_T44PNC_20200301T092002\n",
      "S2A_MSIL2A_20200225T045801_N0214_R119_T44PMC_20200225T090035\n",
      "S2A_MSIL2A_20200225T045801_N0214_R119_T44PNC_20200225T090035\n",
      "S2A_MSIL2A_20200225T045801_N0214_R119_T44QND_20200225T090035\n",
      "S2A_MSIL2A_20200225T045801_N0214_R119_T44QMD_20200225T090035\n",
      "S2B_MSIL2A_20200220T045829_N0214_R119_T44PNC_20200220T091521\n",
      "S2B_MSIL2A_20200220T045829_N0214_R119_T44QND_20200220T091521\n",
      "S2B_MSIL2A_20200220T045829_N0214_R119_T44QMD_20200220T091521\n",
      "S2B_MSIL2A_20200220T045829_N0214_R119_T44PMC_20200220T091521\n",
      "S2A_MSIL2A_20200218T050851_N0214_R019_T44PMC_20200218T091459\n",
      "S2A_MSIL2A_20200215T045901_N0214_R119_T44QND_20200215T091948\n",
      "S2A_MSIL2A_20200215T045901_N0214_R119_T44QMD_20200215T091948\n",
      "S2A_MSIL2A_20200215T045901_N0214_R119_T44PNC_20200215T091948\n",
      "S2A_MSIL2A_20200215T045901_N0214_R119_T44PMC_20200215T091948\n",
      "S2B_MSIL2A_20200210T045939_N0214_R119_T44PNC_20200210T092143\n",
      "S2B_MSIL2A_20200210T045939_N0214_R119_T44PMC_20200210T092143\n",
      "S2B_MSIL2A_20200210T045939_N0214_R119_T44QND_20200210T092143\n",
      "S2B_MSIL2A_20200210T045939_N0214_R119_T44QMD_20200210T092143\n",
      "S2B_MSIL2A_20200210T045939_N0214_R119_T44QND_20200210T091624\n",
      "S2B_MSIL2A_20200210T045939_N0214_R119_T44QMD_20200210T091624\n"
     ]
    }
   ],
   "source": [
    "for i in range(len(data_det)):\n",
    "    print(months[i])\n",
    "    for prod in data_det[i]:\n",
    "        print(data_det[i][prod]['title'])"
   ]
  },
  {
   "cell_type": "code",
   "execution_count": null,
   "metadata": {
    "scrolled": false
   },
   "outputs": [
    {
     "name": "stdout",
     "output_type": "stream",
     "text": [
      "Changing Directory C:\\Users\\Hello\\Documents\\remote-sensing\\APIs\\SentinelSat\\data\\Krishna2016_data\n",
      "833241c3-682d-4c51-97d6-1d12c95a3f8a not online. Download using sentinel-hub :)\n",
      "349ecfa4-05a7-475a-9ec6-6e4503db910c not online. Download using sentinel-hub :)\n",
      "14fb4cb8-9e58-499e-a703-211f7812652d not online. Download using sentinel-hub :)\n",
      "Changing Directory C:\\Users\\Hello\\Documents\\remote-sensing\\APIs\\SentinelSat\\data\\Krishna2017_data\n",
      "bfbe3c21-1512-4a24-9594-279bb413ac2b not online. Download using sentinel-hub :)\n",
      "017604ca-508d-44b4-aeb2-67742ac35138 not online. Download using sentinel-hub :)\n",
      "bda10aca-5096-484f-8bb0-10ff4cb8668d not online. Download using sentinel-hub :)\n",
      "c23a8903-6656-42f2-8794-c2243658cce3 not online. Download using sentinel-hub :)\n",
      "a9f4f220-d5d3-492e-baeb-4f8e8b2daaa2 not online. Download using sentinel-hub :)\n",
      "9d093df4-b297-457b-8244-1f5fec2fe155 not online. Download using sentinel-hub :)\n",
      "69ea7d41-4580-4cd1-8f2b-04e762261865 not online. Download using sentinel-hub :)\n",
      "b4dda055-36d1-4ab3-8375-3cc0f71f2651 not online. Download using sentinel-hub :)\n",
      "Changing Directory C:\\Users\\Hello\\Documents\\remote-sensing\\APIs\\SentinelSat\\data\\Krishna2018_data\n",
      "4c241f27-0e3f-4437-8783-cbf1890afd82 not online. Download using sentinel-hub :)\n",
      "839040c6-de55-462d-a46d-fe247c72ce03 not online. Download using sentinel-hub :)\n",
      "6c5bacfd-f6dc-4f1f-b540-373ae096b368 not online. Download using sentinel-hub :)\n",
      "46b62e57-8162-4ee5-9551-c83a0ff3e75f not online. Download using sentinel-hub :)\n",
      "a026830b-6846-40a5-af40-6c6e31f7f8fd not online. Download using sentinel-hub :)\n",
      "db7405c2-847a-4580-8d99-183069e6cdb5 not online. Download using sentinel-hub :)\n",
      "128b44a3-3d18-44a6-afe7-9849e2bbdcf0 not online. Download using sentinel-hub :)\n",
      "7be402c1-d842-40c8-bfc3-d4b2f56cd765 not online. Download using sentinel-hub :)\n",
      "349da2a1-d2b2-40f6-bdd2-c10aedf6c0e1 not online. Download using sentinel-hub :)\n",
      "8153605b-8a11-4433-98ed-d52d44937051 not online. Download using sentinel-hub :)\n",
      "d33007ca-f0d7-48fd-b257-13c51d156cfe not online. Download using sentinel-hub :)\n",
      "9e73ab9e-c1b6-4f02-9d1d-6720ef028922 not online. Download using sentinel-hub :)\n",
      "46cf1c0b-d6f4-4b22-9339-f50306025300 not online. Download using sentinel-hub :)\n",
      "dcfd9114-dcbf-4550-815e-d8904aa8d3cb not online. Download using sentinel-hub :)\n",
      "aa3e344d-8e88-4d65-8bf2-fcbfd5f96d45 not online. Download using sentinel-hub :)\n",
      "dd9afce6-b90a-4d12-ab6e-fa879780424a not online. Download using sentinel-hub :)\n",
      "ea7d4dcc-386a-4b3c-8373-a4b2036c4a5d not online. Download using sentinel-hub :)\n",
      "aa4d3ef1-d6bb-4481-b506-68af46f17307 not online. Download using sentinel-hub :)\n",
      "90f2f8c3-2448-46c9-a772-92c98cdcb0f0 not online. Download using sentinel-hub :)\n",
      "53b9b71b-c7c8-49c8-8f9f-d77dde47de37 not online. Download using sentinel-hub :)\n",
      "9a33c337-3281-4bfc-bfca-f94f6d69c933 not online. Download using sentinel-hub :)\n",
      "f2790745-f420-4727-bbe5-464554abf11f not online. Download using sentinel-hub :)\n",
      "2410d655-7e73-4a74-a022-5d186c15c0dc not online. Download using sentinel-hub :)\n",
      "3094329c-c06e-4448-ab8b-50e3b3a76e67 not online. Download using sentinel-hub :)\n",
      "Changing Directory C:\\Users\\Hello\\Documents\\remote-sensing\\APIs\\SentinelSat\\data\\Krishna2019_data\n",
      "S2B_MSIL2A_20190307T045659_N0211_R119_T44QND_20190307T093039\n",
      "S2B_MSIL2A_20190307T045659_N0211_R119_T44QMD_20190307T093039\n",
      "S2B_MSIL2A_20190307T045659_N0211_R119_T44PNC_20190307T093039\n",
      "S2B_MSIL2A_20190307T045659_N0211_R119_T44PMC_20190307T093039\n",
      "S2A_MSIL2A_20190302T045721_N0211_R119_T44PNC_20190302T092150\n",
      "S2A_MSIL2A_20190302T045721_N0211_R119_T44QMD_20190302T092150\n",
      "S2A_MSIL2A_20190302T045721_N0211_R119_T44PMC_20190302T092150\n",
      "S2A_MSIL2A_20190302T045721_N0211_R119_T44QND_20190302T092150\n",
      "S2B_MSIL2A_20190225T045759_N0211_R119_T44PNC_20190225T091729\n",
      "S2B_MSIL2A_20190225T045759_N0211_R119_T44PMC_20190225T091729\n",
      "S2B_MSIL2A_20190225T045759_N0211_R119_T44PMC_20190225T090218\n",
      "S2B_MSIL2A_20190225T045759_N0211_R119_T44PNC_20190225T090218\n",
      "S2B_MSIL2A_20190225T045759_N0211_R119_T44QND_20190225T090218\n",
      "S2B_MSIL2A_20190225T045759_N0211_R119_T44QMD_20190225T090218\n",
      "S2A_MSIL2A_20190220T045831_N0211_R119_T44PMC_20190220T084125\n",
      "S2A_MSIL2A_20190220T045831_N0211_R119_T44PNC_20190220T084125\n",
      "S2A_MSIL2A_20190220T045831_N0211_R119_T44QND_20190220T084125\n",
      "S2A_MSIL2A_20190220T045831_N0211_R119_T44QMD_20190220T084125\n",
      "S2B_MSIL2A_20190215T045909_N0211_R119_T44PNC_20190215T090059\n",
      "S2B_MSIL2A_20190215T045909_N0211_R119_T44QND_20190215T090059\n",
      "S2B_MSIL2A_20190215T045909_N0211_R119_T44QMD_20190215T090059\n",
      "S2B_MSIL2A_20190215T045909_N0211_R119_T44PMC_20190215T090059\n",
      "S2A_MSIL2A_20190210T045941_N0211_R119_T44QND_20190210T090457\n",
      "S2A_MSIL2A_20190210T045941_N0211_R119_T44QMD_20190210T090457\n",
      "S2A_MSIL2A_20190210T045941_N0211_R119_T44PNC_20190210T090457\n",
      "S2A_MSIL2A_20190210T045941_N0211_R119_T44PMC_20190210T090457\n",
      "Changing Directory C:\\Users\\Hello\\Documents\\remote-sensing\\APIs\\SentinelSat\\data\\Krishna2020_data\n",
      "a6acd5e2-43d5-4093-a46d-91021a0ab071----S2A_MSIL2A_20200306T045651_N0214_R119_T44QND_20200306T090503\n"
     ]
    },
    {
     "name": "stderr",
     "output_type": "stream",
     "text": [
      "Downloading:  26%|██▌       | 281M/1.08G [10:40<18:59:24, 11.7kB/s]"
     ]
    }
   ],
   "source": [
    "data_dir = []\n",
    "for i in range(len(data_det)):\n",
    "    getData(data_det[i])\n",
    "    #checkAllFiles(data_det[i])"
   ]
  }
 ],
 "metadata": {
  "kernelspec": {
   "display_name": "Python 3",
   "language": "python",
   "name": "python3"
  },
  "language_info": {
   "codemirror_mode": {
    "name": "ipython",
    "version": 3
   },
   "file_extension": ".py",
   "mimetype": "text/x-python",
   "name": "python",
   "nbconvert_exporter": "python",
   "pygments_lexer": "ipython3",
   "version": "3.7.6"
  }
 },
 "nbformat": 4,
 "nbformat_minor": 2
}
