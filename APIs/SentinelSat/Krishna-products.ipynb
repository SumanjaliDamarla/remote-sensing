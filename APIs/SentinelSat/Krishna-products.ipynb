{
 "cells": [
  {
   "cell_type": "code",
   "execution_count": 1,
   "metadata": {},
   "outputs": [],
   "source": [
    "from sentinelsat import SentinelAPI, read_geojson, geojson_to_wkt"
   ]
  },
  {
   "cell_type": "code",
   "execution_count": 2,
   "metadata": {},
   "outputs": [],
   "source": [
    "from datetime import date"
   ]
  },
  {
   "cell_type": "code",
   "execution_count": 3,
   "metadata": {},
   "outputs": [],
   "source": [
    "import requests"
   ]
  },
  {
   "cell_type": "code",
   "execution_count": 4,
   "metadata": {},
   "outputs": [],
   "source": [
    "import threading\n",
    "import multiprocessing"
   ]
  },
  {
   "cell_type": "code",
   "execution_count": 5,
   "metadata": {},
   "outputs": [],
   "source": [
    "USERNAME = [\"barmasushma\", \"barmasushma1\", \"SumanjaliDamarla\"]\n",
    "PASSWORD = [\"barmasushma\", \"barmasushma1\", \"D.Sumanjali1\"]\n",
    "API_SOURCE = \"https://scihub.copernicus.eu/dhus\"\n",
    "PROCESSING_LEVEL = [\"Level-1\", \"Level-2\"]\n",
    "SATELLITE = \"Sentinel-2\"\n",
    "STUDY_AREA = \"StudyArea.geojson\""
   ]
  },
  {
   "cell_type": "code",
   "execution_count": 6,
   "metadata": {},
   "outputs": [],
   "source": [
    "#download for different months and 2 areas, then check for processing level and cloud data"
   ]
  },
  {
   "cell_type": "code",
   "execution_count": 7,
   "metadata": {},
   "outputs": [],
   "source": [
    "footprint = geojson_to_wkt(read_geojson(STUDY_AREA))"
   ]
  },
  {
   "cell_type": "code",
   "execution_count": 8,
   "metadata": {},
   "outputs": [],
   "source": [
    "api = []\n",
    "for i in range(len(USERNAME)):\n",
    "    api.append(SentinelAPI(USERNAME[i], PASSWORD[i], API_SOURCE))"
   ]
  },
  {
   "cell_type": "code",
   "execution_count": 9,
   "metadata": {},
   "outputs": [],
   "source": [
    "NOV_BEGIN = \"20181101\"\n",
    "NOV_END = \"20181130\"\n",
    "\n",
    "DEC_BEGIN = \"20181201\"\n",
    "DEC_END = \"20181231\"\n",
    "\n",
    "JAN_BEGIN = \"20190101\"\n",
    "JAN_END = \"20190131\"\n",
    "\n",
    "FEB_BEGIN = \"20190201\"\n",
    "FEB_END = \"20190228\"\n",
    "\n",
    "MAR_BEGIN = \"20190301\"\n",
    "MAR_END = \"20190331\""
   ]
  },
  {
   "cell_type": "code",
   "execution_count": 10,
   "metadata": {},
   "outputs": [],
   "source": [
    "def queryForProducts(footprint, beg, end, sat):\n",
    "    return api[0].query(footprint, date=(beg, end),platformname=sat)"
   ]
  },
  {
   "cell_type": "code",
   "execution_count": 11,
   "metadata": {},
   "outputs": [],
   "source": [
    "def getLevelURLs(df):\n",
    "    level1 = []\n",
    "    for i in range(df.shape[0]):\n",
    "        if PROCESSING_LEVEL[0] in df[\"processinglevel\"][i]:\n",
    "            level1.append(df[\"link\"][i])\n",
    "\n",
    "    level2 = []\n",
    "    for i in range(df.shape[0]):\n",
    "        if PROCESSING_LEVEL[1] in df[\"processinglevel\"][i]:\n",
    "            level2.append(df[\"link\"][i])\n",
    "    \n",
    "    return level1, level2"
   ]
  },
  {
   "cell_type": "code",
   "execution_count": 12,
   "metadata": {},
   "outputs": [],
   "source": [
    "def curateLevelProducts(products, df, level):\n",
    "    keys = list(products.keys())\n",
    "    for i in range(df.shape[0]):\n",
    "        if level not in df[\"processinglevel\"][i]:\n",
    "            products.pop(keys[i])\n",
    "    return products"
   ]
  },
  {
   "cell_type": "code",
   "execution_count": 13,
   "metadata": {},
   "outputs": [],
   "source": [
    "nov_products = queryForProducts(footprint, NOV_BEGIN, NOV_END,SATELLITE)\n",
    "dec_products = queryForProducts(footprint, DEC_BEGIN, DEC_END,SATELLITE)\n",
    "jan_products = queryForProducts(footprint, JAN_BEGIN, JAN_END,SATELLITE)\n",
    "feb_products = queryForProducts(footprint, FEB_BEGIN, FEB_END,SATELLITE)\n",
    "mar_products = queryForProducts(footprint, MAR_BEGIN, MAR_END,SATELLITE)"
   ]
  },
  {
   "cell_type": "code",
   "execution_count": 14,
   "metadata": {},
   "outputs": [],
   "source": [
    "nov_df = api[0].to_dataframe(nov_products)\n",
    "dec_df = api[0].to_dataframe(dec_products)\n",
    "jan_df = api[0].to_dataframe(jan_products)\n",
    "feb_df = api[0].to_dataframe(feb_products)\n",
    "mar_df = api[0].to_dataframe(mar_products)"
   ]
  },
  {
   "cell_type": "code",
   "execution_count": 15,
   "metadata": {},
   "outputs": [],
   "source": [
    "nov_level1, nov_level2 = getLevelURLs(nov_df)\n",
    "dec_level1, dec_level2 = getLevelURLs(dec_df)\n",
    "jan_level1, jan_level2 = getLevelURLs(jan_df)\n",
    "feb_level1, feb_level2 = getLevelURLs(feb_df)\n",
    "mar_level1, mar_level2 = getLevelURLs(mar_df)"
   ]
  },
  {
   "cell_type": "code",
   "execution_count": 16,
   "metadata": {},
   "outputs": [],
   "source": [
    "nov_data = curateLevelProducts(nov_products, nov_df, PROCESSING_LEVEL[1])\n",
    "dec_data = curateLevelProducts(dec_products, dec_df, PROCESSING_LEVEL[1])\n",
    "jan_data = curateLevelProducts(jan_products, jan_df, PROCESSING_LEVEL[1])\n",
    "feb_data = curateLevelProducts(feb_products, feb_df, PROCESSING_LEVEL[1])\n",
    "mar_data = curateLevelProducts(mar_products, mar_df, PROCESSING_LEVEL[1])"
   ]
  },
  {
   "cell_type": "code",
   "execution_count": 17,
   "metadata": {},
   "outputs": [
    {
     "name": "stdout",
     "output_type": "stream",
     "text": [
      "      Total  L1  L2\n",
      "Nov   40     40  0\n",
      "Dec   65     42  23\n",
      "Jan   90     45  45\n",
      "Feb   74     37  37\n",
      "Mar   84     42  42\n"
     ]
    }
   ],
   "source": [
    "months = [\n",
    "    \"Nov\", \"Dec\", \"Jan\", \"Feb\", \"Mar\"\n",
    "]\n",
    "levelCount = [\n",
    "    [nov_df.shape[0], len(nov_level1), len(nov_level2)],\n",
    "    [dec_df.shape[0], len(dec_level1), len(dec_level2)],\n",
    "    [jan_df.shape[0], len(jan_level1), len(jan_level2)],\n",
    "    [feb_df.shape[0], len(feb_level1), len(feb_level2)],\n",
    "    [mar_df.shape[0], len(mar_level1), len(mar_level2)]\n",
    "]\n",
    "\n",
    "print(\"      Total  L1  L2\")\n",
    "for i in range(len(months)):\n",
    "    print(months[i] + \"   \" + str(levelCount[i][0]) + \"     \" + str(levelCount[i][1]) + \"  \" + str(levelCount[i][2]))"
   ]
  },
  {
   "cell_type": "code",
   "execution_count": null,
   "metadata": {
    "scrolled": true
   },
   "outputs": [],
   "source": [
    "t1 = threading.Thread(api[0].download_all(dec_data), name='t1') \n",
    "t2 = threading.Thread(api[0].download_all(feb_data), name='t2')     \n",
    "# starting threads \n",
    "t1.start()\n",
    "threading.current_thread().name\n",
    "t2.start()\n",
    "threading.current_thread().name\n",
    "# wait until all threads finish \n",
    "t1.join() \n",
    "t2.join() "
   ]
  },
  {
   "cell_type": "code",
   "execution_count": null,
   "metadata": {},
   "outputs": [],
   "source": [
    "p1 = multiprocessing.Process(target=api[0].download_all, args=(dec_data,)) \n",
    "p2 = multiprocessing.Process(target=api[0].download_all, args=(jan_data,))\n",
    "p3 = multiprocessing.Process(target=api[0].download_all, args=(feb_data,))   \n",
    "p4 = multiprocessing.Process(target=api[1].download_all, args=(mar_data,))      \n",
    "# starting processes \n",
    "p1.start()\n",
    "p2.start()\n",
    "p3.start()\n",
    "p4.start()\n",
    "p1.join() \n",
    "p2.join()\n",
    "p3.join()\n",
    "p4.join()"
   ]
  },
  {
   "cell_type": "code",
   "execution_count": null,
   "metadata": {},
   "outputs": [],
   "source": [
    "len(list(dec_data.keys()))"
   ]
  },
  {
   "cell_type": "code",
   "execution_count": null,
   "metadata": {},
   "outputs": [],
   "source": [
    "od1 = OrderedDict() \n",
    "od2 = OrderedDict() \n",
    "od3 = OrderedDict() \n",
    "od4 = OrderedDict() \n",
    "od5 = OrderedDict() \n",
    "od6 = OrderedDict() "
   ]
  }
 ],
 "metadata": {
  "kernelspec": {
   "display_name": "Python 3",
   "language": "python",
   "name": "python3"
  },
  "language_info": {
   "codemirror_mode": {
    "name": "ipython",
    "version": 3
   },
   "file_extension": ".py",
   "mimetype": "text/x-python",
   "name": "python",
   "nbconvert_exporter": "python",
   "pygments_lexer": "ipython3",
   "version": "3.7.4"
  }
 },
 "nbformat": 4,
 "nbformat_minor": 2
}
