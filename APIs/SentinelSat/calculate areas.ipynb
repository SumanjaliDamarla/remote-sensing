{
 "cells": [
  {
   "cell_type": "code",
   "execution_count": 1,
   "metadata": {},
   "outputs": [],
   "source": [
    "import os\n",
    "from glob import glob\n",
    "import numpy  as np\n",
    "import gdal\n",
    "import earthpy.spatial as es\n",
    "import earthpy.plot as ep\n",
    "import rasterio\n",
    "import sys\n",
    "import matplotlib.pyplot as plt"
   ]
  },
  {
   "cell_type": "code",
   "execution_count": 4,
   "metadata": {},
   "outputs": [
    {
     "data": {
      "text/plain": [
       "['C:\\\\Users\\\\Hello\\\\Documents\\\\remote-sensing\\\\APIs\\\\SentinelSat\\\\working_clusters\\\\Krishna\\\\Krishna20170210.tif',\n",
       " 'C:\\\\Users\\\\Hello\\\\Documents\\\\remote-sensing\\\\APIs\\\\SentinelSat\\\\working_clusters\\\\Krishna\\\\Krishna20180302.tif',\n",
       " 'C:\\\\Users\\\\Hello\\\\Documents\\\\remote-sensing\\\\APIs\\\\SentinelSat\\\\working_clusters\\\\Krishna\\\\Krishna20190210.tif',\n",
       " 'C:\\\\Users\\\\Hello\\\\Documents\\\\remote-sensing\\\\APIs\\\\SentinelSat\\\\working_clusters\\\\Krishna\\\\Krishna20200215.tif']"
      ]
     },
     "execution_count": 4,
     "metadata": {},
     "output_type": "execute_result"
    }
   ],
   "source": [
    "path = os.getcwd()+\"\\\\working_clusters\\\\Krishna\"\n",
    "krishna = glob(path+\"\\\\*.tif\")\n",
    "krishna"
   ]
  },
  {
   "cell_type": "code",
   "execution_count": 5,
   "metadata": {},
   "outputs": [
    {
     "data": {
      "text/plain": [
       "['C:\\\\Users\\\\Hello\\\\Documents\\\\remote-sensing\\\\APIs\\\\SentinelSat\\\\working_clusters\\\\Godavari\\\\Godavari20180225.tif',\n",
       " 'C:\\\\Users\\\\Hello\\\\Documents\\\\remote-sensing\\\\APIs\\\\SentinelSat\\\\working_clusters\\\\Godavari\\\\Godavari20190215.tif']"
      ]
     },
     "execution_count": 5,
     "metadata": {},
     "output_type": "execute_result"
    }
   ],
   "source": [
    "path = os.getcwd()+\"\\\\working_clusters\\\\Godavari\"\n",
    "godavari = glob(path+\"\\\\*.tif\")\n",
    "godavari"
   ]
  },
  {
   "cell_type": "code",
   "execution_count": 13,
   "metadata": {},
   "outputs": [],
   "source": [
    "def readImage(file_path):\n",
    "    ds = gdal.Open(file_path)\n",
    "    image = np.array(ds.GetRasterBand(1).ReadAsArray()).astype(float)\n",
    "    return image"
   ]
  },
  {
   "cell_type": "code",
   "execution_count": 14,
   "metadata": {},
   "outputs": [],
   "source": [
    "def calculateArea(clusters):\n",
    "    dense = np.count_nonzero(clusters == -1)\n",
    "    sparse = np.count_nonzero(clusters == 1)\n",
    "    return [sparse/100, dense/100]"
   ]
  },
  {
   "cell_type": "code",
   "execution_count": 15,
   "metadata": {},
   "outputs": [],
   "source": [
    "def getTotalArea(ndvi):\n",
    "    return np.count_nonzero(ndvi >= -1) / 100"
   ]
  },
  {
   "cell_type": "code",
   "execution_count": 19,
   "metadata": {},
   "outputs": [
    {
     "name": "stdout",
     "output_type": "stream",
     "text": [
      "C:\\Users\\Hello\\Documents\\remote-sensing\\APIs\\SentinelSat\\ndvi_images\\Krishna20200215.tif\n",
      "C:\\Users\\Hello\\Documents\\remote-sensing\\APIs\\SentinelSat\\ndvi_images\\Godavari20190215.tif\n"
     ]
    }
   ],
   "source": [
    "path = os.getcwd()+\"\\\\ndvi_images\\\\Krishna\"\n",
    "tot_krishna = glob(path+\"*.tif\")\n",
    "tot_krishna = tot_krishna[-1]\n",
    "print(tot_krishna)\n",
    "\n",
    "path = os.getcwd()+\"\\\\ndvi_images\\\\Godavari\"\n",
    "tot_godavari = glob(path+\"*.tif\")\n",
    "tot_godavari = tot_godavari[-1]\n",
    "print(tot_godavari)"
   ]
  },
  {
   "cell_type": "code",
   "execution_count": 22,
   "metadata": {},
   "outputs": [
    {
     "name": "stderr",
     "output_type": "stream",
     "text": [
      "C:\\Users\\Hello\\.conda\\envs\\pro\\lib\\site-packages\\ipykernel_launcher.py:2: RuntimeWarning: invalid value encountered in greater_equal\n",
      "  \n"
     ]
    },
    {
     "name": "stdout",
     "output_type": "stream",
     "text": [
      "Krishna area: 665513.15\n",
      "Godavari area: 607815.22\n"
     ]
    }
   ],
   "source": [
    "krishna_tot_area_hectares = getTotalArea(readImage(tot_krishna))\n",
    "godavari_tot_area_hectares = getTotalArea(readImage(tot_godavari))\n",
    "\n",
    "print(\"Krishna area: \" + str(krishna_tot_area_hectares))\n",
    "print(\"Godavari area: \" + str(godavari_tot_area_hectares))"
   ]
  },
  {
   "cell_type": "code",
   "execution_count": 27,
   "metadata": {},
   "outputs": [
    {
     "name": "stdout",
     "output_type": "stream",
     "text": [
      "20170210 -- [203746.81, 250965.42]\n",
      "20180302 -- [255461.03, 161251.45]\n",
      "20190210 -- [206381.17, 287396.5]\n",
      "20200215 -- [113662.74, 414191.26]\n"
     ]
    }
   ],
   "source": [
    "krishna_area_hectares = {}\n",
    "for date in krishna:\n",
    "    dt = date.split('\\\\')[-1].split('.')[0][-8:]\n",
    "    krishna_area_hectares[dt] = calculateArea(readImage(date))\n",
    "    print(dt + \" -- \" + str(krishna_area_hectares[dt]))"
   ]
  },
  {
   "cell_type": "code",
   "execution_count": 28,
   "metadata": {},
   "outputs": [
    {
     "name": "stdout",
     "output_type": "stream",
     "text": [
      "20180225 -- [105882.7, 368983.63]\n",
      "20190215 -- [94271.32, 403692.77]\n"
     ]
    }
   ],
   "source": [
    "godavari_area_hectares = {}\n",
    "for date in godavari:\n",
    "    dt = date.split('\\\\')[-1].split('.')[0][-8:]\n",
    "    godavari_area_hectares[dt] = calculateArea(readImage(date))\n",
    "    print(dt + \" -- \" + str(godavari_area_hectares[dt]))"
   ]
  },
  {
   "cell_type": "code",
   "execution_count": 32,
   "metadata": {},
   "outputs": [
    {
     "name": "stdout",
     "output_type": "stream",
     "text": [
      "['20170210', '20180302', '20190210', '20200215']\n",
      "[203746.81, 255461.03, 206381.17, 113662.74]\n",
      "[250965.42, 161251.45, 287396.5, 414191.26]\n",
      "['20180225', '20190215']\n",
      "[105882.7, 94271.32]\n",
      "[368983.63, 403692.77]\n"
     ]
    }
   ],
   "source": [
    "krishna_sparse_area_hect = []\n",
    "krishna_dense_area_hect = []\n",
    "for dt in krishna_area_hectares.keys():\n",
    "    krishna_sparse_area_hect.append(krishna_area_hectares[dt][0])\n",
    "    krishna_dense_area_hect.append(krishna_area_hectares[dt][1])\n",
    "\n",
    "godavari_sparse_area_hect = []\n",
    "godavari_dense_area_hect = []\n",
    "for dt in godavari_area_hectares.keys():\n",
    "    godavari_sparse_area_hect.append(godavari_area_hectares[dt][0])\n",
    "    godavari_dense_area_hect.append(godavari_area_hectares[dt][1])\n",
    "\n",
    "krishna_dates = list(krishna_area_hectares.keys())\n",
    "godavari_dates = list(godavari_area_hectares.keys())\n",
    "print(krishna_dates)\n",
    "print(krishna_sparse_area_hect)\n",
    "print(krishna_dense_area_hect)\n",
    "print(godavari_dates)\n",
    "print(godavari_sparse_area_hect)\n",
    "print(godavari_dense_area_hect)"
   ]
  },
  {
   "cell_type": "code",
   "execution_count": 33,
   "metadata": {},
   "outputs": [
    {
     "data": {
      "image/png": "[encoded data removed]",
      "text/plain": [
       "<Figure size 432x288 with 1 Axes>"
      ]
     },
     "metadata": {
      "needs_background": "light"
     },
     "output_type": "display_data"
    }
   ],
   "source": [
    "plt.plot(krishna_dates, krishna_sparse_area_hect, label = \"Sparse vegetation Area\") \n",
    "plt.plot(krishna_dates, krishna_dense_area_hect, label = \"Dense vegetation Area\") \n",
    "\n",
    "plt.xlabel('Date') \n",
    "plt.ylabel('Area in hectares') \n",
    "\n",
    "plt.title('Krishna Command Area Vegetation') \n",
    "plt.legend() \n",
    "\n",
    "plt.show() "
   ]
  },
  {
   "cell_type": "code",
   "execution_count": 34,
   "metadata": {},
   "outputs": [
    {
     "data": {
      "image/png": "[encoded data removed]",
      "text/plain": [
       "<Figure size 432x288 with 1 Axes>"
      ]
     },
     "metadata": {
      "needs_background": "light"
     },
     "output_type": "display_data"
    }
   ],
   "source": [
    "plt.plot(godavari_dates, godavari_sparse_area_hect, label = \"Sparse vegetation Area\") \n",
    "plt.plot(godavari_dates, godavari_dense_area_hect, label = \"Dense vegetation Area\") \n",
    "\n",
    "plt.xlabel('Date') \n",
    "plt.ylabel('Area in hectares') \n",
    "\n",
    "plt.title('Godavari Command Area Vegetation') \n",
    "plt.legend() \n",
    "\n",
    "plt.show() "
   ]
  },
  {
   "cell_type": "code",
   "execution_count": null,
   "metadata": {},
   "outputs": [],
   "source": []
  }
 ],
 "metadata": {
  "kernelspec": {
   "display_name": "Python 3",
   "language": "python",
   "name": "python3"
  },
  "language_info": {
   "codemirror_mode": {
    "name": "ipython",
    "version": 3
   },
   "file_extension": ".py",
   "mimetype": "text/x-python",
   "name": "python",
   "nbconvert_exporter": "python",
   "pygments_lexer": "ipython3",
   "version": "3.7.6"
  }
 },
 "nbformat": 4,
 "nbformat_minor": 4
}
