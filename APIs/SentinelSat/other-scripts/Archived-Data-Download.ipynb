{
 "cells": [
  {
   "cell_type": "code",
   "execution_count": 1,
   "metadata": {},
   "outputs": [],
   "source": [
    "%reload_ext autoreload\n",
    "%autoreload 2\n",
    "%matplotlib inline"
   ]
  },
  {
   "cell_type": "code",
   "execution_count": 2,
   "metadata": {},
   "outputs": [],
   "source": [
    "import numpy as np\n",
    "import matplotlib.pyplot as plt\n",
    "import os"
   ]
  },
  {
   "cell_type": "code",
   "execution_count": null,
   "metadata": {},
   "outputs": [
    {
     "name": "stdout",
     "output_type": "stream",
     "text": [
      "S2B_MSIL1C_20180302T045709_N0206_R119_T44QND_20180302T074504\n",
      "S2B_MSIL1C_20180302T045709_N0206_R119_T44PMC_20180302T074504\n",
      "S2B_MSIL1C_20180302T045709_N0206_R119_T44PNC_20180302T074504\n",
      "S2B_MSIL1C_20180302T045709_N0206_R119_T44QMD_20180302T074504\n",
      "S2A_MSIL1C_20170210T045931_N0204_R119_T44QMD_20170210T050445\n",
      "S2A_MSIL1C_20170210T045931_N0204_R119_T44QND_20170210T050445\n",
      "S2A_MSIL1C_20170210T045931_N0204_R119_T44PMC_20170210T050445\n",
      "S2A_MSIL1C_20170210T045931_N0204_R119_T44PNC_20170210T050445\n",
      "S2A_MSIL1C_20180225T045751_N0206_R119_T44QND_20180225T102148\n",
      "S2A_MSIL1C_20180225T045751_N0206_R119_T44QPD_20180225T102148\n",
      "S2A_MSIL1C_20180225T045751_N0206_R119_T44QPE_20180225T102148\n"
     ]
    },
    {
     "name": "stderr",
     "output_type": "stream",
     "text": [
      "C:\\Users\\Hello\\.conda\\envs\\pro\\lib\\site-packages\\sentinelhub\\aws.py:164: SHUserWarning: Products with baseline 02.14 are not officially supported in sentinelhub-py. If you notice any errors in naming structure of downloaded data please report an issue at https://github.com/sentinel-hub/sentinelhub-py/issues. Pull requests are also very appreciated\n",
      "  warnings.warn(message, category=SHUserWarning)\n"
     ]
    },
    {
     "name": "stdout",
     "output_type": "stream",
     "text": [
      "S2A_MSIL2A_20200215T045901_N0214_R119_T44QPE_20200215T091948\n"
     ]
    }
   ],
   "source": [
    "from sentinelhub import AwsProductRequest\n",
    "\n",
    "product_ids = ['S2B_MSIL1C_20180302T045709_N0206_R119_T44QND_20180302T074504',\n",
    "'S2B_MSIL1C_20180302T045709_N0206_R119_T44PMC_20180302T074504',\n",
    "'S2B_MSIL1C_20180302T045709_N0206_R119_T44PNC_20180302T074504',\n",
    "'S2B_MSIL1C_20180302T045709_N0206_R119_T44QMD_20180302T074504',\n",
    "'S2A_MSIL1C_20170210T045931_N0204_R119_T44QMD_20170210T050445',\n",
    "'S2A_MSIL1C_20170210T045931_N0204_R119_T44QND_20170210T050445',\n",
    "'S2A_MSIL1C_20170210T045931_N0204_R119_T44PMC_20170210T050445',\n",
    "'S2A_MSIL1C_20170210T045931_N0204_R119_T44PNC_20170210T050445',\n",
    "'S2A_MSIL1C_20180225T045751_N0206_R119_T44QND_20180225T102148',\n",
    "'S2A_MSIL1C_20180225T045751_N0206_R119_T44QPD_20180225T102148',\n",
    "'S2A_MSIL1C_20180225T045751_N0206_R119_T44QPE_20180225T102148',\n",
    "               'S2A_MSIL2A_20200215T045901_N0214_R119_T44QPE_20200215T091948',\n",
    "               'S2A_MSIL2A_20200215T045901_N0214_R119_T44QPD_20200215T091948'\n",
    "]\n",
    "requests = []\n",
    "bands = ['B02', 'B03', 'B04', 'B08']\n",
    "data_folder=os.getcwd()+\"\\\\data\\\\\"\n",
    "for product_id in product_ids:\n",
    "    product_request = AwsProductRequest(product_id=product_id,\n",
    "                                    data_folder=data_folder)\n",
    "    print(product_id)\n",
    "    if not os.path.exists(data_folder+product_id):\n",
    "        product_request.get_data(save_data=True)"
   ]
  },
  {
   "cell_type": "code",
   "execution_count": null,
   "metadata": {},
   "outputs": [],
   "source": []
  }
 ],
 "metadata": {
  "kernelspec": {
   "display_name": "Python 3",
   "language": "python",
   "name": "python3"
  },
  "language_info": {
   "codemirror_mode": {
    "name": "ipython",
    "version": 3
   },
   "file_extension": ".py",
   "mimetype": "text/x-python",
   "name": "python",
   "nbconvert_exporter": "python",
   "pygments_lexer": "ipython3",
   "version": "3.7.6"
  }
 },
 "nbformat": 4,
 "nbformat_minor": 4
}
