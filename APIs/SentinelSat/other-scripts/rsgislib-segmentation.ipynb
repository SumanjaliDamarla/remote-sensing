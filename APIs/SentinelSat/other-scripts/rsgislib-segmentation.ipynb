{
 "cells": [
  {
   "cell_type": "code",
   "execution_count": 1,
   "metadata": {},
   "outputs": [],
   "source": [
    "import rsgislib"
   ]
  },
  {
   "cell_type": "code",
   "execution_count": 2,
   "metadata": {},
   "outputs": [],
   "source": [
    "from rsgislib.segmentation import segutils"
   ]
  },
  {
   "cell_type": "code",
   "execution_count": 3,
   "metadata": {},
   "outputs": [],
   "source": [
    "import os"
   ]
  },
  {
   "cell_type": "code",
   "execution_count": 4,
   "metadata": {},
   "outputs": [],
   "source": [
    "from glob import glob"
   ]
  },
  {
   "cell_type": "code",
   "execution_count": 5,
   "metadata": {},
   "outputs": [],
   "source": [
    "cwd = os.getcwd()"
   ]
  },
  {
   "cell_type": "code",
   "execution_count": 6,
   "metadata": {},
   "outputs": [
    {
     "name": "stdout",
     "output_type": "stream",
     "text": [
      "True\n"
     ]
    }
   ],
   "source": [
    "ndvi_images = os.getcwd() + \"\\\\rsgislib_clusters\"\n",
    "print(os.path.exists(ndvi_images))"
   ]
  },
  {
   "cell_type": "code",
   "execution_count": 7,
   "metadata": {},
   "outputs": [],
   "source": [
    "ndvi_files = glob(ndvi_images+\"\\\\*tif\")"
   ]
  },
  {
   "cell_type": "code",
   "execution_count": 8,
   "metadata": {},
   "outputs": [],
   "source": [
    "path = os.getcwd()+\"\\\\rsgislib_cluster_segments\"\n",
    "if not os.path.exists(path):\n",
    "    os.mkdir(path)"
   ]
  },
  {
   "cell_type": "code",
   "execution_count": 9,
   "metadata": {},
   "outputs": [
    {
     "data": {
      "text/plain": [
       "['C:\\\\Users\\\\Hello\\\\Documents\\\\remote-sensing\\\\APIs\\\\SentinelSat\\\\rsgislib_clusters\\\\Krishna20200215_sub_clusters1500.tif',\n",
       " 'C:\\\\Users\\\\Hello\\\\Documents\\\\remote-sensing\\\\APIs\\\\SentinelSat\\\\rsgislib_clusters\\\\Krishna20200215_sub_clusters_ndvi_orig.tif',\n",
       " 'C:\\\\Users\\\\Hello\\\\Documents\\\\remote-sensing\\\\APIs\\\\SentinelSat\\\\rsgislib_clusters\\\\Krishna20200215_sub_clusters_ndvi_orig_4clust.tif',\n",
       " 'C:\\\\Users\\\\Hello\\\\Documents\\\\remote-sensing\\\\APIs\\\\SentinelSat\\\\rsgislib_clusters\\\\Krishna20200215_sub_clusters_ndvi_orig_6clust.tif',\n",
       " 'C:\\\\Users\\\\Hello\\\\Documents\\\\remote-sensing\\\\APIs\\\\SentinelSat\\\\rsgislib_clusters\\\\Krishna20200215_sub_clusters_orig.tif']"
      ]
     },
     "execution_count": 9,
     "metadata": {},
     "output_type": "execute_result"
    }
   ],
   "source": [
    "ndvi_files"
   ]
  },
  {
   "cell_type": "code",
   "execution_count": 10,
   "metadata": {},
   "outputs": [],
   "source": [
    "inImage = ndvi_files[1]\n",
    "outputClumps = inImage.split('\\\\')[-1].split('.')[0]+\".kea\"\n",
    "os.chdir(path)"
   ]
  },
  {
   "cell_type": "code",
   "execution_count": 11,
   "metadata": {},
   "outputs": [
    {
     "name": "stdout",
     "output_type": "stream",
     "text": [
      "C:\\Users\\Hello\\Documents\\remote-sensing\\APIs\\SentinelSat\\rsgislib_clusters\\Krishna20200215_sub_clusters_ndvi_orig.tif\n",
      "Krishna20200215_sub_clusters_ndvi_orig.kea\n"
     ]
    }
   ],
   "source": [
    "print(inImage)\n",
    "print(outputClumps)"
   ]
  },
  {
   "cell_type": "code",
   "execution_count": 12,
   "metadata": {},
   "outputs": [
    {
     "name": "stdout",
     "output_type": "stream",
     "text": [
      "Stretch Input Image\n",
      "Add 1 to stretched file to ensure there are no all zeros (i.e., no data) regions created.\n",
      "Create Input Image Mask.\n",
      "Mask stretched Image.\n",
      "Deleting file: .\\Krishna20200215_sub_clusters_ndvi_orig_stchdonly.kea\n",
      "Deleting file: .\\Krishna20200215_sub_clusters_ndvi_orig_stchdonlyOff.kea\n",
      "Deleting file: .\\Krishna20200215_sub_clusters_ndvi_orig_stchdmaskonly.kea\n",
      "Performing KMeans.\n",
      "Apply KMeans to image.\n",
      "Eliminate Single Pixels.\n",
      "Perform clump.\n",
      "Eliminate small pixels.\n",
      "Relabel clumps.\n",
      "Calculate image statistics and build pyramids.\n",
      "Deleting file: .\\Krishna20200215_sub_clusters_ndvi_orig_kmeansclusters.gmtxt\n",
      "Deleting file: .\\Krishna20200215_sub_clusters_ndvi_orig_kmeans.kea\n",
      "Deleting file: .\\Krishna20200215_sub_clusters_ndvi_orig_kmeans.kea.aux.xml\n",
      "Deleting file: .\\Krishna20200215_sub_clusters_ndvi_orig_kmeans_nosgl.kea\n",
      "Deleting file: .\\Krishna20200215_sub_clusters_ndvi_orig_kmeans_nosglTMP.kea\n",
      "Deleting file: .\\Krishna20200215_sub_clusters_ndvi_orig_clumps.kea\n",
      "Deleting file: .\\Krishna20200215_sub_clusters_ndvi_orig_clumps_elim.kea\n",
      "Deleting file: .\\Krishna20200215_sub_clusters_ndvi_orig_stchd.kea\n"
     ]
    }
   ],
   "source": [
    "segutils.runShepherdSegmentation(inImage,\n",
    "                                 outputClumps,\n",
    "                                 tmpath='./',\n",
    "                                 numClusters=5,\n",
    "                                 minPxls=6,\n",
    "                                 distThres=10,\n",
    "                                 sampling=10, kmMaxIter=100)"
   ]
  },
  {
   "cell_type": "code",
   "execution_count": null,
   "metadata": {},
   "outputs": [],
   "source": [
    "from rsgislib.segmentation import segutils\n",
    "\n",
    "inputImg = ndvi_files[0]\n",
    "outputClumps = inputImg.split('\\\\')[-1].split('.')[0]+\".kea\"\n",
    "outputClumpsBase = './OptimalTests/'+inputImg.split('\\\\')[-1].split('.')[0]+'_MinPxl'\n",
    "outputMeanImgBase = './OptimalTests/'+inputImg.split('\\\\')[-1].split('.')[0]+'_MinPxlMean'\n",
    "tmpath='./OptimalTests/tmp/'\n",
    "outStatsFile = './OptimalTests/StatsMinPxl.csv'\n",
    "\n",
    "# Will test minimum number of pixels within an object from 10 to 100 with intervals of 5.\n",
    "segutils.runShepherdSegmentationTestMinObjSize(inputImg, outputClumpsBase, outStatsFile,\n",
    "                                               outputMeanImgBase=outputMeanImgBase, \n",
    "                                               tmpath=tmpath, noStretch=True, numClusters=100, \n",
    "                                               minPxlsStart=5, minPxlsStep=5, numOfMinPxlsSteps=20, minNormV=None,\n",
    "                                               maxNormV=None, minNormMI=None, maxNormMI=None)"
   ]
  },
  {
   "cell_type": "code",
   "execution_count": null,
   "metadata": {},
   "outputs": [],
   "source": [
    "os.chdir('..')"
   ]
  },
  {
   "cell_type": "code",
   "execution_count": null,
   "metadata": {},
   "outputs": [],
   "source": [
    "os.getcwd()"
   ]
  },
  {
   "cell_type": "code",
   "execution_count": null,
   "metadata": {},
   "outputs": [],
   "source": []
  }
 ],
 "metadata": {
  "kernelspec": {
   "display_name": "Python [conda env:.conda-project_env] *",
   "language": "python",
   "name": "conda-env-.conda-project_env-py"
  },
  "language_info": {
   "codemirror_mode": {
    "name": "ipython",
    "version": 3
   },
   "file_extension": ".py",
   "mimetype": "text/x-python",
   "name": "python",
   "nbconvert_exporter": "python",
   "pygments_lexer": "ipython3",
   "version": "3.7.6"
  }
 },
 "nbformat": 4,
 "nbformat_minor": 4
}
