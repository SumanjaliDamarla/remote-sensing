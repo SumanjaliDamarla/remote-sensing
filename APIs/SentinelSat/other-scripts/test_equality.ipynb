{
 "cells": [
  {
   "cell_type": "code",
   "execution_count": 1,
   "metadata": {},
   "outputs": [],
   "source": [
    "import geoio\n",
    "import os\n",
    "from glob import glob\n",
    "import numpy  as np\n",
    "import gdal\n",
    "from tifffile import imsave"
   ]
  },
  {
   "cell_type": "code",
   "execution_count": 2,
   "metadata": {},
   "outputs": [],
   "source": [
    "def getStackedArray(file_path):\n",
    "    print(file_path.split('\\\\')[-1])\n",
    "    ds = gdal.Open(file_path)\n",
    "    nir = np.array(ds.GetRasterBand(1).ReadAsArray())\n",
    "    blue = np.array(ds.GetRasterBand(2).ReadAsArray())\n",
    "    green = np.array(ds.GetRasterBand(3).ReadAsArray())\n",
    "    red = np.array(ds.GetRasterBand(4).ReadAsArray())\n",
    "    image = np.dstack((nir, blue, green, red))\n",
    "    return image"
   ]
  },
  {
   "cell_type": "code",
   "execution_count": 3,
   "metadata": {},
   "outputs": [
    {
     "name": "stdout",
     "output_type": "stream",
     "text": [
      "tile.tif\n"
     ]
    }
   ],
   "source": [
    "new = getStackedArray(os.getcwd() + \"\\\\tile.tif\")"
   ]
  },
  {
   "cell_type": "code",
   "execution_count": 4,
   "metadata": {},
   "outputs": [
    {
     "name": "stdout",
     "output_type": "stream",
     "text": [
      "tile_old.tif\n"
     ]
    }
   ],
   "source": [
    "old = getStackedArray(os.getcwd() + \"\\\\tile_old.tif\")"
   ]
  },
  {
   "cell_type": "code",
   "execution_count": 5,
   "metadata": {},
   "outputs": [
    {
     "data": {
      "text/plain": [
       "True"
      ]
     },
     "execution_count": 5,
     "metadata": {},
     "output_type": "execute_result"
    }
   ],
   "source": [
    "np.array_equal(new, old)"
   ]
  },
  {
   "cell_type": "code",
   "execution_count": null,
   "metadata": {},
   "outputs": [],
   "source": []
  }
 ],
 "metadata": {
  "kernelspec": {
   "display_name": "Python 3",
   "language": "python",
   "name": "python3"
  },
  "language_info": {
   "codemirror_mode": {
    "name": "ipython",
    "version": 3
   },
   "file_extension": ".py",
   "mimetype": "text/x-python",
   "name": "python",
   "nbconvert_exporter": "python",
   "pygments_lexer": "ipython3",
   "version": "3.7.6"
  }
 },
 "nbformat": 4,
 "nbformat_minor": 4
}
