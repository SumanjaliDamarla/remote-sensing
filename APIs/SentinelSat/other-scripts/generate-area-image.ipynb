{
 "cells": [
  {
   "cell_type": "code",
   "execution_count": null,
   "metadata": {},
   "outputs": [],
   "source": [
    "import os"
   ]
  },
  {
   "cell_type": "code",
   "execution_count": null,
   "metadata": {},
   "outputs": [],
   "source": [
    "import sklearn.cluster"
   ]
  },
  {
   "cell_type": "code",
   "execution_count": null,
   "metadata": {},
   "outputs": [],
   "source": [
    "import gdal"
   ]
  },
  {
   "cell_type": "code",
   "execution_count": null,
   "metadata": {},
   "outputs": [],
   "source": [
    "import numpy as np"
   ]
  },
  {
   "cell_type": "code",
   "execution_count": null,
   "metadata": {},
   "outputs": [],
   "source": [
    "import cv2"
   ]
  },
  {
   "cell_type": "code",
   "execution_count": null,
   "metadata": {},
   "outputs": [],
   "source": [
    "import earthpy.spatial as es\n",
    "import earthpy.plot as ep\n",
    "import matplotlib.pyplot as plt\n",
    "import rasterio"
   ]
  },
  {
   "cell_type": "code",
   "execution_count": null,
   "metadata": {},
   "outputs": [],
   "source": [
    "from glob import glob"
   ]
  },
  {
   "cell_type": "code",
   "execution_count": null,
   "metadata": {},
   "outputs": [],
   "source": [
    "ndvi_path = os.getcwd() + \"\\\\ndvi_images\""
   ]
  },
  {
   "cell_type": "code",
   "execution_count": null,
   "metadata": {},
   "outputs": [],
   "source": [
    "print(os.path.exists(ndvi_path))"
   ]
  },
  {
   "cell_type": "code",
   "execution_count": null,
   "metadata": {},
   "outputs": [],
   "source": [
    "ndvi_images = glob(ndvi_path + \"\\\\*.tif\")"
   ]
  },
  {
   "cell_type": "code",
   "execution_count": null,
   "metadata": {
    "scrolled": true
   },
   "outputs": [],
   "source": [
    "for scene in ndvi_images:\n",
    "    print(scene)"
   ]
  },
  {
   "cell_type": "code",
   "execution_count": null,
   "metadata": {},
   "outputs": [],
   "source": [
    "def saveImage(src, savePath, arr):\n",
    "    with rasterio.Env():\n",
    "        profile = src.profile\n",
    "        profile.update(\n",
    "            dtype=rasterio.float64,\n",
    "            count=1)\n",
    "        with rasterio.open(savePath, 'w', **profile) as dst:\n",
    "            dst.write(arr.astype(rasterio.float64), 1)"
   ]
  },
  {
   "cell_type": "code",
   "execution_count": null,
   "metadata": {},
   "outputs": [],
   "source": [
    "def imMap(date, ndvi):\n",
    "    ep.plot_bands(ndvi, \n",
    "        cmap='Spectral',\n",
    "        scale=False,\n",
    "        title=date)\n",
    "    plt.show()"
   ]
  },
  {
   "cell_type": "code",
   "execution_count": null,
   "metadata": {},
   "outputs": [],
   "source": [
    "def hist(date, ndvi):\n",
    "    ep.hist(ndvi,\n",
    "            figsize=(12, 6),\n",
    "            title=[date])\n",
    "    plt.show()"
   ]
  },
  {
   "cell_type": "code",
   "execution_count": null,
   "metadata": {},
   "outputs": [],
   "source": [
    "def filterImage(ndvi_image, ndvi, lower, upper):\n",
    "    condition = (ndvi > lower)\n",
    "    ndvi_cond = np.where(condition == 0, np.nan, ndvi)\n",
    "    condition = (ndvi <= upper)\n",
    "    ndvi_cond = np.where(condition == 0, np.nan, ndvi_cond)\n",
    "    area = np.count_nonzero(ndvi_cond != np.nan)\n",
    "    print(\"Pixels with NDVI > \", lower, \" and <= \", upper, \" = \", area)\n",
    "    print(\"Land area with NDVI > \", lower, \" and <= \", upper, \" = \", area / 100, \" hectares\")\n",
    "    #saveImage(ndvi_image, savePath, ndvi_cond)\n",
    "    imMap(str(lower)+\"-\"+str(upper), ndvi_cond)\n",
    "    return ndvi_cond"
   ]
  },
  {
   "cell_type": "code",
   "execution_count": null,
   "metadata": {
    "scrolled": true
   },
   "outputs": [],
   "source": [
    "for scene in ndvi_images:\n",
    "    ndvi_image = gdal.Open(scene)\n",
    "    ndvi = np.array(ndvi_image.GetRasterBand(1).ReadAsArray())\n",
    "    imMap(scene.split('\\\\')[-1], ndvi)\n",
    "    hist(scene.split('\\\\')[-1], ndvi)\n",
    "    builtup = filterImage(rasterio.open(scene), ndvi, -1.01, -0.1)\n",
    "    water = filterImage(rasterio.open(scene), ndvi, -0.1, 0.20)\n",
    "    sparse = filterImage(rasterio.open(scene), ndvi, 0.20, 0.50)\n",
    "    dense = filterImage(rasterio.open(scene), ndvi, 0.50, 1)"
   ]
  },
  {
   "cell_type": "code",
   "execution_count": null,
   "metadata": {
    "scrolled": true
   },
   "outputs": [],
   "source": [
    "scene = ndvi_images[-1]\n",
    "ndvi_image = gdal.Open(scene)\n",
    "ndvi = np.array(ndvi_image.GetRasterBand(1).ReadAsArray())\n",
    "imMap(scene.split('\\\\')[-1], ndvi)\n",
    "hist(scene.split('\\\\')[-1], ndvi)\n",
    "ranges = [-1.01, -0.4, -0.2, -0.1, 0.3, 0.6, 1.01]\n",
    "for i in range(1, len(ranges)):\n",
    "    builtup = filterImage(rasterio.open(scene), ndvi, ranges[i-1], ranges[i])"
   ]
  },
  {
   "cell_type": "code",
   "execution_count": null,
   "metadata": {
    "scrolled": true
   },
   "outputs": [],
   "source": [
    "scene = ndvi_images[1]\n",
    "ndvi_image = gdal.Open(scene)\n",
    "ndvi = np.array(ndvi_image.GetRasterBand(1).ReadAsArray())\n",
    "imMap(scene.split('\\\\')[-1], ndvi)\n",
    "hist(scene.split('\\\\')[-1], ndvi)\n",
    "ranges = [-1.01, -0.9, -0.8, -0.7, -0.6, -0.5, -0.4, -0.3, -0.2, -0.1, 0, 0.1, 0.2, 0.3, 0.4, 0.5, 0.6, 0.7, 0.8, 0.9, 1.01]\n",
    "\n",
    "builtup = filterImage(rasterio.open(scene), ndvi, -1.01, -0.1)\n",
    "water = filterImage(rasterio.open(scene), ndvi, -0.1, 0.20)\n",
    "sparse = filterImage(rasterio.open(scene), ndvi, 0.20, 0.50)\n",
    "dense = filterImage(rasterio.open(scene), ndvi, 0.50, 1)"
   ]
  },
  {
   "cell_type": "code",
   "execution_count": null,
   "metadata": {},
   "outputs": [],
   "source": [
    "scene = ndvi_images[1]\n",
    "ndvi_image = gdal.Open(scene)\n",
    "ndvi = np.array(ndvi_image.GetRasterBand(1).ReadAsArray())"
   ]
  },
  {
   "cell_type": "code",
   "execution_count": null,
   "metadata": {},
   "outputs": [],
   "source": [
    "vectorized = ndvi.reshape((-1,3))"
   ]
  },
  {
   "cell_type": "code",
   "execution_count": null,
   "metadata": {},
   "outputs": [],
   "source": [
    "vectorized = np.float32(vectorized)"
   ]
  },
  {
   "cell_type": "code",
   "execution_count": null,
   "metadata": {},
   "outputs": [],
   "source": [
    "criteria = (cv2.TERM_CRITERIA_EPS + cv2.TERM_CRITERIA_MAX_ITER, 10, 1.0)"
   ]
  },
  {
   "cell_type": "code",
   "execution_count": null,
   "metadata": {},
   "outputs": [],
   "source": [
    "K = 3\n",
    "attempts=10\n",
    "ret,label,center=cv2.kmeans(vectorized,K,None,criteria,attempts,cv2.KMEANS_PP_CENTERS)"
   ]
  },
  {
   "cell_type": "code",
   "execution_count": null,
   "metadata": {},
   "outputs": [],
   "source": []
  }
 ],
 "metadata": {
  "kernelspec": {
   "display_name": "Python 3",
   "language": "python",
   "name": "python3"
  },
  "language_info": {
   "codemirror_mode": {
    "name": "ipython",
    "version": 3
   },
   "file_extension": ".py",
   "mimetype": "text/x-python",
   "name": "python",
   "nbconvert_exporter": "python",
   "pygments_lexer": "ipython3",
   "version": "3.7.6"
  }
 },
 "nbformat": 4,
 "nbformat_minor": 4
}
