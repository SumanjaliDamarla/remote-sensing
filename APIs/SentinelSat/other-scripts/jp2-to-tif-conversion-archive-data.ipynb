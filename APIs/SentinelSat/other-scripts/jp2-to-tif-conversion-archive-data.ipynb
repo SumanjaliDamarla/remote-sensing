{
 "cells": [
  {
   "cell_type": "code",
   "execution_count": 1,
   "metadata": {},
   "outputs": [],
   "source": [
    "import os\n",
    "from glob import glob"
   ]
  },
  {
   "cell_type": "code",
   "execution_count": 2,
   "metadata": {},
   "outputs": [],
   "source": [
    "data = os.getcwd() + \"\\\\data\""
   ]
  },
  {
   "cell_type": "code",
   "execution_count": 3,
   "metadata": {},
   "outputs": [
    {
     "data": {
      "text/plain": [
       "['C:\\\\Users\\\\Hello\\\\Documents\\\\remote-sensing\\\\APIs\\\\SentinelSat\\\\data\\\\Godavari2016_archive',\n",
       " 'C:\\\\Users\\\\Hello\\\\Documents\\\\remote-sensing\\\\APIs\\\\SentinelSat\\\\data\\\\Godavari2017_archive',\n",
       " 'C:\\\\Users\\\\Hello\\\\Documents\\\\remote-sensing\\\\APIs\\\\SentinelSat\\\\data\\\\Godavari2018_archive',\n",
       " 'C:\\\\Users\\\\Hello\\\\Documents\\\\remote-sensing\\\\APIs\\\\SentinelSat\\\\data\\\\Krishna2016_archive',\n",
       " 'C:\\\\Users\\\\Hello\\\\Documents\\\\remote-sensing\\\\APIs\\\\SentinelSat\\\\data\\\\Krishna2017_archive',\n",
       " 'C:\\\\Users\\\\Hello\\\\Documents\\\\remote-sensing\\\\APIs\\\\SentinelSat\\\\data\\\\Krishna2018_archive']"
      ]
     },
     "execution_count": 3,
     "metadata": {},
     "output_type": "execute_result"
    }
   ],
   "source": [
    "months_list = glob(data+\"\\\\*_archive\")\n",
    "months_list"
   ]
  },
  {
   "cell_type": "code",
   "execution_count": 4,
   "metadata": {
    "scrolled": false
   },
   "outputs": [
    {
     "name": "stdout",
     "output_type": "stream",
     "text": [
      "C:\\Users\\Hello\\Documents\\remote-sensing\\APIs\\SentinelSat\\data\\Godavari2016_archive\n",
      "C:\\Users\\Hello\\Documents\\remote-sensing\\APIs\\SentinelSat\\data\\Godavari2017_archive\n",
      "C:\\Users\\Hello\\Documents\\remote-sensing\\APIs\\SentinelSat\\data\\Godavari2018_archive\n",
      "Converted (1/3) S2A_MSIL1C_20180225T045751_N0206_R119_T44QND_20180225T102148...\n",
      "Converted (2/3) S2A_MSIL1C_20180225T045751_N0206_R119_T44QPD_20180225T102148...\n",
      "Converted (3/3) S2A_MSIL1C_20180225T045751_N0206_R119_T44QPE_20180225T102148...\n",
      "C:\\Users\\Hello\\Documents\\remote-sensing\\APIs\\SentinelSat\\data\\Krishna2016_archive\n",
      "C:\\Users\\Hello\\Documents\\remote-sensing\\APIs\\SentinelSat\\data\\Krishna2017_archive\n",
      "Converted (1/4) S2A_MSIL1C_20170210T045931_N0204_R119_T44PMC_20170210T050445...\n",
      "Converted (2/4) S2A_MSIL1C_20170210T045931_N0204_R119_T44PNC_20170210T050445...\n",
      "Converted (3/4) S2A_MSIL1C_20170210T045931_N0204_R119_T44QMD_20170210T050445...\n",
      "Converted (4/4) S2A_MSIL1C_20170210T045931_N0204_R119_T44QND_20170210T050445...\n",
      "C:\\Users\\Hello\\Documents\\remote-sensing\\APIs\\SentinelSat\\data\\Krishna2018_archive\n",
      "Converted (1/4) S2B_MSIL1C_20180302T045709_N0206_R119_T44PMC_20180302T074504...\n",
      "Converted (2/4) S2B_MSIL1C_20180302T045709_N0206_R119_T44PNC_20180302T074504...\n",
      "Converted (3/4) S2B_MSIL1C_20180302T045709_N0206_R119_T44QMD_20180302T074504...\n",
      "Converted (4/4) S2B_MSIL1C_20180302T045709_N0206_R119_T44QND_20180302T074504...\n"
     ]
    }
   ],
   "source": [
    "#conversion to tif\n",
    "\n",
    "for month in months_list:\n",
    "    print(month)\n",
    "    data_list = glob(month+\"\\\\*\")\n",
    "    num_scenes = len(data_list)\n",
    "    i = 0\n",
    "    for scene in data_list:\n",
    "        #path  =  scene + \"\\\\GRANULE\"\n",
    "        data_folder = glob(scene + \"\\\\*\")\n",
    "        #data_folder[0] =  data_folder[0] + \"\\\\IMG_DATA\\\\R10m\"\n",
    "        files = glob(data_folder[0] + \"\\\\*.jp2\")\n",
    "        i = i + 1\n",
    "        dst =  os.getcwd()\n",
    "        for file in files:\n",
    "            dst = file.split('\\\\')[-1].split('.')[0] + \".tif\"\n",
    "            dst = data_folder[0] +\"\\\\\"+ dst\n",
    "            if not os.path.exists(dst):\n",
    "                os.system(\"gdal_translate \"+file+\" \"+dst)\n",
    "        if os.path.exists(dst):\n",
    "            print(\"Converted (\" + str(i) + \"/\" + str(num_scenes) + \") \" + scene.split('\\\\')[-1].split('.')[0] + \"...\")\n",
    "        else:\n",
    "            print(\"Failed Converting (\" + str(i) + \"/\" + str(num_scenes) + \") \" + scene.split('\\\\')[-1].split('.')[0] + \"...\")"
   ]
  },
  {
   "cell_type": "code",
   "execution_count": 5,
   "metadata": {},
   "outputs": [
    {
     "name": "stdout",
     "output_type": "stream",
     "text": [
      "C:\\Users\\Hello\\Documents\\remote-sensing\\APIs\\SentinelSat\\data\\Godavari2016_archive\n",
      "C:\\Users\\Hello\\Documents\\remote-sensing\\APIs\\SentinelSat\\data\\Godavari2017_archive\n",
      "C:\\Users\\Hello\\Documents\\remote-sensing\\APIs\\SentinelSat\\data\\Godavari2018_archive\n",
      "Deleted images in S2A_MSIL1C_20180225T045751_N0206_R119_T44QND_20180225T102148...\n",
      "Deleted images in S2A_MSIL1C_20180225T045751_N0206_R119_T44QPD_20180225T102148...\n",
      "Deleted images in S2A_MSIL1C_20180225T045751_N0206_R119_T44QPE_20180225T102148...\n",
      "C:\\Users\\Hello\\Documents\\remote-sensing\\APIs\\SentinelSat\\data\\Krishna2016_archive\n",
      "C:\\Users\\Hello\\Documents\\remote-sensing\\APIs\\SentinelSat\\data\\Krishna2017_archive\n",
      "Deleted images in S2A_MSIL1C_20170210T045931_N0204_R119_T44PMC_20170210T050445...\n",
      "Deleted images in S2A_MSIL1C_20170210T045931_N0204_R119_T44PNC_20170210T050445...\n",
      "Deleted images in S2A_MSIL1C_20170210T045931_N0204_R119_T44QMD_20170210T050445...\n",
      "Deleted images in S2A_MSIL1C_20170210T045931_N0204_R119_T44QND_20170210T050445...\n",
      "C:\\Users\\Hello\\Documents\\remote-sensing\\APIs\\SentinelSat\\data\\Krishna2018_archive\n",
      "Deleted images in S2B_MSIL1C_20180302T045709_N0206_R119_T44PMC_20180302T074504...\n",
      "Deleted images in S2B_MSIL1C_20180302T045709_N0206_R119_T44PNC_20180302T074504...\n",
      "Deleted images in S2B_MSIL1C_20180302T045709_N0206_R119_T44QMD_20180302T074504...\n",
      "Deleted images in S2B_MSIL1C_20180302T045709_N0206_R119_T44QND_20180302T074504...\n"
     ]
    }
   ],
   "source": [
    "#cleanup of jp2 files\n",
    "\n",
    "for month in months_list:\n",
    "    print(month)\n",
    "    data_list = glob(month+\"\\\\*\")\n",
    "    for scene in data_list:\n",
    "        #path  =  scene + \"\\\\GRANULE\"\n",
    "        data_folder = glob(scene + \"\\\\*\")\n",
    "        #data_folder[0] =  data_folder[0] + \"\\\\IMG_DATA\\\\R10m\"\n",
    "        files = glob(data_folder[0] + \"\\\\*.jp2\")\n",
    "        for file in files:\n",
    "            os.remove(file)\n",
    "        print(\"Deleted images in \" + scene.split('\\\\')[-1].split('.')[0] + \"...\")"
   ]
  },
  {
   "cell_type": "code",
   "execution_count": null,
   "metadata": {},
   "outputs": [],
   "source": []
  }
 ],
 "metadata": {
  "kernelspec": {
   "display_name": "Python 3",
   "language": "python",
   "name": "python3"
  },
  "language_info": {
   "codemirror_mode": {
    "name": "ipython",
    "version": 3
   },
   "file_extension": ".py",
   "mimetype": "text/x-python",
   "name": "python",
   "nbconvert_exporter": "python",
   "pygments_lexer": "ipython3",
   "version": "3.7.6"
  }
 },
 "nbformat": 4,
 "nbformat_minor": 4
}
