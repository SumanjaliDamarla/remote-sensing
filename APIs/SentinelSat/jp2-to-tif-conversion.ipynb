{
 "cells": [
  {
   "cell_type": "code",
   "execution_count": 1,
   "metadata": {},
   "outputs": [],
   "source": [
    "import os\n",
    "from glob import glob"
   ]
  },
  {
   "cell_type": "code",
   "execution_count": 2,
   "metadata": {},
   "outputs": [],
   "source": [
    "data = os.getcwd() + \"\\\\data\""
   ]
  },
  {
   "cell_type": "code",
   "execution_count": 3,
   "metadata": {},
   "outputs": [],
   "source": [
    "months_list = glob(data+\"\\\\*_data\")\n",
    "months_list"
   ]
  },
  {
   "cell_type": "code",
   "execution_count": 4,
   "metadata": {
    "scrolled": false
   },
   "outputs": [
    {
     "name": "stdout",
     "output_type": "stream",
     "text": [
      "Converted (2/4) S2B_MSIL2A_20190215T045909_N0211_R119_T44QPD_20190215T090059...\n",
      "Converted (3/4) S2B_MSIL2A_20190215T045909_N0211_R119_T44QPE_20190215T084740...\n",
      "Converted (4/4) S2B_MSIL2A_20190215T045909_N0211_R119_T44QPE_20190215T090059...\n",
      "C:\\Users\\Hello\\Documents\\remote-sensing\\APIs\\SentinelSat\\data\\Godavari2020_data\n",
      "Converted (1/3) S2A_MSIL2A_20200215T045901_N0214_R119_T44QND_20200215T091948...\n",
      "Converted (2/3) S2A_MSIL2A_20200215T045901_N0214_R119_T44QPD_20200215T091948...\n",
      "Converted (3/3) S2A_MSIL2A_20200215T045901_N0214_R119_T44QPE_20200215T091948...\n",
      "C:\\Users\\Hello\\Documents\\remote-sensing\\APIs\\SentinelSat\\data\\Krishna2019_data\n",
      "Converted (1/8) S2A_MSIL2A_20190210T045941_N0211_R119_T44PMC_20190210T090457...\n",
      "Converted (2/8) S2A_MSIL2A_20190210T045941_N0211_R119_T44PNC_20190210T090457...\n",
      "Converted (3/8) S2A_MSIL2A_20190210T045941_N0211_R119_T44QMD_20190210T090457...\n",
      "Converted (4/8) S2A_MSIL2A_20190210T045941_N0211_R119_T44QND_20190210T090457...\n",
      "Converted (5/8) S2B_MSIL2A_20190215T045909_N0211_R119_T44PMC_20190215T090059...\n",
      "Converted (6/8) S2B_MSIL2A_20190215T045909_N0211_R119_T44PNC_20190215T090059...\n",
      "Converted (7/8) S2B_MSIL2A_20190215T045909_N0211_R119_T44QMD_20190215T090059...\n",
      "Converted (8/8) S2B_MSIL2A_20190215T045909_N0211_R119_T44QND_20190215T090059...\n",
      "C:\\Users\\Hello\\Documents\\remote-sensing\\APIs\\SentinelSat\\data\\Krishna2020_data\n",
      "Converted (1/4) S2A_MSIL2A_20200215T045901_N0214_R119_T44PMC_20200215T091948...\n",
      "Converted (2/4) S2A_MSIL2A_20200215T045901_N0214_R119_T44PNC_20200215T091948...\n",
      "Converted (3/4) S2A_MSIL2A_20200215T045901_N0214_R119_T44QMD_20200215T091948...\n",
      "Converted (4/4) S2A_MSIL2A_20200215T045901_N0214_R119_T44QND_20200215T091948...\n"
     ]
    }
   ],
   "source": [
    "#conversion to tif\n",
    "\n",
    "for month in months_list:\n",
    "    print(month)\n",
    "    data_list = glob(month+\"\\\\*\")\n",
    "    num_scenes = len(data_list)\n",
    "    i = 0\n",
    "    for scene in data_list:\n",
    "        path  =  scene + \"\\\\GRANULE\"\n",
    "        data_folder = glob(path + \"\\\\*\")\n",
    "        data_folder[0] =  data_folder[0] + \"\\\\IMG_DATA\\\\R10m\"\n",
    "        files = glob(data_folder[0] + \"\\\\*.jp2\")\n",
    "        i = i + 1\n",
    "        dst =  os.getcwd()\n",
    "        for file in files:\n",
    "            dst = file.split('\\\\')[-1].split('.')[0] + \".tif\"\n",
    "            dst = data_folder[0] +\"\\\\\"+ dst\n",
    "            if not os.path.exists(dst):\n",
    "                os.system(\"gdal_translate \"+file+\" \"+dst)\n",
    "        if os.path.exists(dst):\n",
    "            print(\"Converted (\" + str(i) + \"/\" + str(num_scenes) + \") \" + scene.split('\\\\')[-1].split('.')[0] + \"...\")\n",
    "        else:\n",
    "            print(\"Failed Converting (\" + str(i) + \"/\" + str(num_scenes) + \") \" + scene.split('\\\\')[-1].split('.')[0] + \"...\")"
   ]
  },
  {
   "cell_type": "code",
   "execution_count": 6,
   "metadata": {},
   "outputs": [
    {
     "name": "stdout",
     "output_type": "stream",
     "text": [
      "C:\\Users\\Hello\\Documents\\remote-sensing\\APIs\\SentinelSat\\data\\Godavari2019_data\n",
      "Deleted images in S2B_MSIL2A_20190215T045909_N0211_R119_T44QND_20190215T090059...\n",
      "Deleted images in S2B_MSIL2A_20190215T045909_N0211_R119_T44QPD_20190215T090059...\n",
      "Deleted images in S2B_MSIL2A_20190215T045909_N0211_R119_T44QPE_20190215T084740...\n",
      "Deleted images in S2B_MSIL2A_20190215T045909_N0211_R119_T44QPE_20190215T090059...\n",
      "C:\\Users\\Hello\\Documents\\remote-sensing\\APIs\\SentinelSat\\data\\Godavari2020_data\n",
      "Deleted images in S2A_MSIL2A_20200215T045901_N0214_R119_T44QND_20200215T091948...\n",
      "Deleted images in S2A_MSIL2A_20200215T045901_N0214_R119_T44QPD_20200215T091948...\n",
      "Deleted images in S2A_MSIL2A_20200215T045901_N0214_R119_T44QPE_20200215T091948...\n",
      "C:\\Users\\Hello\\Documents\\remote-sensing\\APIs\\SentinelSat\\data\\Krishna2019_data\n",
      "Deleted images in S2A_MSIL2A_20190210T045941_N0211_R119_T44PMC_20190210T090457...\n",
      "Deleted images in S2A_MSIL2A_20190210T045941_N0211_R119_T44PNC_20190210T090457...\n",
      "Deleted images in S2A_MSIL2A_20190210T045941_N0211_R119_T44QMD_20190210T090457...\n",
      "Deleted images in S2A_MSIL2A_20190210T045941_N0211_R119_T44QND_20190210T090457...\n",
      "Deleted images in S2B_MSIL2A_20190215T045909_N0211_R119_T44PMC_20190215T090059...\n",
      "Deleted images in S2B_MSIL2A_20190215T045909_N0211_R119_T44PNC_20190215T090059...\n",
      "Deleted images in S2B_MSIL2A_20190215T045909_N0211_R119_T44QMD_20190215T090059...\n",
      "Deleted images in S2B_MSIL2A_20190215T045909_N0211_R119_T44QND_20190215T090059...\n",
      "C:\\Users\\Hello\\Documents\\remote-sensing\\APIs\\SentinelSat\\data\\Krishna2020_data\n",
      "Deleted images in S2A_MSIL2A_20200215T045901_N0214_R119_T44PMC_20200215T091948...\n",
      "Deleted images in S2A_MSIL2A_20200215T045901_N0214_R119_T44PNC_20200215T091948...\n",
      "Deleted images in S2A_MSIL2A_20200215T045901_N0214_R119_T44QMD_20200215T091948...\n",
      "Deleted images in S2A_MSIL2A_20200215T045901_N0214_R119_T44QND_20200215T091948...\n"
     ]
    }
   ],
   "source": [
    "#cleanup of jp2 files\n",
    "\n",
    "for month in months_list:\n",
    "    print(month)\n",
    "    data_list = glob(month+\"\\\\*\")\n",
    "    for scene in data_list:\n",
    "        path  =  scene + \"\\\\GRANULE\"\n",
    "        data_folder = glob(path + \"\\\\*\")\n",
    "        data_folder[0] =  data_folder[0] + \"\\\\IMG_DATA\\\\R10m\"\n",
    "        files = glob(data_folder[0] + \"\\\\*.jp2\")\n",
    "        for file in files:\n",
    "            os.remove(file)\n",
    "        print(\"Deleted images in \" + scene.split('\\\\')[-1].split('.')[0] + \"...\")"
   ]
  },
  {
   "cell_type": "code",
   "execution_count": null,
   "metadata": {},
   "outputs": [],
   "source": []
  }
 ],
 "metadata": {
  "kernelspec": {
   "display_name": "Python 3",
   "language": "python",
   "name": "python3"
  },
  "language_info": {
   "codemirror_mode": {
    "name": "ipython",
    "version": 3
   },
   "file_extension": ".py",
   "mimetype": "text/x-python",
   "name": "python",
   "nbconvert_exporter": "python",
   "pygments_lexer": "ipython3",
   "version": "3.7.6"
  }
 },
 "nbformat": 4,
 "nbformat_minor": 4
}
