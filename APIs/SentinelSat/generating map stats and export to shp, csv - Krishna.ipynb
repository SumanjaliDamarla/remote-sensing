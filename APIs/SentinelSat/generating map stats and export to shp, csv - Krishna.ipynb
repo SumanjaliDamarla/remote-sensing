{
 "cells": [
  {
   "cell_type": "code",
   "execution_count": 1,
   "metadata": {},
   "outputs": [],
   "source": [
    "import geopandas\n",
    "from rasterstats import zonal_stats"
   ]
  },
  {
   "cell_type": "code",
   "execution_count": 2,
   "metadata": {},
   "outputs": [],
   "source": [
    "import os"
   ]
  },
  {
   "cell_type": "code",
   "execution_count": 3,
   "metadata": {},
   "outputs": [],
   "source": [
    "import csv"
   ]
  },
  {
   "cell_type": "code",
   "execution_count": 4,
   "metadata": {},
   "outputs": [],
   "source": [
    "import pandas as pd\n",
    "import numpy as np"
   ]
  },
  {
   "cell_type": "code",
   "execution_count": 5,
   "metadata": {},
   "outputs": [],
   "source": [
    "from glob import glob"
   ]
  },
  {
   "cell_type": "code",
   "execution_count": 6,
   "metadata": {},
   "outputs": [],
   "source": [
    "import matplotlib.pyplot as plt"
   ]
  },
  {
   "cell_type": "code",
   "execution_count": 7,
   "metadata": {},
   "outputs": [],
   "source": [
    "import rasterio"
   ]
  },
  {
   "cell_type": "code",
   "execution_count": 8,
   "metadata": {},
   "outputs": [],
   "source": [
    "from __future__ import division"
   ]
  },
  {
   "cell_type": "code",
   "execution_count": 9,
   "metadata": {},
   "outputs": [],
   "source": [
    "cwd = os.getcwd()"
   ]
  },
  {
   "cell_type": "code",
   "execution_count": 10,
   "metadata": {},
   "outputs": [],
   "source": [
    "def calculateArea(clusters):\n",
    "    dense = np.count_nonzero(clusters == -1)\n",
    "    sparse = np.count_nonzero(clusters == 1)\n",
    "    return [sparse/100, dense/100]"
   ]
  },
  {
   "cell_type": "code",
   "execution_count": 11,
   "metadata": {},
   "outputs": [],
   "source": [
    "KrishnaFile = cwd + \"\\\\KrishnaMapShape\\\\KrishnaMapShape.shp\"\n",
    "KrishnaShape = geopandas.read_file(KrishnaFile)"
   ]
  },
  {
   "cell_type": "code",
   "execution_count": 12,
   "metadata": {},
   "outputs": [],
   "source": [
    "ndviFolder = cwd + \"\\\\working_ndvi\\\\Krishna\"\n",
    "clusterFolder = cwd + \"\\\\working_clusters\\\\Krishna\"\n",
    "ndvi = glob(ndviFolder + \"\\\\*.tif\")\n",
    "clusters = glob(clusterFolder + \"\\\\*.tif\")"
   ]
  },
  {
   "cell_type": "code",
   "execution_count": 13,
   "metadata": {
    "scrolled": true
   },
   "outputs": [],
   "source": [
    "raster = rasterio.open(ndvi[0])\n",
    "proj = raster.crs.to_proj4()\n",
    "KrishnaShape = KrishnaShape.to_crs(proj)\n",
    "KrishnaShape = KrishnaShape.dissolve(by=list(KrishnaShape)[6])"
   ]
  },
  {
   "cell_type": "code",
   "execution_count": 14,
   "metadata": {},
   "outputs": [
    {
     "data": {
      "text/html": [
       "<div>\n",
       "<style scoped>\n",
       "    .dataframe tbody tr th:only-of-type {\n",
       "        vertical-align: middle;\n",
       "    }\n",
       "\n",
       "    .dataframe tbody tr th {\n",
       "        vertical-align: top;\n",
       "    }\n",
       "\n",
       "    .dataframe thead th {\n",
       "        text-align: right;\n",
       "    }\n",
       "</style>\n",
       "<table border=\"1\" class=\"dataframe\">\n",
       "  <thead>\n",
       "    <tr style=\"text-align: right;\">\n",
       "      <th></th>\n",
       "      <th>geometry</th>\n",
       "      <th>OBJECTID</th>\n",
       "      <th>ST_CODE</th>\n",
       "      <th>ST_NAME</th>\n",
       "      <th>DT_CODE</th>\n",
       "      <th>DIST_NAME</th>\n",
       "      <th>AC_NO</th>\n",
       "      <th>PC_NO</th>\n",
       "      <th>PC_NAME</th>\n",
       "      <th>PC_ID</th>\n",
       "      <th>STATUS</th>\n",
       "      <th>Shape_Leng</th>\n",
       "      <th>Shape_Area</th>\n",
       "    </tr>\n",
       "    <tr>\n",
       "      <th>AC_NAME</th>\n",
       "      <th></th>\n",
       "      <th></th>\n",
       "      <th></th>\n",
       "      <th></th>\n",
       "      <th></th>\n",
       "      <th></th>\n",
       "      <th></th>\n",
       "      <th></th>\n",
       "      <th></th>\n",
       "      <th></th>\n",
       "      <th></th>\n",
       "      <th></th>\n",
       "      <th></th>\n",
       "    </tr>\n",
       "  </thead>\n",
       "  <tbody>\n",
       "    <tr>\n",
       "      <th>Avanigadda</th>\n",
       "      <td>MULTIPOLYGON (((492361.163 1737391.487, 492353...</td>\n",
       "      <td>28</td>\n",
       "      <td>28</td>\n",
       "      <td>ANDHRA PRADESH</td>\n",
       "      <td>16.0</td>\n",
       "      <td>KRISHNA</td>\n",
       "      <td>195</td>\n",
       "      <td>28</td>\n",
       "      <td>MACHILIPATNAM</td>\n",
       "      <td>2828</td>\n",
       "      <td>None</td>\n",
       "      <td>1.996367</td>\n",
       "      <td>0.082869</td>\n",
       "    </tr>\n",
       "    <tr>\n",
       "      <th>Bapatla</th>\n",
       "      <td>POLYGON ((456685.983 1773689.344, 457951.513 1...</td>\n",
       "      <td>32</td>\n",
       "      <td>28</td>\n",
       "      <td>ANDHRA PRADESH</td>\n",
       "      <td>17.0</td>\n",
       "      <td>GUNTUR</td>\n",
       "      <td>211</td>\n",
       "      <td>32</td>\n",
       "      <td>BAPATLA (SC)</td>\n",
       "      <td>2832</td>\n",
       "      <td>None</td>\n",
       "      <td>1.138470</td>\n",
       "      <td>0.036703</td>\n",
       "    </tr>\n",
       "    <tr>\n",
       "      <th>Denduluru</th>\n",
       "      <td>POLYGON ((519833.252 1865491.485, 522155.284 1...</td>\n",
       "      <td>27</td>\n",
       "      <td>28</td>\n",
       "      <td>ANDHRA PRADESH</td>\n",
       "      <td>15.0</td>\n",
       "      <td>WEST GODAVARI</td>\n",
       "      <td>183</td>\n",
       "      <td>27</td>\n",
       "      <td>ELURU</td>\n",
       "      <td>2827</td>\n",
       "      <td>None</td>\n",
       "      <td>1.658386</td>\n",
       "      <td>0.048820</td>\n",
       "    </tr>\n",
       "    <tr>\n",
       "      <th>Eluru</th>\n",
       "      <td>POLYGON ((510738.234 1850351.971, 512271.122 1...</td>\n",
       "      <td>27</td>\n",
       "      <td>28</td>\n",
       "      <td>ANDHRA PRADESH</td>\n",
       "      <td>15.0</td>\n",
       "      <td>WEST GODAVARI</td>\n",
       "      <td>184</td>\n",
       "      <td>27</td>\n",
       "      <td>ELURU</td>\n",
       "      <td>2827</td>\n",
       "      <td>None</td>\n",
       "      <td>0.948459</td>\n",
       "      <td>0.020681</td>\n",
       "    </tr>\n",
       "    <tr>\n",
       "      <th>Gannavaram</th>\n",
       "      <td>POLYGON ((466611.952 1845166.736, 467129.769 1...</td>\n",
       "      <td>28</td>\n",
       "      <td>28</td>\n",
       "      <td>ANDHRA PRADESH</td>\n",
       "      <td>16.0</td>\n",
       "      <td>KRISHNA</td>\n",
       "      <td>190</td>\n",
       "      <td>28</td>\n",
       "      <td>MACHILIPATNAM</td>\n",
       "      <td>2828</td>\n",
       "      <td>None</td>\n",
       "      <td>1.692581</td>\n",
       "      <td>0.054642</td>\n",
       "    </tr>\n",
       "    <tr>\n",
       "      <th>Gudivada</th>\n",
       "      <td>POLYGON ((502394.045 1830550.399, 502960.803 1...</td>\n",
       "      <td>28</td>\n",
       "      <td>28</td>\n",
       "      <td>ANDHRA PRADESH</td>\n",
       "      <td>16.0</td>\n",
       "      <td>KRISHNA</td>\n",
       "      <td>191</td>\n",
       "      <td>28</td>\n",
       "      <td>MACHILIPATNAM</td>\n",
       "      <td>2828</td>\n",
       "      <td>None</td>\n",
       "      <td>1.076767</td>\n",
       "      <td>0.031130</td>\n",
       "    </tr>\n",
       "    <tr>\n",
       "      <th>Kaikalur</th>\n",
       "      <td>POLYGON ((535222.530 1844807.882, 535364.016 1...</td>\n",
       "      <td>27</td>\n",
       "      <td>28</td>\n",
       "      <td>ANDHRA PRADESH</td>\n",
       "      <td>16.0</td>\n",
       "      <td>KRISHNA</td>\n",
       "      <td>192</td>\n",
       "      <td>27</td>\n",
       "      <td>ELURU</td>\n",
       "      <td>2827</td>\n",
       "      <td>None</td>\n",
       "      <td>1.574517</td>\n",
       "      <td>0.055500</td>\n",
       "    </tr>\n",
       "    <tr>\n",
       "      <th>Machilipatnam</th>\n",
       "      <td>POLYGON ((526941.160 1802556.980, 527782.935 1...</td>\n",
       "      <td>28</td>\n",
       "      <td>28</td>\n",
       "      <td>ANDHRA PRADESH</td>\n",
       "      <td>16.0</td>\n",
       "      <td>KRISHNA</td>\n",
       "      <td>194</td>\n",
       "      <td>28</td>\n",
       "      <td>MACHILIPATNAM</td>\n",
       "      <td>2828</td>\n",
       "      <td>None</td>\n",
       "      <td>1.121675</td>\n",
       "      <td>0.034853</td>\n",
       "    </tr>\n",
       "    <tr>\n",
       "      <th>Mangalagiri</th>\n",
       "      <td>POLYGON ((452517.925 1828101.705, 456361.891 1...</td>\n",
       "      <td>30</td>\n",
       "      <td>28</td>\n",
       "      <td>ANDHRA PRADESH</td>\n",
       "      <td>17.0</td>\n",
       "      <td>GUNTUR</td>\n",
       "      <td>206</td>\n",
       "      <td>30</td>\n",
       "      <td>GUNTUR</td>\n",
       "      <td>2830</td>\n",
       "      <td>None</td>\n",
       "      <td>0.866063</td>\n",
       "      <td>0.031694</td>\n",
       "    </tr>\n",
       "    <tr>\n",
       "      <th>Pamarru (SC)</th>\n",
       "      <td>POLYGON ((497209.824 1828455.737, 496520.157 1...</td>\n",
       "      <td>28</td>\n",
       "      <td>28</td>\n",
       "      <td>ANDHRA PRADESH</td>\n",
       "      <td>16.0</td>\n",
       "      <td>KRISHNA</td>\n",
       "      <td>196</td>\n",
       "      <td>28</td>\n",
       "      <td>MACHILIPATNAM</td>\n",
       "      <td>2828</td>\n",
       "      <td>None</td>\n",
       "      <td>1.416683</td>\n",
       "      <td>0.051170</td>\n",
       "    </tr>\n",
       "    <tr>\n",
       "      <th>Pedana</th>\n",
       "      <td>POLYGON ((542648.688 1816723.538, 544172.244 1...</td>\n",
       "      <td>28</td>\n",
       "      <td>28</td>\n",
       "      <td>ANDHRA PRADESH</td>\n",
       "      <td>16.0</td>\n",
       "      <td>KRISHNA</td>\n",
       "      <td>193</td>\n",
       "      <td>28</td>\n",
       "      <td>MACHILIPATNAM</td>\n",
       "      <td>2828</td>\n",
       "      <td>None</td>\n",
       "      <td>1.759801</td>\n",
       "      <td>0.053764</td>\n",
       "    </tr>\n",
       "    <tr>\n",
       "      <th>Penamaluru</th>\n",
       "      <td>POLYGON ((466448.135 1829259.446, 467174.203 1...</td>\n",
       "      <td>28</td>\n",
       "      <td>28</td>\n",
       "      <td>ANDHRA PRADESH</td>\n",
       "      <td>16.0</td>\n",
       "      <td>KRISHNA</td>\n",
       "      <td>197</td>\n",
       "      <td>28</td>\n",
       "      <td>MACHILIPATNAM</td>\n",
       "      <td>2828</td>\n",
       "      <td>None</td>\n",
       "      <td>1.006080</td>\n",
       "      <td>0.026237</td>\n",
       "    </tr>\n",
       "    <tr>\n",
       "      <th>Ponnur</th>\n",
       "      <td>POLYGON ((444467.068 1810727.470, 448380.870 1...</td>\n",
       "      <td>30</td>\n",
       "      <td>28</td>\n",
       "      <td>ANDHRA PRADESH</td>\n",
       "      <td>17.0</td>\n",
       "      <td>GUNTUR</td>\n",
       "      <td>207</td>\n",
       "      <td>30</td>\n",
       "      <td>GUNTUR</td>\n",
       "      <td>2830</td>\n",
       "      <td>None</td>\n",
       "      <td>1.218857</td>\n",
       "      <td>0.036212</td>\n",
       "    </tr>\n",
       "    <tr>\n",
       "      <th>Prathipadu (SC)</th>\n",
       "      <td>POLYGON ((430614.127 1800087.428, 431604.520 1...</td>\n",
       "      <td>30</td>\n",
       "      <td>28</td>\n",
       "      <td>ANDHRA PRADESH</td>\n",
       "      <td>17.0</td>\n",
       "      <td>GUNTUR</td>\n",
       "      <td>212</td>\n",
       "      <td>30</td>\n",
       "      <td>GUNTUR</td>\n",
       "      <td>2830</td>\n",
       "      <td>None</td>\n",
       "      <td>1.172143</td>\n",
       "      <td>0.049289</td>\n",
       "    </tr>\n",
       "    <tr>\n",
       "      <th>Repalle</th>\n",
       "      <td>MULTIPOLYGON (((477610.330 1749936.396, 477473...</td>\n",
       "      <td>32</td>\n",
       "      <td>28</td>\n",
       "      <td>ANDHRA PRADESH</td>\n",
       "      <td>17.0</td>\n",
       "      <td>GUNTUR</td>\n",
       "      <td>209</td>\n",
       "      <td>32</td>\n",
       "      <td>BAPATLA (SC)</td>\n",
       "      <td>2832</td>\n",
       "      <td>None</td>\n",
       "      <td>1.804626</td>\n",
       "      <td>0.057338</td>\n",
       "    </tr>\n",
       "    <tr>\n",
       "      <th>Tenali</th>\n",
       "      <td>POLYGON ((470802.108 1810860.908, 473129.714 1...</td>\n",
       "      <td>30</td>\n",
       "      <td>28</td>\n",
       "      <td>ANDHRA PRADESH</td>\n",
       "      <td>17.0</td>\n",
       "      <td>GUNTUR</td>\n",
       "      <td>210</td>\n",
       "      <td>30</td>\n",
       "      <td>GUNTUR</td>\n",
       "      <td>2830</td>\n",
       "      <td>None</td>\n",
       "      <td>0.896116</td>\n",
       "      <td>0.022034</td>\n",
       "    </tr>\n",
       "    <tr>\n",
       "      <th>Vemuru (SC)</th>\n",
       "      <td>POLYGON ((478914.882 1795785.495, 480479.841 1...</td>\n",
       "      <td>32</td>\n",
       "      <td>28</td>\n",
       "      <td>ANDHRA PRADESH</td>\n",
       "      <td>17.0</td>\n",
       "      <td>GUNTUR</td>\n",
       "      <td>208</td>\n",
       "      <td>32</td>\n",
       "      <td>BAPATLA (SC)</td>\n",
       "      <td>2832</td>\n",
       "      <td>None</td>\n",
       "      <td>1.185723</td>\n",
       "      <td>0.044086</td>\n",
       "    </tr>\n",
       "  </tbody>\n",
       "</table>\n",
       "</div>"
      ],
      "text/plain": [
       "                                                          geometry  OBJECTID  \\\n",
       "AC_NAME                                                                        \n",
       "Avanigadda       MULTIPOLYGON (((492361.163 1737391.487, 492353...        28   \n",
       "Bapatla          POLYGON ((456685.983 1773689.344, 457951.513 1...        32   \n",
       "Denduluru        POLYGON ((519833.252 1865491.485, 522155.284 1...        27   \n",
       "Eluru            POLYGON ((510738.234 1850351.971, 512271.122 1...        27   \n",
       "Gannavaram       POLYGON ((466611.952 1845166.736, 467129.769 1...        28   \n",
       "Gudivada         POLYGON ((502394.045 1830550.399, 502960.803 1...        28   \n",
       "Kaikalur         POLYGON ((535222.530 1844807.882, 535364.016 1...        27   \n",
       "Machilipatnam    POLYGON ((526941.160 1802556.980, 527782.935 1...        28   \n",
       "Mangalagiri      POLYGON ((452517.925 1828101.705, 456361.891 1...        30   \n",
       "Pamarru (SC)     POLYGON ((497209.824 1828455.737, 496520.157 1...        28   \n",
       "Pedana           POLYGON ((542648.688 1816723.538, 544172.244 1...        28   \n",
       "Penamaluru       POLYGON ((466448.135 1829259.446, 467174.203 1...        28   \n",
       "Ponnur           POLYGON ((444467.068 1810727.470, 448380.870 1...        30   \n",
       "Prathipadu (SC)  POLYGON ((430614.127 1800087.428, 431604.520 1...        30   \n",
       "Repalle          MULTIPOLYGON (((477610.330 1749936.396, 477473...        32   \n",
       "Tenali           POLYGON ((470802.108 1810860.908, 473129.714 1...        30   \n",
       "Vemuru (SC)      POLYGON ((478914.882 1795785.495, 480479.841 1...        32   \n",
       "\n",
       "                 ST_CODE         ST_NAME  DT_CODE      DIST_NAME  AC_NO  \\\n",
       "AC_NAME                                                                   \n",
       "Avanigadda            28  ANDHRA PRADESH     16.0        KRISHNA    195   \n",
       "Bapatla               28  ANDHRA PRADESH     17.0         GUNTUR    211   \n",
       "Denduluru             28  ANDHRA PRADESH     15.0  WEST GODAVARI    183   \n",
       "Eluru                 28  ANDHRA PRADESH     15.0  WEST GODAVARI    184   \n",
       "Gannavaram            28  ANDHRA PRADESH     16.0        KRISHNA    190   \n",
       "Gudivada              28  ANDHRA PRADESH     16.0        KRISHNA    191   \n",
       "Kaikalur              28  ANDHRA PRADESH     16.0        KRISHNA    192   \n",
       "Machilipatnam         28  ANDHRA PRADESH     16.0        KRISHNA    194   \n",
       "Mangalagiri           28  ANDHRA PRADESH     17.0         GUNTUR    206   \n",
       "Pamarru (SC)          28  ANDHRA PRADESH     16.0        KRISHNA    196   \n",
       "Pedana                28  ANDHRA PRADESH     16.0        KRISHNA    193   \n",
       "Penamaluru            28  ANDHRA PRADESH     16.0        KRISHNA    197   \n",
       "Ponnur                28  ANDHRA PRADESH     17.0         GUNTUR    207   \n",
       "Prathipadu (SC)       28  ANDHRA PRADESH     17.0         GUNTUR    212   \n",
       "Repalle               28  ANDHRA PRADESH     17.0         GUNTUR    209   \n",
       "Tenali                28  ANDHRA PRADESH     17.0         GUNTUR    210   \n",
       "Vemuru (SC)           28  ANDHRA PRADESH     17.0         GUNTUR    208   \n",
       "\n",
       "                 PC_NO        PC_NAME  PC_ID STATUS  Shape_Leng  Shape_Area  \n",
       "AC_NAME                                                                      \n",
       "Avanigadda          28  MACHILIPATNAM   2828   None    1.996367    0.082869  \n",
       "Bapatla             32   BAPATLA (SC)   2832   None    1.138470    0.036703  \n",
       "Denduluru           27          ELURU   2827   None    1.658386    0.048820  \n",
       "Eluru               27          ELURU   2827   None    0.948459    0.020681  \n",
       "Gannavaram          28  MACHILIPATNAM   2828   None    1.692581    0.054642  \n",
       "Gudivada            28  MACHILIPATNAM   2828   None    1.076767    0.031130  \n",
       "Kaikalur            27          ELURU   2827   None    1.574517    0.055500  \n",
       "Machilipatnam       28  MACHILIPATNAM   2828   None    1.121675    0.034853  \n",
       "Mangalagiri         30         GUNTUR   2830   None    0.866063    0.031694  \n",
       "Pamarru (SC)        28  MACHILIPATNAM   2828   None    1.416683    0.051170  \n",
       "Pedana              28  MACHILIPATNAM   2828   None    1.759801    0.053764  \n",
       "Penamaluru          28  MACHILIPATNAM   2828   None    1.006080    0.026237  \n",
       "Ponnur              30         GUNTUR   2830   None    1.218857    0.036212  \n",
       "Prathipadu (SC)     30         GUNTUR   2830   None    1.172143    0.049289  \n",
       "Repalle             32   BAPATLA (SC)   2832   None    1.804626    0.057338  \n",
       "Tenali              30         GUNTUR   2830   None    0.896116    0.022034  \n",
       "Vemuru (SC)         32   BAPATLA (SC)   2832   None    1.185723    0.044086  "
      ]
     },
     "execution_count": 14,
     "metadata": {},
     "output_type": "execute_result"
    }
   ],
   "source": [
    "KrishnaShape"
   ]
  },
  {
   "cell_type": "code",
   "execution_count": 15,
   "metadata": {
    "scrolled": false
   },
   "outputs": [
    {
     "name": "stdout",
     "output_type": "stream",
     "text": [
      "Krishna20170210\n",
      "[{'count': 5919129, 'sparse_dense': [24056.4, 35106.42]}, {'count': 2963245, 'sparse_dense': [18010.37, 11622.08]}, {'count': 4270937, 'sparse_dense': [4639.98, 309.55]}, {'count': 919405, 'sparse_dense': [6078.94, 619.41]}, {'count': 1843679, 'sparse_dense': [9450.4, 8986.39]}, {'count': 2302353, 'sparse_dense': [6931.29, 16092.24]}, {'count': 2020005, 'sparse_dense': [14923.33, 5276.72]}, {'count': 1997293, 'sparse_dense': [11778.45, 8194.48]}, {'count': 1194925, 'sparse_dense': [4486.94, 7462.31]}, {'count': 4987699, 'sparse_dense': [16707.15, 33169.84]}, {'count': 3884922, 'sparse_dense': [15805.7, 21397.58]}, {'count': 2037768, 'sparse_dense': [13863.75, 6513.93]}, {'count': 2315324, 'sparse_dense': [8383.07, 14770.17]}, {'count': 2410026, 'sparse_dense': [7918.41, 3315.08]}, {'count': 5012319, 'sparse_dense': [22660.4, 27442.95]}, {'count': 1954109, 'sparse_dense': [5858.8, 13682.29]}, {'count': 4769728, 'sparse_dense': [11296.54, 36400.74]}]\n",
      "Krishna20180302\n",
      "[{'count': 5451581, 'sparse_dense': [28680.32, 25807.02]}, {'count': 3036981, 'sparse_dense': [21702.91, 8666.9]}, {'count': 4024266, 'sparse_dense': [2419.72, 63.1]}, {'count': 885557, 'sparse_dense': [4747.8, 1612.07]}, {'count': 1522974, 'sparse_dense': [13628.98, 1600.76]}, {'count': 2025576, 'sparse_dense': [17607.41, 2648.35]}, {'count': 1582894, 'sparse_dense': [14911.74, 917.2]}, {'count': 1586691, 'sparse_dense': [11606.09, 4260.82]}, {'count': 1143703, 'sparse_dense': [2386.33, 9050.7]}, {'count': 4175932, 'sparse_dense': [35974.78, 5784.54]}, {'count': 3205326, 'sparse_dense': [26798.23, 3609.09]}, {'count': 2140758, 'sparse_dense': [12755.72, 8651.86]}, {'count': 2340082, 'sparse_dense': [6806.96, 16593.86]}, {'count': 2647748, 'sparse_dense': [8044.05, 5566.66]}, {'count': 4657817, 'sparse_dense': [28518.77, 18039.56]}, {'count': 1904792, 'sparse_dense': [3349.51, 15698.41]}, {'count': 4667905, 'sparse_dense': [14597.8, 32081.25]}]\n",
      "Krishna20190210\n",
      "[{'count': 5945961, 'sparse_dense': [23621.01, 35810.13]}, {'count': 3469926, 'sparse_dense': [20228.85, 14470.41]}, {'count': 4530170, 'sparse_dense': [2511.39, 5030.47]}, {'count': 1133616, 'sparse_dense': [5015.91, 3824.55]}, {'count': 1970520, 'sparse_dense': [2380.36, 17324.84]}, {'count': 2448305, 'sparse_dense': [5145.63, 19337.42]}, {'count': 2947763, 'sparse_dense': [16709.97, 12767.66]}, {'count': 2101760, 'sparse_dense': [11643.9, 9373.7]}, {'count': 1152731, 'sparse_dense': [5549.63, 5977.68]}, {'count': 5208333, 'sparse_dense': [10234.35, 41848.98]}, {'count': 4521181, 'sparse_dense': [13147.86, 30418.01]}, {'count': 2573770, 'sparse_dense': [9972.65, 15765.05]}, {'count': 2301292, 'sparse_dense': [11172.9, 11840.02]}, {'count': 2666475, 'sparse_dense': [10558.13, 3239.85]}, {'count': 5081034, 'sparse_dense': [28699.4, 22091.1]}, {'count': 1823809, 'sparse_dense': [9345.06, 8893.03]}, {'count': 4747898, 'sparse_dense': [18696.26, 28782.72]}]\n",
      "Krishna20200215\n",
      "[{'count': 6754022, 'sparse_dense': [14149.8, 53361.95]}, {'count': 3752666, 'sparse_dense': [10808.02, 26718.64]}, {'count': 4554545, 'sparse_dense': [2979.37, 4806.24]}, {'count': 1271616, 'sparse_dense': [4616.53, 5603.93]}, {'count': 1976453, 'sparse_dense': [2057.98, 17706.55]}, {'count': 2520866, 'sparse_dense': [5452.69, 19755.97]}, {'count': 3334549, 'sparse_dense': [15592.3, 17753.19]}, {'count': 2435164, 'sparse_dense': [8881.3, 15470.34]}, {'count': 1232705, 'sparse_dense': [1558.28, 10768.77]}, {'count': 5242711, 'sparse_dense': [7605.88, 44821.23]}, {'count': 4689617, 'sparse_dense': [9984.15, 35266.08]}, {'count': 2613068, 'sparse_dense': [6310.42, 19820.26]}, {'count': 2369700, 'sparse_dense': [1924.8, 21772.2]}, {'count': 2814300, 'sparse_dense': [3623.35, 11652.88]}, {'count': 5607832, 'sparse_dense': [12150.29, 43908.19]}, {'count': 2012540, 'sparse_dense': [1974.73, 18150.67]}, {'count': 4801865, 'sparse_dense': [2578.01, 45440.64]}]\n"
     ]
    }
   ],
   "source": [
    "clusterStats = {}\n",
    "for date in clusters:\n",
    "    print(date.split('\\\\')[-1].split('.')[0])\n",
    "    stats = zonal_stats(KrishnaShape, date, nodata = np.nan, stats=\"count\", add_stats={'sparse_dense':calculateArea})\n",
    "    print(stats)\n",
    "    clusterStats[date.split('\\\\')[-1].split('.')[0]] = stats"
   ]
  },
  {
   "cell_type": "code",
   "execution_count": 16,
   "metadata": {
    "scrolled": false
   },
   "outputs": [
    {
     "name": "stdout",
     "output_type": "stream",
     "text": [
      "Krishna20170210\n",
      "[{'min': 0.0, 'max': 0.7754522880454062, 'mean': 0.517032614527348, 'count': 5919129, 'sum': 3060382.7425946463, 'std': 0.12153121512149066}, {'min': 0.2718917538932857, 'max': 0.7816863100634632, 'mean': 0.46221770092736303, 'count': 2963245, 'sum': 1369664.2911845038, 'std': 0.11839616319471202}, {'min': 0.0, 'max': 0.6818638280779273, 'mean': 0.04312751011167327, 'count': 4270937, 'sum': 184194.8786538195, 'std': 0.12162333609548964}, {'min': 0.0, 'max': 0.7123952359947067, 'mean': 0.28237300912000113, 'count': 919405, 'sum': 259615.15644997463, 'std': 0.18587951329524208}, {'min': 0.2718922229026332, 'max': 0.7530821323146379, 'mean': 0.4857725156674777, 'count': 1843679, 'sum': 895608.5859132996, 'std': 0.09325577272722205}, {'min': 0.2718922229026332, 'max': 0.7699397376816731, 'mean': 0.5543923610688081, 'count': 2302353, 'sum': 1276406.9156838534, 'std': 0.12067541917735365}, {'min': 0.2718918918918919, 'max': 0.7445573294629898, 'mean': 0.42448986240046993, 'count': 2020005, 'sum': 857471.6444982613, 'std': 0.10858625392940409}, {'min': 0.2718917538932857, 'max': 0.7660084886510427, 'mean': 0.4652653259769468, 'count': 1997293, 'sum': 929271.178716474, 'std': 0.12197059931927723}, {'min': 0.2718918918918919, 'max': 0.765016004518923, 'mean': 0.5350291964288177, 'count': 1194925, 'sum': 639319.762542705, 'std': 0.11798237528976825}, {'min': 0.2718917538932857, 'max': 0.7657822506861848, 'mean': 0.5434682064932853, 'count': 4987699, 'sum': 2710655.8300583526, 'std': 0.11863741239882694}, {'min': 0.0, 'max': 0.7734561583077448, 'mean': 0.49401508819807305, 'count': 3884922, 'sum': 1919210.0844726344, 'std': 0.1580499160719567}, {'min': 0.2718917538932857, 'max': 0.7423557083408721, 'mean': 0.4445667684306977, 'count': 2037768, 'sum': 905923.934571486, 'std': 0.11324523122414724}, {'min': 0.2718922229026332, 'max': 0.7744591231093242, 'mean': 0.5355326268880473, 'count': 2315324, 'sum': 1239931.543816941, 'std': 0.11278329093122777}, {'min': 0.0, 'max': 0.7382613614934942, 'mean': 0.2030679623211705, 'count': 2410026, 'sum': 489399.0689610413, 'std': 0.22907278556475466}, {'min': 0.0, 'max': 0.7804363124560169, 'mean': 0.5035084066964487, 'count': 5012319, 'sum': 2523744.753544337, 'std': 0.11874408590313602}, {'min': 0.2718918918918919, 'max': 0.7651383246275876, 'mean': 0.5561589901988262, 'count': 1954109, 'sum': 1086795.288178438, 'std': 0.11503767350081524}, {'min': 0.2718920470858455, 'max': 0.7775831873905429, 'mean': 0.5704158857529014, 'count': 4769728, 'sum': 2720728.6219204147, 'std': 0.10514756327516112}]\n",
      "Krishna20180302\n",
      "[{'min': 0.0, 'max': 0.773497688751926, 'mean': 0.48557274744618206, 'count': 5451581, 'sum': 2647139.1640954046, 'std': 0.12263897078692333}, {'min': 0.2718917538932857, 'max': 0.7839080459770115, 'mean': 0.4359944415920685, 'count': 3036981, 'sum': 1324106.8352207218, 'std': 0.11507295088107906}, {'min': 0.0, 'max': 0.6907944514501891, 'mean': 0.020922140061309352, 'count': 4024266, 'sum': 84196.25689596514, 'std': 0.08306768891964877}, {'min': 0.0, 'max': 0.7491539763113367, 'mean': 0.30414103734528264, 'count': 885557, 'sum': 269334.22460837645, 'std': 0.21218035520913522}, {'min': 0.2718917538932857, 'max': 0.7790151383330434, 'mean': 0.38518347835119254, 'count': 1522974, 'sum': 586624.4227584291, 'std': 0.08813832768188373}, {'min': 0.2718920470858455, 'max': 0.7649260714954146, 'mean': 0.3935521395148074, 'count': 2025576, 'sum': 797169.7685498454, 'std': 0.08820929933856736}, {'min': 0.2718917538932857, 'max': 0.7543503970265247, 'mean': 0.3622008292729365, 'count': 1582894, 'sum': 573325.5194511556, 'std': 0.07485921370044041}, {'min': 0.2718917538932857, 'max': 0.7592518901711103, 'mean': 0.4210669714068918, 'count': 1586691, 'sum': 668103.1739285726, 'std': 0.11647161129214553}, {'min': 0.27189242374549033, 'max': 0.7735430157261795, 'mean': 0.5944572792184831, 'count': 1143703, 'sum': 679882.5736140168, 'std': 0.12174175263100236}, {'min': 0.2718917538932857, 'max': 0.7637130801687764, 'mean': 0.3915679384809439, 'count': 4175932, 'sum': 1635161.084476605, 'std': 0.09096623125986056}, {'min': 0.0, 'max': 0.7446373850868233, 'mean': 0.36367151400536385, 'count': 3205326, 'sum': 1165685.759300757, 'std': 0.12003951152754755}, {'min': 0.2718918918918919, 'max': 0.7703688268389248, 'mean': 0.4698719620211121, 'count': 2140758, 'sum': 1005882.1616723919, 'std': 0.13792981829239942}, {'min': 0.2718918918918919, 'max': 0.7724658519051042, 'mean': 0.5558798648795068, 'count': 2340082, 'sum': 1300804.465966966, 'std': 0.11626639238091249}, {'min': 0.0, 'max': 0.7510275983558427, 'mean': 0.24129182838111993, 'count': 2647748, 'sum': 638879.9560124535, 'std': 0.25203671315854875}, {'min': 0.0, 'max': 0.7931895168479229, 'mean': 0.467227618358468, 'count': 4657817, 'sum': 2176260.7436595843, 'std': 0.13212365641570678}, {'min': 0.2718918918918919, 'max': 0.7782485875706214, 'mean': 0.6027942726057658, 'count': 1904792, 'sum': 1148197.708105282, 'std': 0.1163731840509014}, {'min': 0.2718917538932857, 'max': 0.7675544794188862, 'mean': 0.5543719845650361, 'count': 4667905, 'sum': 2587755.758611055, 'std': 0.12245807818791885}]\n",
      "Krishna20190210\n",
      "[{'min': 0.0, 'max': 0.8148400272294077, 'mean': 0.5240696195381103, 'count': 5945961, 'sum': 3116097.5190584417, 'std': 0.12410757997425169}, {'min': 0.2718936267767079, 'max': 0.7807590467784643, 'mean': 0.47098427983547436, 'count': 3469926, 'sum': 1634280.5981923882, 'std': 0.12771298786211385}, {'min': 0.0, 'max': 0.8551155115511551, 'mean': 0.09235312190360785, 'count': 4530170, 'sum': 418375.3422540672, 'std': 0.21378611213211932}, {'min': 0.0, 'max': 0.8419294990723563, 'mean': 0.3713183105215162, 'count': 1133616, 'sum': 420932.3779001591, 'std': 0.22644711997773534}, {'min': 0.2718946765884373, 'max': 0.8396568789178489, 'mean': 0.6535192669385556, 'count': 1970520, 'sum': 1287772.7858877624, 'std': 0.11731456889361708}, {'min': 0.2718920470858455, 'max': 0.8892128279883382, 'mean': 0.6580502655257261, 'count': 2448305, 'sum': 1611107.7553379629, 'std': 0.16392039540745393}, {'min': 0.27189242374549033, 'max': 0.8794149125936497, 'mean': 0.4908948273302381, 'count': 2947763, 'sum': 1447041.6088954646, 'std': 0.14672679436160088}, {'min': 0.2718936267767079, 'max': 0.8621805241022323, 'mean': 0.48208308444076553, 'count': 2101760, 'sum': 1013222.9435542234, 'std': 0.13258324732808527}, {'min': 0.2718946765884373, 'max': 0.8261474269819193, 'mean': 0.51137677239172, 'count': 1152731, 'sum': 589479.8582158798, 'std': 0.13655624927705418}, {'min': 0.2718936267767079, 'max': 0.8806268756252084, 'mean': 0.6400964146814784, 'count': 5208333, 'sum': 3333835.2797672283, 'std': 0.14495435619390842}, {'min': 0.0, 'max': 0.8762343647136274, 'mean': 0.5662963209201932, 'count': 4521181, 'sum': 2560328.1665142803, 'std': 0.18878335026706805}, {'min': 0.2718936267767079, 'max': 0.8553777597731416, 'mean': 0.5541594823840039, 'count': 2573770, 'sum': 1426279.0509754778, 'std': 0.14793633326000064}, {'min': 0.2718936267767079, 'max': 0.8063504508036065, 'mean': 0.5037861533358137, 'count': 2301292, 'sum': 1159359.0443824814, 'std': 0.12545950977395565}, {'min': 0.0, 'max': 0.7629049483802065, 'mean': 0.21852717242993744, 'count': 2666475, 'sum': 582697.2421051174, 'std': 0.2267895936807275}, {'min': 0.0, 'max': 0.7629881154499151, 'mean': 0.47565002456841876, 'count': 5081034, 'sum': 2416793.946932971, 'std': 0.11379850103706282}, {'min': 0.2718932443703086, 'max': 0.8255882934546174, 'mean': 0.501802679598189, 'count': 1823809, 'sum': 915192.2432752935, 'std': 0.13375995063454255}, {'min': 0.2718946765884373, 'max': 0.814852492370295, 'mean': 0.5265493123009517, 'count': 4747898, 'sum': 2500002.426775064, 'std': 0.1150828515249526}]\n",
      "Krishna20200215\n",
      "[{'min': 0.0, 'max': 0.9840290381125227, 'mean': 0.6955186909641506, 'count': 6754022, 'sum': 4697548.540183075, 'std': 0.19470102768615402}, {'min': 0.2718917538932857, 'max': 0.9877175025588536, 'mean': 0.6470322391067873, 'count': 3752666, 'sum': 2428095.884599911, 'std': 0.1994717334169759}, {'min': 0.0, 'max': 0.902575784124759, 'mean': 0.09489584451892584, 'count': 4554545, 'sum': 432207.39417445107, 'std': 0.21848912549506638}, {'min': 0.0, 'max': 0.8930002356823002, 'mean': 0.42150280806522084, 'count': 1271616, 'sum': 535989.7147806638, 'std': 0.24752019469485875}, {'min': 0.2718936267767079, 'max': 0.9660601104068698, 'mean': 0.7182613974529298, 'count': 1976453, 'sum': 1419609.8937800354, 'std': 0.14008714563408395}, {'min': 0.2718917538932857, 'max': 0.9350535369492715, 'mean': 0.6831171195580359, 'count': 2520866, 'sum': 1722046.7207117877, 'std': 0.18719826629587713}, {'min': 0.2718917538932857, 'max': 0.9264382269726501, 'mean': 0.5408443682070114, 'count': 3334549, 'sum': 1803472.0471603218, 'std': 0.17558654057610884}, {'min': 0.2718929254302103, 'max': 0.9993194964273563, 'mean': 0.6049059525301728, 'count': 2435164, 'sum': 1473045.1989871857, 'std': 0.2021111392242254}, {'min': 0.27189409368635437, 'max': 0.9049756827534605, 'mean': 0.7335287636958718, 'count': 1232705, 'sum': 904224.5746517197, 'std': 0.15875803801159358}, {'min': 0.2718932443703086, 'max': 0.9936436717143391, 'mean': 0.6906280970622843, 'count': 5242711, 'sum': 3620763.5213775057, 'std': 0.15377305434784183}, {'min': 0.0, 'max': 0.9996265172735761, 'mean': 0.6405234430089373, 'count': 4689617, 'sum': 3003809.6272332435, 'std': 0.21382532094857562}, {'min': 0.2718932443703086, 'max': 0.9167179487179488, 'mean': 0.6325615285729604, 'count': 2613068, 'sum': 1652926.2883450887, 'std': 0.16299349701652624}, {'min': 0.2718946765884373, 'max': 0.9626291492635745, 'mean': 0.7793084552792041, 'count': 2369700, 'sum': 1846727.24647513, 'std': 0.1485265110737845}, {'min': 0.0, 'max': 0.9785202863961814, 'mean': 0.3730170213351654, 'count': 2814300, 'sum': 1049781.803143556, 'std': 0.3735814002953776}, {'min': 0.0, 'max': 0.999468791500664, 'mean': 0.6827738860972863, 'count': 5607832, 'sum': 3828881.2472207174, 'std': 0.18976638940383397}, {'min': 0.2718936267767079, 'max': 0.9271523178807947, 'mean': 0.7475711864819155, 'count': 2012540, 'sum': 1504516.9156423141, 'std': 0.14610739807342132}, {'min': 0.2718920470858455, 'max': 0.9574882995319812, 'mean': 0.7906289016676498, 'count': 4801865, 'sum': 3796493.250906329, 'std': 0.127238577997742}]\n"
     ]
    }
   ],
   "source": [
    "ndviStats = {}\n",
    "for date in ndvi:\n",
    "    print(date.split('\\\\')[-1].split('.')[0])\n",
    "    stats = zonal_stats(KrishnaShape, date, nodata = np.nan, stats=\"min max mean std sum count\")\n",
    "    print(stats)\n",
    "    ndviStats[date.split('\\\\')[-1].split('.')[0]] = stats"
   ]
  },
  {
   "cell_type": "code",
   "execution_count": 17,
   "metadata": {},
   "outputs": [
    {
     "name": "stdout",
     "output_type": "stream",
     "text": [
      "C:\\Users\\Hello\\Documents\\remote-sensing\\APIs\\SentinelSat\\KrishnaStats\n"
     ]
    }
   ],
   "source": [
    "shp_path = cwd + \"\\\\KrishnaStats\"\n",
    "if not os.path.exists(shp_path):\n",
    "    os.mkdir(shp_path)\n",
    "os.chdir(shp_path)\n",
    "print(os.getcwd())"
   ]
  },
  {
   "cell_type": "code",
   "execution_count": 18,
   "metadata": {},
   "outputs": [],
   "source": [
    "regions = list(KrishnaShape.index.values)"
   ]
  },
  {
   "cell_type": "code",
   "execution_count": 19,
   "metadata": {},
   "outputs": [
    {
     "name": "stdout",
     "output_type": "stream",
     "text": [
      "Krishna20170210\n",
      "Krishna20180302\n",
      "Krishna20190210\n",
      "Krishna20200215\n"
     ]
    }
   ],
   "source": [
    "for i in range(len(clusters)):\n",
    "    date = clusters[i].split('\\\\')[-1].split('.')[0]\n",
    "    sparse = []\n",
    "    dense = []\n",
    "    means = []\n",
    "    print(date)\n",
    "    for region in clusterStats[date]:\n",
    "        sparse.append(region[\"sparse_dense\"][0])\n",
    "        dense.append(region[\"sparse_dense\"][1])\n",
    "    for region in ndviStats[date]:\n",
    "        means.append(region[\"mean\"])\n",
    "    fileName = date + '.csv'\n",
    "    with open(fileName, 'w', newline='') as file:\n",
    "        writer = csv.writer(file)\n",
    "        writer.writerow([\"AC_NAME\", \"Sparse\", \"Dense\", \"Mean NDVI\"])\n",
    "        for i in range(len(regions)):\n",
    "            writer.writerow([regions[i], sparse[i], dense[i], means[i]])"
   ]
  },
  {
   "cell_type": "code",
   "execution_count": 21,
   "metadata": {},
   "outputs": [
    {
     "name": "stdout",
     "output_type": "stream",
     "text": [
      "Krishna20170210\n",
      "Krishna20180302\n",
      "Krishna20190210\n",
      "Krishna20200215\n"
     ]
    }
   ],
   "source": [
    "for i in range(len(clusters)):\n",
    "    date = clusters[i].split('\\\\')[-1].split('.')[0]\n",
    "    sparse = []\n",
    "    dense = []\n",
    "    means = []\n",
    "    print(date)\n",
    "    for region in clusterStats[date]:\n",
    "        sparse.append(region[\"sparse_dense\"][0])\n",
    "        dense.append(region[\"sparse_dense\"][1])\n",
    "    for region in ndviStats[date]:\n",
    "        means.append(region[\"mean\"])\n",
    "    dateShape = KrishnaShape.assign(sparseArea = sparse)\n",
    "    dateShape['denseArea'] = dense\n",
    "    dateShape['meanNDVI'] = means\n",
    "    dateShape.to_file(date)"
   ]
  },
  {
   "cell_type": "code",
   "execution_count": 22,
   "metadata": {},
   "outputs": [],
   "source": [
    "os.chdir(cwd)"
   ]
  },
  {
   "cell_type": "code",
   "execution_count": 23,
   "metadata": {},
   "outputs": [
    {
     "data": {
      "text/plain": [
       "'C:\\\\Users\\\\Hello\\\\Documents\\\\remote-sensing\\\\APIs\\\\SentinelSat'"
      ]
     },
     "execution_count": 23,
     "metadata": {},
     "output_type": "execute_result"
    }
   ],
   "source": [
    "os.getcwd()"
   ]
  },
  {
   "cell_type": "code",
   "execution_count": null,
   "metadata": {},
   "outputs": [],
   "source": []
  }
 ],
 "metadata": {
  "kernelspec": {
   "display_name": "Python 3",
   "language": "python",
   "name": "python3"
  },
  "language_info": {
   "codemirror_mode": {
    "name": "ipython",
    "version": 3
   },
   "file_extension": ".py",
   "mimetype": "text/x-python",
   "name": "python",
   "nbconvert_exporter": "python",
   "pygments_lexer": "ipython3",
   "version": "3.7.6"
  }
 },
 "nbformat": 4,
 "nbformat_minor": 2
}
