{
 "cells": [
  {
   "cell_type": "code",
   "execution_count": 15,
   "metadata": {},
   "outputs": [],
   "source": [
    "import fiona"
   ]
  },
  {
   "cell_type": "code",
   "execution_count": 3,
   "metadata": {},
   "outputs": [],
   "source": [
    "from rasterstats import zonal_stats, point_query"
   ]
  },
  {
   "cell_type": "code",
   "execution_count": 5,
   "metadata": {},
   "outputs": [],
   "source": [
    "import os\n",
    "from glob import glob"
   ]
  },
  {
   "cell_type": "code",
   "execution_count": 16,
   "metadata": {},
   "outputs": [],
   "source": [
    "constituencies = os.getcwd() + \"\\\\Command_area\\\\assembly-constituencies\\\\India_AC.shp\"\n",
    "clusters = os.getcwd() + \"\\\\working_ndvi\"\n",
    "godavari = glob(clusters + \"\\\\Godavari\\\\*.tif\")\n",
    "with fiona.open(constituencies) as src:\n",
    "    stats = zonal_stats(src, godavari[0])"
   ]
  },
  {
   "cell_type": "code",
   "execution_count": 17,
   "metadata": {},
   "outputs": [
    {
     "data": {
      "text/plain": [
       "dict"
      ]
     },
     "execution_count": 17,
     "metadata": {},
     "output_type": "execute_result"
    }
   ],
   "source": [
    "type(stats[0])"
   ]
  },
  {
   "cell_type": "code",
   "execution_count": 20,
   "metadata": {},
   "outputs": [
    {
     "name": "stdout",
     "output_type": "stream",
     "text": [
      "{'min': 0.0, 'max': 0.0, 'mean': 0.0, 'count': 1}\n",
      "{'min': 0.0, 'max': 0.0, 'mean': 0.0, 'count': 1}\n",
      "{'min': 0.0, 'max': 0.0, 'mean': 0.0, 'count': 1}\n",
      "{'min': 0.0, 'max': 0.0, 'mean': 0.0, 'count': 1}\n"
     ]
    }
   ],
   "source": [
    "for stat in stats:\n",
    "    if stat['min'] != None:\n",
    "        print(stat)"
   ]
  },
  {
   "cell_type": "code",
   "execution_count": null,
   "metadata": {},
   "outputs": [],
   "source": []
  }
 ],
 "metadata": {
  "kernelspec": {
   "display_name": "Python [conda env:.conda-pro] *",
   "language": "python",
   "name": "conda-env-.conda-pro-py"
  },
  "language_info": {
   "codemirror_mode": {
    "name": "ipython",
    "version": 3
   },
   "file_extension": ".py",
   "mimetype": "text/x-python",
   "name": "python",
   "nbconvert_exporter": "python",
   "pygments_lexer": "ipython3",
   "version": "3.7.6"
  }
 },
 "nbformat": 4,
 "nbformat_minor": 4
}
