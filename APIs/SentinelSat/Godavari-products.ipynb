{
 "cells": [
  {
   "cell_type": "code",
   "execution_count": 1,
   "metadata": {},
   "outputs": [],
   "source": [
    "from sentinelsat import SentinelAPI, read_geojson, geojson_to_wkt"
   ]
  },
  {
   "cell_type": "code",
   "execution_count": 2,
   "metadata": {},
   "outputs": [],
   "source": [
    "from datetime import date"
   ]
  },
  {
   "cell_type": "code",
   "execution_count": 3,
   "metadata": {},
   "outputs": [],
   "source": [
    "USERNAME = \"SumanjaliDamarla\"\n",
    "PASSWORD = \"D.Sumanjali1\"\n",
    "API_SOURCE = \"https://scihub.copernicus.eu/dhus\""
   ]
  },
  {
   "cell_type": "code",
   "execution_count": 4,
   "metadata": {},
   "outputs": [],
   "source": [
    "#download for different months and 2 areas, then check for processing level and cloud data\n",
    "STUDY_AREA = \"StudyArea2.geojson\"\n",
    "SATELLITE = \"Sentinel-2\"\n",
    "PROCESSING_LEVEL = [\"Level-1\", \"Level-2\"]"
   ]
  },
  {
   "cell_type": "code",
   "execution_count": 5,
   "metadata": {},
   "outputs": [],
   "source": [
    "api = SentinelAPI( USERNAME, PASSWORD, API_SOURCE)"
   ]
  },
  {
   "cell_type": "code",
   "execution_count": 6,
   "metadata": {},
   "outputs": [
    {
     "data": {
      "text/plain": [
       "'MULTIPOLYGON(((81.1080 16.7753,81.6577 16.9750,82.4383 17.2674,82.4779 17.2384,82.4838 17.0470,82.3035 16.5313,81.5531 16.1905,81.1327 16.6796,81.1080 16.7753)))'"
      ]
     },
     "execution_count": 6,
     "metadata": {},
     "output_type": "execute_result"
    }
   ],
   "source": [
    "footprint = geojson_to_wkt(read_geojson(STUDY_AREA))\n",
    "footprint"
   ]
  },
  {
   "cell_type": "code",
   "execution_count": 7,
   "metadata": {},
   "outputs": [],
   "source": [
    "NOV_BEGIN = \"20181101\"\n",
    "NOV_END = \"20181130\"\n",
    "\n",
    "DEC_BEGIN = \"20181201\"\n",
    "DEC_END = \"20181231\"\n",
    "\n",
    "JAN_BEGIN = \"20190101\"\n",
    "JAN_END = \"20190131\"\n",
    "\n",
    "FEB_BEGIN = \"20190201\"\n",
    "FEB_END = \"20190228\"\n",
    "\n",
    "MAR_BEGIN = \"20190301\"\n",
    "MAR_END = \"20190331\""
   ]
  },
  {
   "cell_type": "code",
   "execution_count": 7,
   "metadata": {},
   "outputs": [
    {
     "data": {
      "text/plain": [
       "str"
      ]
     },
     "execution_count": 7,
     "metadata": {},
     "output_type": "execute_result"
    }
   ],
   "source": [
    "type(footprint)"
   ]
  },
  {
   "cell_type": "code",
   "execution_count": 8,
   "metadata": {},
   "outputs": [],
   "source": [
    "def queryForProducts(footprint, beg, end, sat):\n",
    "    return api.query(footprint, date=(beg, end),platformname=sat)"
   ]
  },
  {
   "cell_type": "code",
   "execution_count": 9,
   "metadata": {},
   "outputs": [],
   "source": [
    "def getLevelURLs(df):\n",
    "    level1 = []\n",
    "    for i in range(df.shape[0]):\n",
    "        if PROCESSING_LEVEL[0] in df[\"processinglevel\"][i]:\n",
    "            level1.append(df[\"link\"][i])\n",
    "\n",
    "    level2 = []\n",
    "    for i in range(df.shape[0]):\n",
    "        if PROCESSING_LEVEL[1] in df[\"processinglevel\"][i]:\n",
    "            level2.append(df[\"link\"][i])\n",
    "    \n",
    "    return level1, level2"
   ]
  },
  {
   "cell_type": "code",
   "execution_count": 10,
   "metadata": {},
   "outputs": [],
   "source": [
    "nov_products = queryForProducts(footprint,NOV_BEGIN, NOV_END,SATELLITE)\n",
    "dec_products = queryForProducts(footprint,DEC_BEGIN, DEC_END,SATELLITE)\n",
    "jan_products = queryForProducts(footprint,JAN_BEGIN, JAN_END,SATELLITE)\n",
    "feb_products = queryForProducts(footprint,FEB_BEGIN, FEB_END,SATELLITE)\n",
    "mar_products = queryForProducts(footprint,MAR_BEGIN, MAR_END,SATELLITE)"
   ]
  },
  {
   "cell_type": "code",
   "execution_count": 11,
   "metadata": {},
   "outputs": [],
   "source": [
    "nov_df = api.to_dataframe(nov_products)\n",
    "dec_df = api.to_dataframe(dec_products)\n",
    "jan_df = api.to_dataframe(jan_products)\n",
    "feb_df = api.to_dataframe(feb_products)\n",
    "mar_df = api.to_dataframe(mar_products)"
   ]
  },
  {
   "cell_type": "code",
   "execution_count": 12,
   "metadata": {},
   "outputs": [],
   "source": [
    "nov_level1, nov_level2 = getLevelURLs(nov_df)\n",
    "dec_level1, dec_level2 = getLevelURLs(dec_df)\n",
    "jan_level1, jan_level2 = getLevelURLs(jan_df)\n",
    "feb_level1, feb_level2 = getLevelURLs(feb_df)\n",
    "mar_level1, mar_level2 = getLevelURLs(mar_df)"
   ]
  },
  {
   "cell_type": "code",
   "execution_count": 13,
   "metadata": {},
   "outputs": [
    {
     "name": "stdout",
     "output_type": "stream",
     "text": [
      "      Total  L1  L2\n",
      "Nov   31     31  0\n",
      "Dec   47     32  15\n",
      "Jan   60     30  30\n",
      "Feb   52     26  26\n",
      "Mar   60     30  30\n"
     ]
    }
   ],
   "source": [
    "months = [\n",
    "    \"Nov\", \"Dec\", \"Jan\", \"Feb\", \"Mar\"\n",
    "]\n",
    "levelCount = [\n",
    "    [nov_df.shape[0], len(nov_level1), len(nov_level2)],\n",
    "    [dec_df.shape[0], len(dec_level1), len(dec_level2)],\n",
    "    [jan_df.shape[0], len(jan_level1), len(jan_level2)],\n",
    "    [feb_df.shape[0], len(feb_level1), len(feb_level2)],\n",
    "    [mar_df.shape[0], len(mar_level1), len(mar_level2)]\n",
    "]\n",
    "\n",
    "print(\"      Total  L1  L2\")\n",
    "for i in range(len(months)):\n",
    "    print(months[i] + \"   \" + str(levelCount[i][0]) + \"     \" + str(levelCount[i][1]) + \"  \" + str(levelCount[i][2]))"
   ]
  },
  {
   "cell_type": "code",
   "execution_count": 1,
   "metadata": {},
   "outputs": [],
   "source": [
    "#download using processes\n",
    "#arrange using filenames\n",
    "#use loops to perform tasks for all months together\n",
    "#use print and return statements in functions to show the processes\n",
    "#refactor the code\n",
    "#clean code\n",
    "#delete unnecessary things\n",
    "#mail\n",
    "#github\n",
    "#update\n",
    "#stacking, mosaic and clip using QGIS"
   ]
  },
  {
   "cell_type": "code",
   "execution_count": null,
   "metadata": {},
   "outputs": [],
   "source": []
  }
 ],
 "metadata": {
  "kernelspec": {
   "display_name": "Python 3",
   "language": "python",
   "name": "python3"
  },
  "language_info": {
   "codemirror_mode": {
    "name": "ipython",
    "version": 3
   },
   "file_extension": ".py",
   "mimetype": "text/x-python",
   "name": "python",
   "nbconvert_exporter": "python",
   "pygments_lexer": "ipython3",
   "version": "3.7.6"
  }
 },
 "nbformat": 4,
 "nbformat_minor": 2
}
