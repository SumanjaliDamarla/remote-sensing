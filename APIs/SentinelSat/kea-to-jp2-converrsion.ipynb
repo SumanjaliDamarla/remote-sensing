{
 "cells": [
  {
   "cell_type": "code",
   "execution_count": 1,
   "metadata": {},
   "outputs": [],
   "source": [
    "import os\n",
    "from glob import glob\n",
    "import earthpy.plot as ep"
   ]
  },
  {
   "cell_type": "code",
   "execution_count": 2,
   "metadata": {},
   "outputs": [],
   "source": [
    "import gdal\n",
    "import numpy as np"
   ]
  },
  {
   "cell_type": "code",
   "execution_count": 3,
   "metadata": {},
   "outputs": [],
   "source": [
    "import matplotlib.pyplot as plt"
   ]
  },
  {
   "cell_type": "code",
   "execution_count": 4,
   "metadata": {},
   "outputs": [],
   "source": [
    "data = os.getcwd() + \"\\\\rsgislib_clusters\""
   ]
  },
  {
   "cell_type": "code",
   "execution_count": 5,
   "metadata": {},
   "outputs": [
    {
     "data": {
      "text/plain": [
       "['C:\\\\Users\\\\Hello\\\\Documents\\\\remote-sensing\\\\APIs\\\\SentinelSat\\\\rsgislib_clusters\\\\Godavari20180225_sub_clusters_ndvi.kea',\n",
       " 'C:\\\\Users\\\\Hello\\\\Documents\\\\remote-sensing\\\\APIs\\\\SentinelSat\\\\rsgislib_clusters\\\\Godavari20180225_sub_five_clusters_ndvi.kea',\n",
       " 'C:\\\\Users\\\\Hello\\\\Documents\\\\remote-sensing\\\\APIs\\\\SentinelSat\\\\rsgislib_clusters\\\\Godavari20180225_sub_four_clusters_ndvi.kea',\n",
       " 'C:\\\\Users\\\\Hello\\\\Documents\\\\remote-sensing\\\\APIs\\\\SentinelSat\\\\rsgislib_clusters\\\\Godavari20190215_sub_clusters_ndvi.kea',\n",
       " 'C:\\\\Users\\\\Hello\\\\Documents\\\\remote-sensing\\\\APIs\\\\SentinelSat\\\\rsgislib_clusters\\\\Godavari20190215_sub_five_clusters_ndvi.kea',\n",
       " 'C:\\\\Users\\\\Hello\\\\Documents\\\\remote-sensing\\\\APIs\\\\SentinelSat\\\\rsgislib_clusters\\\\Godavari20190215_sub_four_clusters_ndvi.kea',\n",
       " 'C:\\\\Users\\\\Hello\\\\Documents\\\\remote-sensing\\\\APIs\\\\SentinelSat\\\\rsgislib_clusters\\\\Krishna20170210_sub_clusters_ndvi.kea',\n",
       " 'C:\\\\Users\\\\Hello\\\\Documents\\\\remote-sensing\\\\APIs\\\\SentinelSat\\\\rsgislib_clusters\\\\Krishna20170210_sub_five_clusters_ndvi.kea',\n",
       " 'C:\\\\Users\\\\Hello\\\\Documents\\\\remote-sensing\\\\APIs\\\\SentinelSat\\\\rsgislib_clusters\\\\Krishna20170210_sub_four_clusters_ndvi.kea',\n",
       " 'C:\\\\Users\\\\Hello\\\\Documents\\\\remote-sensing\\\\APIs\\\\SentinelSat\\\\rsgislib_clusters\\\\Krishna20180302_sub_clusters_ndvi.kea',\n",
       " 'C:\\\\Users\\\\Hello\\\\Documents\\\\remote-sensing\\\\APIs\\\\SentinelSat\\\\rsgislib_clusters\\\\Krishna20180302_sub_five_clusters_ndvi.kea',\n",
       " 'C:\\\\Users\\\\Hello\\\\Documents\\\\remote-sensing\\\\APIs\\\\SentinelSat\\\\rsgislib_clusters\\\\Krishna20180302_sub_four_clusters_ndvi.kea',\n",
       " 'C:\\\\Users\\\\Hello\\\\Documents\\\\remote-sensing\\\\APIs\\\\SentinelSat\\\\rsgislib_clusters\\\\Krishna20190210_sub_clusters_ndvi.kea',\n",
       " 'C:\\\\Users\\\\Hello\\\\Documents\\\\remote-sensing\\\\APIs\\\\SentinelSat\\\\rsgislib_clusters\\\\Krishna20190210_sub_five_clusters_ndvi.kea',\n",
       " 'C:\\\\Users\\\\Hello\\\\Documents\\\\remote-sensing\\\\APIs\\\\SentinelSat\\\\rsgislib_clusters\\\\Krishna20190210_sub_four_clusters_ndvi.kea',\n",
       " 'C:\\\\Users\\\\Hello\\\\Documents\\\\remote-sensing\\\\APIs\\\\SentinelSat\\\\rsgislib_clusters\\\\Krishna20200215_sub_clusters_ndvi.kea',\n",
       " 'C:\\\\Users\\\\Hello\\\\Documents\\\\remote-sensing\\\\APIs\\\\SentinelSat\\\\rsgislib_clusters\\\\Krishna20200215_sub_five_clusters_ndvi.kea',\n",
       " 'C:\\\\Users\\\\Hello\\\\Documents\\\\remote-sensing\\\\APIs\\\\SentinelSat\\\\rsgislib_clusters\\\\Krishna20200215_sub_four_clusters_ndvi.kea']"
      ]
     },
     "execution_count": 5,
     "metadata": {},
     "output_type": "execute_result"
    }
   ],
   "source": [
    "scenes = glob(data+\"\\\\*.kea\")\n",
    "scenes"
   ]
  },
  {
   "cell_type": "code",
   "execution_count": 6,
   "metadata": {
    "scrolled": false
   },
   "outputs": [
    {
     "name": "stdout",
     "output_type": "stream",
     "text": [
      "Godavari20180225_sub_clusters_ndvi.kea\n",
      "Converted Godavari20180225_sub_clusters_ndvi...\n",
      "Godavari20180225_sub_five_clusters_ndvi.kea\n",
      "Converted Godavari20180225_sub_five_clusters_ndvi...\n",
      "Godavari20180225_sub_four_clusters_ndvi.kea\n",
      "Converted Godavari20180225_sub_four_clusters_ndvi...\n",
      "Godavari20190215_sub_clusters_ndvi.kea\n",
      "Converted Godavari20190215_sub_clusters_ndvi...\n",
      "Godavari20190215_sub_five_clusters_ndvi.kea\n",
      "Converted Godavari20190215_sub_five_clusters_ndvi...\n",
      "Godavari20190215_sub_four_clusters_ndvi.kea\n",
      "Converted Godavari20190215_sub_four_clusters_ndvi...\n",
      "Krishna20170210_sub_clusters_ndvi.kea\n",
      "Converted Krishna20170210_sub_clusters_ndvi...\n",
      "Krishna20170210_sub_five_clusters_ndvi.kea\n",
      "Converted Krishna20170210_sub_five_clusters_ndvi...\n",
      "Krishna20170210_sub_four_clusters_ndvi.kea\n",
      "Converted Krishna20170210_sub_four_clusters_ndvi...\n",
      "Krishna20180302_sub_clusters_ndvi.kea\n",
      "Converted Krishna20180302_sub_clusters_ndvi...\n",
      "Krishna20180302_sub_five_clusters_ndvi.kea\n",
      "Converted Krishna20180302_sub_five_clusters_ndvi...\n",
      "Krishna20180302_sub_four_clusters_ndvi.kea\n",
      "Converted Krishna20180302_sub_four_clusters_ndvi...\n",
      "Krishna20190210_sub_clusters_ndvi.kea\n",
      "Converted Krishna20190210_sub_clusters_ndvi...\n",
      "Krishna20190210_sub_five_clusters_ndvi.kea\n",
      "Converted Krishna20190210_sub_five_clusters_ndvi...\n",
      "Krishna20190210_sub_four_clusters_ndvi.kea\n",
      "Converted Krishna20190210_sub_four_clusters_ndvi...\n",
      "Krishna20200215_sub_clusters_ndvi.kea\n",
      "Converted Krishna20200215_sub_clusters_ndvi...\n",
      "Krishna20200215_sub_five_clusters_ndvi.kea\n",
      "Converted Krishna20200215_sub_five_clusters_ndvi...\n",
      "Krishna20200215_sub_four_clusters_ndvi.kea\n",
      "Converted Krishna20200215_sub_four_clusters_ndvi...\n"
     ]
    }
   ],
   "source": [
    "#conversion to tif\n",
    "\n",
    "for file in scenes:\n",
    "    print(file.split('\\\\')[-1])\n",
    "    dst = file.split('\\\\')[-1].split('.')[0] + \".tif\"\n",
    "    dst = data +\"\\\\\"+ dst\n",
    "    if not os.path.exists(dst):\n",
    "        os.system(\"gdal_translate \"+file+\" \"+dst)\n",
    "    if os.path.exists(dst):\n",
    "        print(\"Converted \" + file.split('\\\\')[-1].split('.')[0] + \"...\")\n",
    "    else:\n",
    "        print(\"Failed Converting \" + file.split('\\\\')[-1].split('.')[0] + \"...\")"
   ]
  },
  {
   "cell_type": "code",
   "execution_count": null,
   "metadata": {},
   "outputs": [],
   "source": []
  }
 ],
 "metadata": {
  "kernelspec": {
   "display_name": "Python 3",
   "language": "python",
   "name": "python3"
  },
  "language_info": {
   "codemirror_mode": {
    "name": "ipython",
    "version": 3
   },
   "file_extension": ".py",
   "mimetype": "text/x-python",
   "name": "python",
   "nbconvert_exporter": "python",
   "pygments_lexer": "ipython3",
   "version": "3.7.6"
  }
 },
 "nbformat": 4,
 "nbformat_minor": 4
}
