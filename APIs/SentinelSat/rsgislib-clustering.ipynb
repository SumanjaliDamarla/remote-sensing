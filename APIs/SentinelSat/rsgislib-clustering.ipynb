{
 "cells": [
  {
   "cell_type": "code",
   "execution_count": 1,
   "metadata": {},
   "outputs": [],
   "source": [
    "import rsgislib"
   ]
  },
  {
   "cell_type": "code",
   "execution_count": 2,
   "metadata": {},
   "outputs": [],
   "source": [
    "from rsgislib import classification"
   ]
  },
  {
   "cell_type": "code",
   "execution_count": 3,
   "metadata": {},
   "outputs": [],
   "source": [
    "from rsgislib.classification import clustersklearn"
   ]
  },
  {
   "cell_type": "code",
   "execution_count": 4,
   "metadata": {},
   "outputs": [],
   "source": [
    "from rsgislib.segmentation import segutils\n",
    "from sklearn.cluster import MiniBatchKMeans"
   ]
  },
  {
   "cell_type": "code",
   "execution_count": 5,
   "metadata": {},
   "outputs": [],
   "source": [
    "import os"
   ]
  },
  {
   "cell_type": "code",
   "execution_count": 6,
   "metadata": {},
   "outputs": [],
   "source": [
    "import numpy as np"
   ]
  },
  {
   "cell_type": "code",
   "execution_count": 7,
   "metadata": {},
   "outputs": [],
   "source": [
    "from glob import glob"
   ]
  },
  {
   "cell_type": "code",
   "execution_count": 8,
   "metadata": {},
   "outputs": [],
   "source": [
    "cwd = os.getcwd()"
   ]
  },
  {
   "cell_type": "code",
   "execution_count": 9,
   "metadata": {},
   "outputs": [
    {
     "name": "stdout",
     "output_type": "stream",
     "text": [
      "True\n"
     ]
    }
   ],
   "source": [
    "ndvi_images = os.getcwd() + \"\\\\ndvi_images\"\n",
    "print(os.path.exists(ndvi_images))"
   ]
  },
  {
   "cell_type": "code",
   "execution_count": 10,
   "metadata": {},
   "outputs": [],
   "source": [
    "ndvi_files = glob(ndvi_images+\"\\\\*tif\")"
   ]
  },
  {
   "cell_type": "code",
   "execution_count": 11,
   "metadata": {},
   "outputs": [
    {
     "data": {
      "text/plain": [
       "['C:\\\\Users\\\\Hello\\\\Documents\\\\remote-sensing\\\\APIs\\\\SentinelSat\\\\ndvi_images\\\\Godavari20180225.tif',\n",
       " 'C:\\\\Users\\\\Hello\\\\Documents\\\\remote-sensing\\\\APIs\\\\SentinelSat\\\\ndvi_images\\\\Godavari20190215.tif',\n",
       " 'C:\\\\Users\\\\Hello\\\\Documents\\\\remote-sensing\\\\APIs\\\\SentinelSat\\\\ndvi_images\\\\Krishna20170210.tif',\n",
       " 'C:\\\\Users\\\\Hello\\\\Documents\\\\remote-sensing\\\\APIs\\\\SentinelSat\\\\ndvi_images\\\\Krishna20180302.tif',\n",
       " 'C:\\\\Users\\\\Hello\\\\Documents\\\\remote-sensing\\\\APIs\\\\SentinelSat\\\\ndvi_images\\\\Krishna20190210.tif',\n",
       " 'C:\\\\Users\\\\Hello\\\\Documents\\\\remote-sensing\\\\APIs\\\\SentinelSat\\\\ndvi_images\\\\Krishna20200215.tif']"
      ]
     },
     "execution_count": 11,
     "metadata": {},
     "output_type": "execute_result"
    }
   ],
   "source": [
    "ndvi_files"
   ]
  },
  {
   "cell_type": "code",
   "execution_count": 12,
   "metadata": {},
   "outputs": [],
   "source": [
    "path = os.getcwd()+\"\\\\rsgislib_clusters\"\n",
    "if not os.path.exists(path):\n",
    "    os.mkdir(path)"
   ]
  },
  {
   "cell_type": "code",
   "execution_count": 13,
   "metadata": {},
   "outputs": [],
   "source": [
    "def cluster_ndvi(ndvi_img):\n",
    "    input_img = ndvi_img\n",
    "    output_img = ndvi_img.split('\\\\')[-1].split('.')[0] + \"_sub_four_clusters_ndvi.kea\"\n",
    "    print(output_img)\n",
    "    out_path = path + \"\\\\\" + output_img\n",
    "    if not os.path.exists(out_path):\n",
    "        os.chdir(path)\n",
    "        print(os.getcwd())\n",
    "        print(\"Defining Clusterer\")\n",
    "        sklclusterer = MiniBatchKMeans(n_clusters=4, init='k-means++', max_iter=100, batch_size=100)\n",
    "        print(\"Applying clusterer\")\n",
    "        clustersklearn.img_pixel_cluster(input_img, output_img, gdalformat='KEA', noDataVal=np.nan, clusterer=sklclusterer)\n",
    "        os.chdir('..')\n",
    "    print(os.getcwd())"
   ]
  },
  {
   "cell_type": "code",
   "execution_count": 14,
   "metadata": {},
   "outputs": [
    {
     "name": "stdout",
     "output_type": "stream",
     "text": [
      "Godavari20180225_sub_four_clusters_ndvi.kea\n",
      "C:\\Users\\Hello\\Documents\\remote-sensing\\APIs\\SentinelSat\n",
      "Godavari20190215_sub_four_clusters_ndvi.kea\n",
      "C:\\Users\\Hello\\Documents\\remote-sensing\\APIs\\SentinelSat\n",
      "Krishna20170210_sub_four_clusters_ndvi.kea\n",
      "C:\\Users\\Hello\\Documents\\remote-sensing\\APIs\\SentinelSat\n",
      "Krishna20180302_sub_four_clusters_ndvi.kea\n",
      "C:\\Users\\Hello\\Documents\\remote-sensing\\APIs\\SentinelSat\\rsgislib_clusters\n",
      "Defining Clusterer\n",
      "Applying clusterer\n",
      "Perform Clustering\n",
      "Performed Clustering\n",
      "(11197, 12427)\n",
      "C:\\Users\\Hello\\Documents\\remote-sensing\\APIs\\SentinelSat\n",
      "Krishna20190210_sub_four_clusters_ndvi.kea\n",
      "C:\\Users\\Hello\\Documents\\remote-sensing\\APIs\\SentinelSat\\rsgislib_clusters\n",
      "Defining Clusterer\n",
      "Applying clusterer\n",
      "Perform Clustering\n",
      "Performed Clustering\n",
      "(11197, 12427)\n",
      "C:\\Users\\Hello\\Documents\\remote-sensing\\APIs\\SentinelSat\n",
      "Krishna20200215_sub_four_clusters_ndvi.kea\n",
      "C:\\Users\\Hello\\Documents\\remote-sensing\\APIs\\SentinelSat\\rsgislib_clusters\n",
      "Defining Clusterer\n",
      "Applying clusterer\n",
      "Perform Clustering\n",
      "Performed Clustering\n",
      "(11197, 12427)\n",
      "C:\\Users\\Hello\\Documents\\remote-sensing\\APIs\\SentinelSat\n"
     ]
    }
   ],
   "source": [
    "for image in ndvi_files:\n",
    "    cluster_ndvi(image)"
   ]
  },
  {
   "cell_type": "code",
   "execution_count": null,
   "metadata": {},
   "outputs": [],
   "source": []
  }
 ],
 "metadata": {
  "kernelspec": {
   "display_name": "Python [conda env:.conda-project_env]",
   "language": "python",
   "name": "conda-env-.conda-project_env-py"
  },
  "language_info": {
   "codemirror_mode": {
    "name": "ipython",
    "version": 3
   },
   "file_extension": ".py",
   "mimetype": "text/x-python",
   "name": "python",
   "nbconvert_exporter": "python",
   "pygments_lexer": "ipython3",
   "version": "3.7.6"
  }
 },
 "nbformat": 4,
 "nbformat_minor": 4
}
